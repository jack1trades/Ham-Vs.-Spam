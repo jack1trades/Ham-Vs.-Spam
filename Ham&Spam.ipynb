{
  "nbformat": 4,
  "nbformat_minor": 0,
  "metadata": {
    "colab": {
      "name": "Ham&Spam.ipynb",
      "provenance": [],
      "collapsed_sections": [
        "uOrJe8tb9DAm",
        "mH3MQkc0w-t4",
        "u74Nm02SxHMA",
        "ZUy7pUwsxePd",
        "K4VOPLZ4xsLW",
        "d7hBVIMSyTP4",
        "AdXqetPiVgbV",
        "ZEkQ6olFVnei",
        "1pYi6lly_gt7",
        "IzGLB1quXUUg",
        "zlTAI7uqzLk2",
        "TuSKfTxy0Lny",
        "I_0TtyoOYO0U",
        "t01f4EWmY2C3",
        "hD27qRrkJ4us"
      ]
    },
    "kernelspec": {
      "name": "python3",
      "display_name": "Python 3"
    },
    "language_info": {
      "name": "python"
    }
  },
  "cells": [
    {
      "cell_type": "markdown",
      "metadata": {
        "id": "dJtWiIUpMe74"
      },
      "source": [
        "**SPAM VS HAM MAIL PREDICTION**"
      ]
    },
    {
      "cell_type": "markdown",
      "metadata": {
        "id": "_NJP5of57Cr_"
      },
      "source": [
        "**Spam mails form an accountable part of our cyberlives.**"
      ]
    },
    {
      "cell_type": "markdown",
      "metadata": {
        "id": "v_KPfCTn8YlB"
      },
      "source": [
        "**Perhaps, a system to categorize the mails as they reach the inbox - is a simple step that goes a long way.**"
      ]
    },
    {
      "cell_type": "markdown",
      "metadata": {
        "id": "Wmy71Vp98i5D"
      },
      "source": [
        "**In Machine Learning, a number of base and ensemble algorithms are used for effective classifiation.**"
      ]
    },
    {
      "cell_type": "markdown",
      "metadata": {
        "id": "SkWKaxCY8z14"
      },
      "source": [
        "**I have explored most of those classification algorithms here.**"
      ]
    },
    {
      "cell_type": "markdown",
      "metadata": {
        "id": "BoqIQlqt9AF9"
      },
      "source": [
        "**----------------------------------------------------------------------------**"
      ]
    },
    {
      "cell_type": "markdown",
      "metadata": {
        "id": "uOrJe8tb9DAm"
      },
      "source": [
        "##### **Import Libraries**"
      ]
    },
    {
      "cell_type": "code",
      "metadata": {
        "id": "C17cCfOpwrIe"
      },
      "source": [
        "import pandas as pd\n",
        "import numpy as np"
      ],
      "execution_count": 1,
      "outputs": []
    },
    {
      "cell_type": "code",
      "metadata": {
        "id": "NARnEz5uw9EP"
      },
      "source": [
        "from sklearn.preprocessing import LabelEncoder\n",
        "from sklearn.model_selection import train_test_split\n",
        "from sklearn.linear_model import LogisticRegression"
      ],
      "execution_count": 2,
      "outputs": []
    },
    {
      "cell_type": "markdown",
      "metadata": {
        "id": "mH3MQkc0w-t4"
      },
      "source": [
        "##### **Dataset**"
      ]
    },
    {
      "cell_type": "code",
      "metadata": {
        "colab": {
          "base_uri": "https://localhost:8080/",
          "height": 0
        },
        "id": "3TpSqCTOw_dU",
        "outputId": "d7e7fa26-4f2b-4484-bdc7-41219fe969f3"
      },
      "source": [
        "maildf = pd.read_csv(\"mail_data.csv\")\n",
        "maildf.head()"
      ],
      "execution_count": 3,
      "outputs": [
        {
          "output_type": "execute_result",
          "data": {
            "text/html": [
              "<div>\n",
              "<style scoped>\n",
              "    .dataframe tbody tr th:only-of-type {\n",
              "        vertical-align: middle;\n",
              "    }\n",
              "\n",
              "    .dataframe tbody tr th {\n",
              "        vertical-align: top;\n",
              "    }\n",
              "\n",
              "    .dataframe thead th {\n",
              "        text-align: right;\n",
              "    }\n",
              "</style>\n",
              "<table border=\"1\" class=\"dataframe\">\n",
              "  <thead>\n",
              "    <tr style=\"text-align: right;\">\n",
              "      <th></th>\n",
              "      <th>Category</th>\n",
              "      <th>Message</th>\n",
              "    </tr>\n",
              "  </thead>\n",
              "  <tbody>\n",
              "    <tr>\n",
              "      <th>0</th>\n",
              "      <td>ham</td>\n",
              "      <td>Go until jurong point, crazy.. Available only ...</td>\n",
              "    </tr>\n",
              "    <tr>\n",
              "      <th>1</th>\n",
              "      <td>ham</td>\n",
              "      <td>Ok lar... Joking wif u oni...</td>\n",
              "    </tr>\n",
              "    <tr>\n",
              "      <th>2</th>\n",
              "      <td>spam</td>\n",
              "      <td>Free entry in 2 a wkly comp to win FA Cup fina...</td>\n",
              "    </tr>\n",
              "    <tr>\n",
              "      <th>3</th>\n",
              "      <td>ham</td>\n",
              "      <td>U dun say so early hor... U c already then say...</td>\n",
              "    </tr>\n",
              "    <tr>\n",
              "      <th>4</th>\n",
              "      <td>ham</td>\n",
              "      <td>Nah I don't think he goes to usf, he lives aro...</td>\n",
              "    </tr>\n",
              "  </tbody>\n",
              "</table>\n",
              "</div>"
            ],
            "text/plain": [
              "  Category                                            Message\n",
              "0      ham  Go until jurong point, crazy.. Available only ...\n",
              "1      ham                      Ok lar... Joking wif u oni...\n",
              "2     spam  Free entry in 2 a wkly comp to win FA Cup fina...\n",
              "3      ham  U dun say so early hor... U c already then say...\n",
              "4      ham  Nah I don't think he goes to usf, he lives aro..."
            ]
          },
          "metadata": {},
          "execution_count": 3
        }
      ]
    },
    {
      "cell_type": "code",
      "metadata": {
        "colab": {
          "base_uri": "https://localhost:8080/",
          "height": 0
        },
        "id": "RSF_T1RjBS8a",
        "outputId": "db041d3e-e45b-4ec6-c61f-5c40c5233969"
      },
      "source": [
        "maildf[\"Message\"][2]"
      ],
      "execution_count": 4,
      "outputs": [
        {
          "output_type": "execute_result",
          "data": {
            "application/vnd.google.colaboratory.intrinsic+json": {
              "type": "string"
            },
            "text/plain": [
              "\"Free entry in 2 a wkly comp to win FA Cup final tkts 21st May 2005. Text FA to 87121 to receive entry question(std txt rate)T&C's apply 08452810075over18's\""
            ]
          },
          "metadata": {},
          "execution_count": 4
        }
      ]
    },
    {
      "cell_type": "markdown",
      "metadata": {
        "id": "u74Nm02SxHMA"
      },
      "source": [
        "##### **Label Encoding**"
      ]
    },
    {
      "cell_type": "code",
      "metadata": {
        "id": "WYQFZh2PxBah"
      },
      "source": [
        "le = LabelEncoder()\n",
        "target = maildf[\"Category\"]\n",
        "maildf[\"Category\"] = le.fit_transform(maildf[\"Category\"])"
      ],
      "execution_count": 5,
      "outputs": []
    },
    {
      "cell_type": "code",
      "metadata": {
        "colab": {
          "base_uri": "https://localhost:8080/"
        },
        "id": "-f9_bbDBxXIi",
        "outputId": "1dfa757b-46df-4eef-c5e2-26b96ae9b6ce"
      },
      "source": [
        "maildf[\"Category\"]"
      ],
      "execution_count": 6,
      "outputs": [
        {
          "output_type": "execute_result",
          "data": {
            "text/plain": [
              "0       0\n",
              "1       0\n",
              "2       1\n",
              "3       0\n",
              "4       0\n",
              "       ..\n",
              "5567    1\n",
              "5568    0\n",
              "5569    0\n",
              "5570    0\n",
              "5571    0\n",
              "Name: Category, Length: 5572, dtype: int64"
            ]
          },
          "metadata": {},
          "execution_count": 6
        }
      ]
    },
    {
      "cell_type": "markdown",
      "metadata": {
        "id": "ZUy7pUwsxePd"
      },
      "source": [
        "##### **The Split**"
      ]
    },
    {
      "cell_type": "code",
      "metadata": {
        "id": "vpBtHU4PxZ_r"
      },
      "source": [
        "X = maildf.drop(columns=['Category'])\n",
        "y = maildf[\"Category\"]"
      ],
      "execution_count": 7,
      "outputs": []
    },
    {
      "cell_type": "code",
      "metadata": {
        "id": "-HZE1A7hxaEm"
      },
      "source": [
        "X_train, X_test, y_train, y_test = train_test_split(X, y, test_size=0.3)"
      ],
      "execution_count": 8,
      "outputs": []
    },
    {
      "cell_type": "code",
      "metadata": {
        "colab": {
          "base_uri": "https://localhost:8080/"
        },
        "id": "KcDEyrZpxjxk",
        "outputId": "604233c6-9213-44b4-946b-a64baa119ba4"
      },
      "source": [
        "X_train.shape, X_test.shape, y_train.shape, y_test.shape"
      ],
      "execution_count": 9,
      "outputs": [
        {
          "output_type": "execute_result",
          "data": {
            "text/plain": [
              "((3900, 1), (1672, 1), (3900,), (1672,))"
            ]
          },
          "metadata": {},
          "execution_count": 9
        }
      ]
    },
    {
      "cell_type": "markdown",
      "metadata": {
        "id": "K4VOPLZ4xsLW"
      },
      "source": [
        "##### **Imbalance upsampling**"
      ]
    },
    {
      "cell_type": "code",
      "metadata": {
        "colab": {
          "base_uri": "https://localhost:8080/"
        },
        "id": "EiJU-9SIxjzS",
        "outputId": "667bf2ea-8353-464b-8a0a-983b8f77011b"
      },
      "source": [
        "from collections import Counter\n",
        "Counter(y_train)"
      ],
      "execution_count": 10,
      "outputs": [
        {
          "output_type": "execute_result",
          "data": {
            "text/plain": [
              "Counter({0: 3372, 1: 528})"
            ]
          },
          "metadata": {},
          "execution_count": 10
        }
      ]
    },
    {
      "cell_type": "code",
      "metadata": {
        "colab": {
          "base_uri": "https://localhost:8080/",
          "height": 0
        },
        "id": "yXCD1qaQxj1p",
        "outputId": "5b000e36-2a76-4faf-f9e5-cbb0e9effe51"
      },
      "source": [
        "import matplotlib.pyplot as plt\n",
        "plt.figure(figsize=(10,7))\n",
        "plt.hist(y_train)"
      ],
      "execution_count": 11,
      "outputs": [
        {
          "output_type": "execute_result",
          "data": {
            "text/plain": [
              "(array([3372.,    0.,    0.,    0.,    0.,    0.,    0.,    0.,    0.,\n",
              "         528.]),\n",
              " array([0. , 0.1, 0.2, 0.3, 0.4, 0.5, 0.6, 0.7, 0.8, 0.9, 1. ]),\n",
              " <a list of 10 Patch objects>)"
            ]
          },
          "metadata": {},
          "execution_count": 11
        },
        {
          "output_type": "display_data",
          "data": {
            "image/png": "[encoded data removed]",
            "text/plain": [
              "<Figure size 720x504 with 1 Axes>"
            ]
          },
          "metadata": {
            "needs_background": "light"
          }
        }
      ]
    },
    {
      "cell_type": "code",
      "metadata": {
        "id": "OpzXRrVTxj31"
      },
      "source": [
        "train = pd.concat([X_train[\"Message\"], y_train], axis=1)"
      ],
      "execution_count": 12,
      "outputs": []
    },
    {
      "cell_type": "code",
      "metadata": {
        "colab": {
          "base_uri": "https://localhost:8080/",
          "height": 0
        },
        "id": "487SCjbNxj5h",
        "outputId": "02c2d586-6898-4540-b19c-c7068897a81f"
      },
      "source": [
        "train"
      ],
      "execution_count": 13,
      "outputs": [
        {
          "output_type": "execute_result",
          "data": {
            "text/html": [
              "<div>\n",
              "<style scoped>\n",
              "    .dataframe tbody tr th:only-of-type {\n",
              "        vertical-align: middle;\n",
              "    }\n",
              "\n",
              "    .dataframe tbody tr th {\n",
              "        vertical-align: top;\n",
              "    }\n",
              "\n",
              "    .dataframe thead th {\n",
              "        text-align: right;\n",
              "    }\n",
              "</style>\n",
              "<table border=\"1\" class=\"dataframe\">\n",
              "  <thead>\n",
              "    <tr style=\"text-align: right;\">\n",
              "      <th></th>\n",
              "      <th>Message</th>\n",
              "      <th>Category</th>\n",
              "    </tr>\n",
              "  </thead>\n",
              "  <tbody>\n",
              "    <tr>\n",
              "      <th>1852</th>\n",
              "      <td>Dunno da next show aft 6 is 850. Toa payoh got...</td>\n",
              "      <td>0</td>\n",
              "    </tr>\n",
              "    <tr>\n",
              "      <th>4507</th>\n",
              "      <td>When are you guys leaving?</td>\n",
              "      <td>0</td>\n",
              "    </tr>\n",
              "    <tr>\n",
              "      <th>1974</th>\n",
              "      <td>I had askd u a question some hours before. Its...</td>\n",
              "      <td>0</td>\n",
              "    </tr>\n",
              "    <tr>\n",
              "      <th>2678</th>\n",
              "      <td>Where in abj are you serving. Are you staying ...</td>\n",
              "      <td>0</td>\n",
              "    </tr>\n",
              "    <tr>\n",
              "      <th>4126</th>\n",
              "      <td>May b approve panalam...but it should have mor...</td>\n",
              "      <td>0</td>\n",
              "    </tr>\n",
              "    <tr>\n",
              "      <th>...</th>\n",
              "      <td>...</td>\n",
              "      <td>...</td>\n",
              "    </tr>\n",
              "    <tr>\n",
              "      <th>2778</th>\n",
              "      <td>Kind of. Took it to garage. Centre part of exh...</td>\n",
              "      <td>0</td>\n",
              "    </tr>\n",
              "    <tr>\n",
              "      <th>5318</th>\n",
              "      <td>Good morning, my Love ... I go to sleep now an...</td>\n",
              "      <td>0</td>\n",
              "    </tr>\n",
              "    <tr>\n",
              "      <th>3467</th>\n",
              "      <td>Actually fuck that, just do whatever, do find ...</td>\n",
              "      <td>0</td>\n",
              "    </tr>\n",
              "    <tr>\n",
              "      <th>15</th>\n",
              "      <td>XXXMobileMovieClub: To use your credit, click ...</td>\n",
              "      <td>1</td>\n",
              "    </tr>\n",
              "    <tr>\n",
              "      <th>3963</th>\n",
              "      <td>You have been specially selected to receive a ...</td>\n",
              "      <td>1</td>\n",
              "    </tr>\n",
              "  </tbody>\n",
              "</table>\n",
              "<p>3900 rows × 2 columns</p>\n",
              "</div>"
            ],
            "text/plain": [
              "                                                Message  Category\n",
              "1852  Dunno da next show aft 6 is 850. Toa payoh got...         0\n",
              "4507                         When are you guys leaving?         0\n",
              "1974  I had askd u a question some hours before. Its...         0\n",
              "2678  Where in abj are you serving. Are you staying ...         0\n",
              "4126  May b approve panalam...but it should have mor...         0\n",
              "...                                                 ...       ...\n",
              "2778  Kind of. Took it to garage. Centre part of exh...         0\n",
              "5318  Good morning, my Love ... I go to sleep now an...         0\n",
              "3467  Actually fuck that, just do whatever, do find ...         0\n",
              "15    XXXMobileMovieClub: To use your credit, click ...         1\n",
              "3963  You have been specially selected to receive a ...         1\n",
              "\n",
              "[3900 rows x 2 columns]"
            ]
          },
          "metadata": {},
          "execution_count": 13
        }
      ]
    },
    {
      "cell_type": "code",
      "metadata": {
        "id": "Fy6KNHlmxj8Y"
      },
      "source": [
        "# Upsampling\n",
        "\n",
        "train_minority = train[train[\"Category\"]==1]\n",
        "\n",
        "from sklearn.utils import resample\n",
        "minority_upsampled = resample(train_minority, replace=True, n_samples=2860)           # 3380-520 = 2860\n",
        "# minority_upsampled = resample(y_train_minority, replace=True, n_samples=500)\n",
        "\n",
        "train_upsampled = pd.concat([train, minority_upsampled])"
      ],
      "execution_count": 14,
      "outputs": []
    },
    {
      "cell_type": "code",
      "metadata": {
        "colab": {
          "base_uri": "https://localhost:8080/"
        },
        "id": "plM4dUHux9dc",
        "outputId": "f6f68f17-f43a-47f4-eeae-0562ecccd38b"
      },
      "source": [
        "Counter(train_upsampled[\"Category\"])"
      ],
      "execution_count": 15,
      "outputs": [
        {
          "output_type": "execute_result",
          "data": {
            "text/plain": [
              "Counter({0: 3372, 1: 3388})"
            ]
          },
          "metadata": {},
          "execution_count": 15
        }
      ]
    },
    {
      "cell_type": "code",
      "metadata": {
        "colab": {
          "base_uri": "https://localhost:8080/",
          "height": 0
        },
        "id": "ytIW5o9Px9fF",
        "outputId": "a4ecd935-6d7d-4cb1-c13e-aaaceaf0e898"
      },
      "source": [
        "train_upsampled"
      ],
      "execution_count": 16,
      "outputs": [
        {
          "output_type": "execute_result",
          "data": {
            "text/html": [
              "<div>\n",
              "<style scoped>\n",
              "    .dataframe tbody tr th:only-of-type {\n",
              "        vertical-align: middle;\n",
              "    }\n",
              "\n",
              "    .dataframe tbody tr th {\n",
              "        vertical-align: top;\n",
              "    }\n",
              "\n",
              "    .dataframe thead th {\n",
              "        text-align: right;\n",
              "    }\n",
              "</style>\n",
              "<table border=\"1\" class=\"dataframe\">\n",
              "  <thead>\n",
              "    <tr style=\"text-align: right;\">\n",
              "      <th></th>\n",
              "      <th>Message</th>\n",
              "      <th>Category</th>\n",
              "    </tr>\n",
              "  </thead>\n",
              "  <tbody>\n",
              "    <tr>\n",
              "      <th>1852</th>\n",
              "      <td>Dunno da next show aft 6 is 850. Toa payoh got...</td>\n",
              "      <td>0</td>\n",
              "    </tr>\n",
              "    <tr>\n",
              "      <th>4507</th>\n",
              "      <td>When are you guys leaving?</td>\n",
              "      <td>0</td>\n",
              "    </tr>\n",
              "    <tr>\n",
              "      <th>1974</th>\n",
              "      <td>I had askd u a question some hours before. Its...</td>\n",
              "      <td>0</td>\n",
              "    </tr>\n",
              "    <tr>\n",
              "      <th>2678</th>\n",
              "      <td>Where in abj are you serving. Are you staying ...</td>\n",
              "      <td>0</td>\n",
              "    </tr>\n",
              "    <tr>\n",
              "      <th>4126</th>\n",
              "      <td>May b approve panalam...but it should have mor...</td>\n",
              "      <td>0</td>\n",
              "    </tr>\n",
              "    <tr>\n",
              "      <th>...</th>\n",
              "      <td>...</td>\n",
              "      <td>...</td>\n",
              "    </tr>\n",
              "    <tr>\n",
              "      <th>1574</th>\n",
              "      <td>SMS AUCTION - A BRAND NEW Nokia 7250 is up 4 a...</td>\n",
              "      <td>1</td>\n",
              "    </tr>\n",
              "    <tr>\n",
              "      <th>3709</th>\n",
              "      <td>Free Top ringtone -sub to weekly ringtone-get ...</td>\n",
              "      <td>1</td>\n",
              "    </tr>\n",
              "    <tr>\n",
              "      <th>3885</th>\n",
              "      <td>A link to your picture has been sent. You can ...</td>\n",
              "      <td>1</td>\n",
              "    </tr>\n",
              "    <tr>\n",
              "      <th>527</th>\n",
              "      <td>Today's Offer! Claim ur £150 worth of discount...</td>\n",
              "      <td>1</td>\n",
              "    </tr>\n",
              "    <tr>\n",
              "      <th>529</th>\n",
              "      <td>You will recieve your tone within the next 24h...</td>\n",
              "      <td>1</td>\n",
              "    </tr>\n",
              "  </tbody>\n",
              "</table>\n",
              "<p>6760 rows × 2 columns</p>\n",
              "</div>"
            ],
            "text/plain": [
              "                                                Message  Category\n",
              "1852  Dunno da next show aft 6 is 850. Toa payoh got...         0\n",
              "4507                         When are you guys leaving?         0\n",
              "1974  I had askd u a question some hours before. Its...         0\n",
              "2678  Where in abj are you serving. Are you staying ...         0\n",
              "4126  May b approve panalam...but it should have mor...         0\n",
              "...                                                 ...       ...\n",
              "1574  SMS AUCTION - A BRAND NEW Nokia 7250 is up 4 a...         1\n",
              "3709  Free Top ringtone -sub to weekly ringtone-get ...         1\n",
              "3885  A link to your picture has been sent. You can ...         1\n",
              "527   Today's Offer! Claim ur £150 worth of discount...         1\n",
              "529   You will recieve your tone within the next 24h...         1\n",
              "\n",
              "[6760 rows x 2 columns]"
            ]
          },
          "metadata": {},
          "execution_count": 16
        }
      ]
    },
    {
      "cell_type": "code",
      "metadata": {
        "colab": {
          "base_uri": "https://localhost:8080/"
        },
        "id": "4aFqUTamx9hi",
        "outputId": "e500e0f8-26f1-4168-ac01-61e992127ea1"
      },
      "source": [
        "train_upsampled.shape"
      ],
      "execution_count": 17,
      "outputs": [
        {
          "output_type": "execute_result",
          "data": {
            "text/plain": [
              "(6760, 2)"
            ]
          },
          "metadata": {},
          "execution_count": 17
        }
      ]
    },
    {
      "cell_type": "code",
      "metadata": {
        "colab": {
          "base_uri": "https://localhost:8080/",
          "height": 0
        },
        "id": "wV855iuQx9j0",
        "outputId": "dba0ba29-5b23-445f-a38e-bc2e34596352"
      },
      "source": [
        "plt.hist(train_upsampled[\"Category\"])"
      ],
      "execution_count": 18,
      "outputs": [
        {
          "output_type": "execute_result",
          "data": {
            "text/plain": [
              "(array([3372.,    0.,    0.,    0.,    0.,    0.,    0.,    0.,    0.,\n",
              "        3388.]),\n",
              " array([0. , 0.1, 0.2, 0.3, 0.4, 0.5, 0.6, 0.7, 0.8, 0.9, 1. ]),\n",
              " <a list of 10 Patch objects>)"
            ]
          },
          "metadata": {},
          "execution_count": 18
        },
        {
          "output_type": "display_data",
          "data": {
            "image/png": "[encoded data removed]",
            "text/plain": [
              "<Figure size 432x288 with 1 Axes>"
            ]
          },
          "metadata": {
            "needs_background": "light"
          }
        }
      ]
    },
    {
      "cell_type": "markdown",
      "metadata": {
        "id": "jQXVkX2PyKtx"
      },
      "source": [
        "Redefining the train datasets --> X_train, y_train"
      ]
    },
    {
      "cell_type": "code",
      "metadata": {
        "id": "xH6kKNQuyJ48"
      },
      "source": [
        "X_train = train_upsampled.drop(columns=[\"Category\"])\n",
        "y_train = train_upsampled[\"Category\"]"
      ],
      "execution_count": 19,
      "outputs": []
    },
    {
      "cell_type": "code",
      "metadata": {
        "colab": {
          "base_uri": "https://localhost:8080/"
        },
        "id": "FKXkr-1ZyJ6i",
        "outputId": "1580ab52-2e1f-4cdf-b307-be501030a6d4"
      },
      "source": [
        "Counter(y_test)"
      ],
      "execution_count": 20,
      "outputs": [
        {
          "output_type": "execute_result",
          "data": {
            "text/plain": [
              "Counter({0: 1453, 1: 219})"
            ]
          },
          "metadata": {},
          "execution_count": 20
        }
      ]
    },
    {
      "cell_type": "markdown",
      "metadata": {
        "id": "d7hBVIMSyTP4"
      },
      "source": [
        "##### **Feature Extraction**"
      ]
    },
    {
      "cell_type": "code",
      "metadata": {
        "id": "DkcIKAbgyJ9_"
      },
      "source": [
        "from sklearn.feature_extraction.text import TfidfVectorizer\n",
        "\n",
        "feature_extraction = TfidfVectorizer(min_df =1, stop_words = 'english', lowercase='True')\n",
        "# feature_extraction = TfidfVectorizer()\n",
        "\n",
        "X_train_features = feature_extraction.fit_transform(X_train['Message'])\n",
        "X_test_features = feature_extraction.transform(X_test['Message'])"
      ],
      "execution_count": 21,
      "outputs": []
    },
    {
      "cell_type": "code",
      "metadata": {
        "id": "ibXi4UnGx9op"
      },
      "source": [
        "y_train = y_train.astype('int')\n",
        "y_test  = y_test.astype('int')"
      ],
      "execution_count": 22,
      "outputs": []
    },
    {
      "cell_type": "code",
      "metadata": {
        "colab": {
          "base_uri": "https://localhost:8080/"
        },
        "id": "ZfIHru3Aycfi",
        "outputId": "bbfba7af-c58f-4638-ed8a-efb3cc7e0431"
      },
      "source": [
        "print(X_train_features)"
      ],
      "execution_count": 23,
      "outputs": [
        {
          "output_type": "stream",
          "name": "stdout",
          "text": [
            "  (0, 551)\t0.42507180956556073\n",
            "  (0, 2897)\t0.21222598727034814\n",
            "  (0, 4611)\t0.40618555459658573\n",
            "  (0, 6211)\t0.40618555459658573\n",
            "  (0, 635)\t0.42507180956556073\n",
            "  (0, 798)\t0.32821301120314494\n",
            "  (0, 1949)\t0.24285276667494\n",
            "  (0, 2289)\t0.3113091505591589\n",
            "  (1, 3679)\t0.7774851141513733\n",
            "  (1, 2974)\t0.6289013414463558\n",
            "  (2, 902)\t0.46943174706538\n",
            "  (2, 3176)\t0.4821719335433709\n",
            "  (2, 4979)\t0.46750091373326363\n",
            "  (2, 999)\t0.5732250491811708\n",
            "  (3, 1953)\t0.4164565084026064\n",
            "  (3, 5809)\t0.47796540516442293\n",
            "  (3, 5437)\t0.5468606075020941\n",
            "  (3, 710)\t0.5468606075020941\n",
            "  (4, 4803)\t0.5143005098392366\n",
            "  (4, 4544)\t0.6064218769054681\n",
            "  (4, 945)\t0.6064218769054681\n",
            "  (5, 734)\t0.3141909503731\n",
            "  (5, 1879)\t0.3586244079430164\n",
            "  (5, 3763)\t0.2744969750024179\n",
            "  (5, 604)\t0.3814409249203865\n",
            "  :\t:\n",
            "  (6758, 285)\t0.2263462598528206\n",
            "  (6758, 6561)\t0.2140026816617059\n",
            "  (6758, 4417)\t0.22695253447912034\n",
            "  (6758, 5887)\t0.23734730251067235\n",
            "  (6758, 1899)\t0.18411146514807616\n",
            "  (6758, 6787)\t0.23147271185336538\n",
            "  (6758, 297)\t0.1721454199740439\n",
            "  (6758, 4415)\t0.21101490738783965\n",
            "  (6758, 5150)\t0.14938247671307184\n",
            "  (6758, 6868)\t0.19578022211189447\n",
            "  (6758, 0)\t0.24064027508450386\n",
            "  (6758, 6450)\t0.1389836545306898\n",
            "  (6758, 1652)\t0.1462103617815974\n",
            "  (6758, 6215)\t0.1862795414045635\n",
            "  (6758, 4106)\t0.14281244660648873\n",
            "  (6758, 6098)\t0.1442786628379823\n",
            "  (6759, 4654)\t0.3667678484531685\n",
            "  (6759, 6067)\t0.3724357469554501\n",
            "  (6759, 1566)\t0.3667678484531685\n",
            "  (6759, 1770)\t0.3157170790144998\n",
            "  (6759, 341)\t0.3724357469554501\n",
            "  (6759, 5074)\t0.3724357469554501\n",
            "  (6759, 581)\t0.2746801393335035\n",
            "  (6759, 6235)\t0.2279767381067412\n",
            "  (6759, 6084)\t0.29620548240666394\n"
          ]
        }
      ]
    },
    {
      "cell_type": "code",
      "metadata": {
        "colab": {
          "base_uri": "https://localhost:8080/"
        },
        "id": "hmj6ZPX9ychR",
        "outputId": "b4bc0206-1068-40b9-aef7-1c71a6bcc3f6"
      },
      "source": [
        "X_train_features"
      ],
      "execution_count": 24,
      "outputs": [
        {
          "output_type": "execute_result",
          "data": {
            "text/plain": [
              "<6760x6913 sparse matrix of type '<class 'numpy.float64'>'\n",
              "\twith 73234 stored elements in Compressed Sparse Row format>"
            ]
          },
          "metadata": {},
          "execution_count": 24
        }
      ]
    },
    {
      "cell_type": "code",
      "metadata": {
        "colab": {
          "base_uri": "https://localhost:8080/"
        },
        "id": "T1dFDAcbycjY",
        "outputId": "9606df94-5e22-42f0-e81b-4ae98ce9de3b"
      },
      "source": [
        "feature_extraction.get_feature_names()"
      ],
      "execution_count": 25,
      "outputs": [
        {
          "output_type": "stream",
          "name": "stderr",
          "text": [
            "/usr/local/lib/python3.7/dist-packages/sklearn/utils/deprecation.py:87: FutureWarning: Function get_feature_names is deprecated; get_feature_names is deprecated in 1.0 and will be removed in 1.2. Please use get_feature_names_out instead.\n",
            "  warnings.warn(msg, category=FutureWarning)\n"
          ]
        },
        {
          "output_type": "execute_result",
          "data": {
            "text/plain": [
              "['00',\n",
              " '000',\n",
              " '000pes',\n",
              " '008704050406',\n",
              " '0089',\n",
              " '0121',\n",
              " '01223585236',\n",
              " '01223585334',\n",
              " '0125698789',\n",
              " '02',\n",
              " '0207',\n",
              " '02072069400',\n",
              " '02073162414',\n",
              " '03',\n",
              " '04',\n",
              " '0430',\n",
              " '05',\n",
              " '050703',\n",
              " '0578',\n",
              " '06',\n",
              " '07',\n",
              " '07008009200',\n",
              " '07090201529',\n",
              " '07090298926',\n",
              " '07099833605',\n",
              " '07123456789',\n",
              " '0721072',\n",
              " '07732584351',\n",
              " '07734396839',\n",
              " '07742676969',\n",
              " '07753741225',\n",
              " '0776xxxxxxx',\n",
              " '07781482378',\n",
              " '077xxx',\n",
              " '078',\n",
              " '07801543489',\n",
              " '07808726822',\n",
              " '07815296484',\n",
              " '07821230901',\n",
              " '07880867867',\n",
              " '0789xxxxxxx',\n",
              " '07946746291',\n",
              " '0796xxxxxx',\n",
              " '07973788240',\n",
              " '07xxxxxxxxx',\n",
              " '08',\n",
              " '0800',\n",
              " '08000407165',\n",
              " '08000776320',\n",
              " '08000839402',\n",
              " '08000930705',\n",
              " '08000938767',\n",
              " '08001950382',\n",
              " '08002888812',\n",
              " '08002986030',\n",
              " '08002986906',\n",
              " '08006344447',\n",
              " '0808',\n",
              " '08081263000',\n",
              " '0825',\n",
              " '083',\n",
              " '08448350055',\n",
              " '0845',\n",
              " '08450542832',\n",
              " '08452810071',\n",
              " '08452810073',\n",
              " '08452810075over18',\n",
              " '0870',\n",
              " '08700435505150p',\n",
              " '08700469649',\n",
              " '08701237397',\n",
              " '08701417012',\n",
              " '08701417012150p',\n",
              " '087016248',\n",
              " '08701752560',\n",
              " '087018728737',\n",
              " '0870241182716',\n",
              " '08702490080',\n",
              " '08702840625',\n",
              " '08704439680',\n",
              " '08704439680ts',\n",
              " '08706091795',\n",
              " '0870737910216yrs',\n",
              " '08707500020',\n",
              " '08707509020',\n",
              " '0870753331018',\n",
              " '08708034412',\n",
              " '08708800282',\n",
              " '08709222922',\n",
              " '0871',\n",
              " '087104711148',\n",
              " '08712101358',\n",
              " '0871212025016',\n",
              " '08712300220',\n",
              " '087123002209am',\n",
              " '08712317606',\n",
              " '08712400602450p',\n",
              " '08712402050',\n",
              " '08712402779',\n",
              " '08712402902',\n",
              " '08712402972',\n",
              " '08712405022',\n",
              " '08712460324',\n",
              " '0871277810710p',\n",
              " '0871277810810',\n",
              " '0871277810910p',\n",
              " '08714342399',\n",
              " '087147123779am',\n",
              " '08714712388',\n",
              " '08714712394',\n",
              " '08714712412',\n",
              " '08714714011',\n",
              " '08715203028',\n",
              " '08715203649',\n",
              " '08715203652',\n",
              " '08715203656',\n",
              " '08715203677',\n",
              " '08715203694',\n",
              " '08715705022',\n",
              " '08717111821',\n",
              " '08717205546',\n",
              " '0871750',\n",
              " '08717507382',\n",
              " '08717895698',\n",
              " '08717898035',\n",
              " '08718711108',\n",
              " '08718720201',\n",
              " '08718723815',\n",
              " '08718725756',\n",
              " '08718726270',\n",
              " '087187262701',\n",
              " '08718726970',\n",
              " '08718726971',\n",
              " '08718726978',\n",
              " '08718727870',\n",
              " '08718730555',\n",
              " '08718730666',\n",
              " '08718738001',\n",
              " '08718738002',\n",
              " '08718738034',\n",
              " '08719180248',\n",
              " '08719181259',\n",
              " '08719181503',\n",
              " '08719181513',\n",
              " '08719839835',\n",
              " '08719899230',\n",
              " '09',\n",
              " '09050000301',\n",
              " '09050000332',\n",
              " '09050000460',\n",
              " '09050000555',\n",
              " '09050000878',\n",
              " '09050000928',\n",
              " '09050001295',\n",
              " '09050001808',\n",
              " '09050003091',\n",
              " '09050005321',\n",
              " '09050090044',\n",
              " '09050280520',\n",
              " '09053750005',\n",
              " '09056242159',\n",
              " '09057039994',\n",
              " '09058091854',\n",
              " '09058091870',\n",
              " '09058094455',\n",
              " '09058094507',\n",
              " '09058094565',\n",
              " '09058094583',\n",
              " '09058094597',\n",
              " '09058094599',\n",
              " '09058095107',\n",
              " '09058095201',\n",
              " '09058097189',\n",
              " '09061104276',\n",
              " '09061104283',\n",
              " '09061209465',\n",
              " '09061213237',\n",
              " '09061221061',\n",
              " '09061221066',\n",
              " '09061701444',\n",
              " '09061701461',\n",
              " '09061701851',\n",
              " '09061701939',\n",
              " '09061702893',\n",
              " '09061743806',\n",
              " '09061743810',\n",
              " '09061743811',\n",
              " '09061744553',\n",
              " '09061749602',\n",
              " '09061790121',\n",
              " '09061790125',\n",
              " '09061790126',\n",
              " '09063442151',\n",
              " '09063458130',\n",
              " '09064011000',\n",
              " '09064012160',\n",
              " '09064017305',\n",
              " '09064018838',\n",
              " '09064019014',\n",
              " '09064019788',\n",
              " '09065069120',\n",
              " '09065069154',\n",
              " '09065174042',\n",
              " '09065394514',\n",
              " '09065394973',\n",
              " '09065989180',\n",
              " '09065989182',\n",
              " '09066350750',\n",
              " '09066358152',\n",
              " '09066358361',\n",
              " '09066361921',\n",
              " '09066362206',\n",
              " '09066362231',\n",
              " '09066364311',\n",
              " '09066364349',\n",
              " '09066364589',\n",
              " '09066368327',\n",
              " '09066368753',\n",
              " '09066380611',\n",
              " '09066382422',\n",
              " '09066612661',\n",
              " '09066660100',\n",
              " '09071512432',\n",
              " '09071512433',\n",
              " '09071517866',\n",
              " '09077818151',\n",
              " '09090204448',\n",
              " '09090900040',\n",
              " '09094100151',\n",
              " '09094646631',\n",
              " '09094646899',\n",
              " '09095350301',\n",
              " '09099725823',\n",
              " '09099726395',\n",
              " '09099726481',\n",
              " '09111030116',\n",
              " '09111032124',\n",
              " '09701213186',\n",
              " '0a',\n",
              " '0quit',\n",
              " '10',\n",
              " '100',\n",
              " '1000',\n",
              " '1000call',\n",
              " '1000s',\n",
              " '100p',\n",
              " '100percent',\n",
              " '1013',\n",
              " '1030',\n",
              " '10am',\n",
              " '10k',\n",
              " '10p',\n",
              " '10ppm',\n",
              " '10th',\n",
              " '11',\n",
              " '1120',\n",
              " '114',\n",
              " '116',\n",
              " '1172',\n",
              " '118p',\n",
              " '11mths',\n",
              " '11pm',\n",
              " '12',\n",
              " '1205',\n",
              " '121',\n",
              " '1225',\n",
              " '123',\n",
              " '125',\n",
              " '1250',\n",
              " '125gift',\n",
              " '128',\n",
              " '12hours',\n",
              " '12hrs',\n",
              " '12mths',\n",
              " '13',\n",
              " '130',\n",
              " '1327',\n",
              " '14',\n",
              " '1405',\n",
              " '140ppm',\n",
              " '145',\n",
              " '1450',\n",
              " '14tcr',\n",
              " '14thmarch',\n",
              " '15',\n",
              " '150',\n",
              " '1500',\n",
              " '150p',\n",
              " '150p16',\n",
              " '150pm',\n",
              " '150ppm',\n",
              " '150ppmpobox10183bhamb64xe',\n",
              " '150pw',\n",
              " '151',\n",
              " '153',\n",
              " '15541',\n",
              " '15pm',\n",
              " '16',\n",
              " '165',\n",
              " '1680',\n",
              " '169',\n",
              " '177',\n",
              " '18',\n",
              " '1843',\n",
              " '18p',\n",
              " '18yrs',\n",
              " '195',\n",
              " '1956669',\n",
              " '1b6a5ecef91ff9',\n",
              " '1er',\n",
              " '1hr',\n",
              " '1mega',\n",
              " '1million',\n",
              " '1st',\n",
              " '1thing',\n",
              " '1win150ppmx3',\n",
              " '1winawk',\n",
              " '1x150p',\n",
              " '1yf',\n",
              " '20',\n",
              " '200',\n",
              " '2000',\n",
              " '2003',\n",
              " '2004',\n",
              " '2005',\n",
              " '2006',\n",
              " '2007',\n",
              " '200p',\n",
              " '2025050',\n",
              " '20m12aq',\n",
              " '20p',\n",
              " '21',\n",
              " '21870000',\n",
              " '21st',\n",
              " '22',\n",
              " '220',\n",
              " '220cm2',\n",
              " '2309',\n",
              " '23f',\n",
              " '23g',\n",
              " '24',\n",
              " '24hrs',\n",
              " '24m',\n",
              " '24th',\n",
              " '25',\n",
              " '250',\n",
              " '250k',\n",
              " '255',\n",
              " '25p',\n",
              " '26',\n",
              " '2667',\n",
              " '26th',\n",
              " '27',\n",
              " '28',\n",
              " '2814032',\n",
              " '28days',\n",
              " '28th',\n",
              " '29',\n",
              " '2b',\n",
              " '2bold',\n",
              " '2c',\n",
              " '2channel',\n",
              " '2day',\n",
              " '2docd',\n",
              " '2end',\n",
              " '2exit',\n",
              " '2find',\n",
              " '2geva',\n",
              " '2go',\n",
              " '2gthr',\n",
              " '2hook',\n",
              " '2i',\n",
              " '2kbsubject',\n",
              " '2lands',\n",
              " '2marrow',\n",
              " '2moro',\n",
              " '2morow',\n",
              " '2morro',\n",
              " '2morrow',\n",
              " '2morrowxxxx',\n",
              " '2mrw',\n",
              " '2mwen',\n",
              " '2nd',\n",
              " '2nhite',\n",
              " '2nights',\n",
              " '2nite',\n",
              " '2optout',\n",
              " '2p',\n",
              " '2px',\n",
              " '2rcv',\n",
              " '2stop',\n",
              " '2stoptx',\n",
              " '2stoptxt',\n",
              " '2u',\n",
              " '2waxsto',\n",
              " '2wks',\n",
              " '2wt',\n",
              " '2years',\n",
              " '2yr',\n",
              " '2yrs',\n",
              " '30',\n",
              " '300',\n",
              " '3000',\n",
              " '300603',\n",
              " '300603t',\n",
              " '300p',\n",
              " '3030',\n",
              " '30apr',\n",
              " '30ish',\n",
              " '30pp',\n",
              " '30s',\n",
              " '30th',\n",
              " '31',\n",
              " '3100',\n",
              " '310303',\n",
              " '31p',\n",
              " '32000',\n",
              " '32323',\n",
              " '326',\n",
              " '330',\n",
              " '350',\n",
              " '3510i',\n",
              " '35p',\n",
              " '3650',\n",
              " '36504',\n",
              " '373',\n",
              " '3750',\n",
              " '37819',\n",
              " '38',\n",
              " '382',\n",
              " '3aj',\n",
              " '3d',\n",
              " '3days',\n",
              " '3g',\n",
              " '3gbp',\n",
              " '3hrs',\n",
              " '3lions',\n",
              " '3lp',\n",
              " '3miles',\n",
              " '3mins',\n",
              " '3mobile',\n",
              " '3optical',\n",
              " '3qxj9',\n",
              " '3rd',\n",
              " '3ss',\n",
              " '3uz',\n",
              " '3x',\n",
              " '3xx',\n",
              " '40',\n",
              " '400',\n",
              " '400mins',\n",
              " '400thousad',\n",
              " '402',\n",
              " '4041',\n",
              " '40533',\n",
              " '40gb',\n",
              " '41685',\n",
              " '41782',\n",
              " '420',\n",
              " '42049',\n",
              " '4217',\n",
              " '42478',\n",
              " '42810',\n",
              " '434',\n",
              " '44',\n",
              " '440',\n",
              " '4403ldnw1a7rw18',\n",
              " '44345',\n",
              " '447797706009',\n",
              " '447801259231',\n",
              " '449050000301',\n",
              " '45',\n",
              " '450',\n",
              " '450p',\n",
              " '450ppw',\n",
              " '450pw',\n",
              " '45239',\n",
              " '45pm',\n",
              " '4719',\n",
              " '4742',\n",
              " '47per',\n",
              " '48',\n",
              " '4882',\n",
              " '48922',\n",
              " '4a',\n",
              " '4d',\n",
              " '4eva',\n",
              " '4few',\n",
              " '4get',\n",
              " '4goten',\n",
              " '4info',\n",
              " '4jx',\n",
              " '4mths',\n",
              " '4my',\n",
              " '4t',\n",
              " '4th',\n",
              " '4the',\n",
              " '4thnov',\n",
              " '4txt',\n",
              " '4u',\n",
              " '4w',\n",
              " '4ward',\n",
              " '4wrd',\n",
              " '50',\n",
              " '500',\n",
              " '5000',\n",
              " '505060',\n",
              " '50award',\n",
              " '50gbp',\n",
              " '50p',\n",
              " '50perweeksub',\n",
              " '50perwksub',\n",
              " '50pm',\n",
              " '50pmmorefrommobile2bremoved',\n",
              " '50ppm',\n",
              " '50rcvd',\n",
              " '50s',\n",
              " '523',\n",
              " '5249',\n",
              " '526',\n",
              " '528',\n",
              " '530',\n",
              " '54',\n",
              " '542',\n",
              " '545',\n",
              " '5digital',\n",
              " '5free',\n",
              " '5k',\n",
              " '5min',\n",
              " '5mls',\n",
              " '5p',\n",
              " '5pm',\n",
              " '5th',\n",
              " '5wb',\n",
              " '5we',\n",
              " '5wkg',\n",
              " '5wq',\n",
              " '5years',\n",
              " '60',\n",
              " '600',\n",
              " '6031',\n",
              " '6089',\n",
              " '60p',\n",
              " '61',\n",
              " '61200',\n",
              " '61610',\n",
              " '6230',\n",
              " '62468',\n",
              " '62735',\n",
              " '630',\n",
              " '65',\n",
              " '650',\n",
              " '66',\n",
              " '6669',\n",
              " '674',\n",
              " '67441233',\n",
              " '69101',\n",
              " '69200',\n",
              " '69669',\n",
              " '69696',\n",
              " '69866',\n",
              " '69876',\n",
              " '69888',\n",
              " '69969',\n",
              " '69988',\n",
              " '6days',\n",
              " '6hl',\n",
              " '6hrs',\n",
              " '6missed',\n",
              " '6months',\n",
              " '6ph',\n",
              " '6pm',\n",
              " '6th',\n",
              " '6times',\n",
              " '6wu',\n",
              " '6zf',\n",
              " '700',\n",
              " '71',\n",
              " '7250',\n",
              " '7250i',\n",
              " '75',\n",
              " '750',\n",
              " '7548',\n",
              " '75max',\n",
              " '7634',\n",
              " '7684',\n",
              " '77',\n",
              " '7732584351',\n",
              " '786',\n",
              " '79',\n",
              " '7ish',\n",
              " '7mp',\n",
              " '7oz',\n",
              " '7pm',\n",
              " '7th',\n",
              " '7zs',\n",
              " '800',\n",
              " '8000930705',\n",
              " '80062',\n",
              " '8007',\n",
              " '80082',\n",
              " '80160',\n",
              " '80182',\n",
              " '8027',\n",
              " '80488',\n",
              " '80608',\n",
              " '8077',\n",
              " '80878',\n",
              " '81010',\n",
              " '81151',\n",
              " '81618',\n",
              " '82050',\n",
              " '820554ad0a1705572711',\n",
              " '82242',\n",
              " '82277',\n",
              " '82324',\n",
              " '82468',\n",
              " '83021',\n",
              " '83039',\n",
              " '83049',\n",
              " '83110',\n",
              " '83118',\n",
              " '83222',\n",
              " '83332',\n",
              " '83338',\n",
              " '83355',\n",
              " '83383',\n",
              " '83435',\n",
              " '83600',\n",
              " '83738',\n",
              " '84',\n",
              " '84025',\n",
              " '84122',\n",
              " '84199',\n",
              " '84484',\n",
              " '850',\n",
              " '85023',\n",
              " '85069',\n",
              " '85222',\n",
              " '85233',\n",
              " '8552',\n",
              " '85555',\n",
              " '86021',\n",
              " '864233',\n",
              " '86688',\n",
              " '86888',\n",
              " '87066',\n",
              " '87070',\n",
              " '87077',\n",
              " '87121',\n",
              " '87131',\n",
              " '872',\n",
              " '87239',\n",
              " '87575',\n",
              " '8800',\n",
              " '88039',\n",
              " '88088',\n",
              " '88222',\n",
              " '88600',\n",
              " '88800',\n",
              " '8883',\n",
              " '88888',\n",
              " '89034',\n",
              " '89080',\n",
              " '89105',\n",
              " '89123',\n",
              " '89545',\n",
              " '89555',\n",
              " '8am',\n",
              " '8ball',\n",
              " '8lb',\n",
              " '8p',\n",
              " '8pm',\n",
              " '8th',\n",
              " '8wp',\n",
              " '900',\n",
              " '9153',\n",
              " '9280114',\n",
              " '92h',\n",
              " '930',\n",
              " '9307622',\n",
              " '946',\n",
              " '95',\n",
              " '9758',\n",
              " '97n7qp',\n",
              " '98321561',\n",
              " '99',\n",
              " '9996',\n",
              " '9ae',\n",
              " '9am',\n",
              " '9ja',\n",
              " '9pm',\n",
              " '9t',\n",
              " '9th',\n",
              " '9yt',\n",
              " '____',\n",
              " 'a21',\n",
              " 'a30',\n",
              " 'aa',\n",
              " 'aah',\n",
              " 'aaniye',\n",
              " 'aathi',\n",
              " 'ab',\n",
              " 'abbey',\n",
              " 'abdomen',\n",
              " 'abeg',\n",
              " 'aberdeen',\n",
              " 'abi',\n",
              " 'ability',\n",
              " 'abiola',\n",
              " 'abj',\n",
              " 'able',\n",
              " 'abnormally',\n",
              " 'aboutas',\n",
              " 'absence',\n",
              " 'absolutely',\n",
              " 'absolutly',\n",
              " 'abt',\n",
              " 'abta',\n",
              " 'aburo',\n",
              " 'abusers',\n",
              " 'ac',\n",
              " 'academic',\n",
              " 'acc',\n",
              " 'accenture',\n",
              " 'accept',\n",
              " 'access',\n",
              " 'accident',\n",
              " 'accidentally',\n",
              " 'accommodation',\n",
              " 'accommodationvouchers',\n",
              " 'accomodate',\n",
              " 'accordin',\n",
              " 'accordingly',\n",
              " 'account',\n",
              " 'accounting',\n",
              " 'accounts',\n",
              " 'accumulation',\n",
              " 'achan',\n",
              " 'ache',\n",
              " 'acknowledgement',\n",
              " 'acl03530150pm',\n",
              " 'acnt',\n",
              " 'aco',\n",
              " 'act',\n",
              " 'acted',\n",
              " 'actin',\n",
              " 'acting',\n",
              " 'action',\n",
              " 'activ8',\n",
              " 'activate',\n",
              " 'active',\n",
              " 'activities',\n",
              " 'actor',\n",
              " 'actual',\n",
              " 'actually',\n",
              " 'ad',\n",
              " 'adam',\n",
              " 'add',\n",
              " 'addamsfa',\n",
              " 'added',\n",
              " 'addicted',\n",
              " 'addie',\n",
              " 'address',\n",
              " 'adi',\n",
              " 'admin',\n",
              " 'admirer',\n",
              " 'admission',\n",
              " 'admit',\n",
              " 'adore',\n",
              " 'adoring',\n",
              " 'adp',\n",
              " 'adress',\n",
              " 'adrian',\n",
              " 'ads',\n",
              " 'adsense',\n",
              " 'adult',\n",
              " 'adults',\n",
              " 'advance',\n",
              " 'adventure',\n",
              " 'adventuring',\n",
              " 'advice',\n",
              " 'advise',\n",
              " 'advising',\n",
              " 'advisors',\n",
              " 'aeronautics',\n",
              " 'aeroplane',\n",
              " 'afew',\n",
              " 'affair',\n",
              " 'affairs',\n",
              " 'affection',\n",
              " 'affectionate',\n",
              " 'affections',\n",
              " 'affidavit',\n",
              " 'afford',\n",
              " 'afghanistan',\n",
              " 'afraid',\n",
              " 'african',\n",
              " 'aft',\n",
              " 'afternon',\n",
              " 'afternoon',\n",
              " 'aftr',\n",
              " 'ag',\n",
              " 'age',\n",
              " 'age16',\n",
              " 'age23',\n",
              " 'agency',\n",
              " 'ages',\n",
              " 'agidhane',\n",
              " 'aging',\n",
              " 'ago',\n",
              " 'ah',\n",
              " 'aha',\n",
              " 'ahead',\n",
              " 'ahhhh',\n",
              " 'ahmad',\n",
              " 'aid',\n",
              " 'aids',\n",
              " 'aig',\n",
              " 'aight',\n",
              " 'ain',\n",
              " 'aint',\n",
              " 'air',\n",
              " 'airport',\n",
              " 'airtel',\n",
              " 'aiya',\n",
              " 'aiyah',\n",
              " 'aiyar',\n",
              " 'aiyo',\n",
              " 'ak',\n",
              " 'aka',\n",
              " 'akon',\n",
              " 'al',\n",
              " 'alaikkum',\n",
              " 'alaipayuthe',\n",
              " 'albi',\n",
              " 'alcohol',\n",
              " 'aldrine',\n",
              " 'alert',\n",
              " 'alertfrom',\n",
              " 'alerts',\n",
              " 'aletter',\n",
              " 'alex',\n",
              " 'alfie',\n",
              " 'algarve',\n",
              " 'algebra',\n",
              " 'ali',\n",
              " 'alian',\n",
              " 'alibi',\n",
              " 'alive',\n",
              " 'allah',\n",
              " 'allalo',\n",
              " 'allday',\n",
              " 'alle',\n",
              " 'allow',\n",
              " 'allowed',\n",
              " 'alot',\n",
              " 'alright',\n",
              " 'alrite',\n",
              " 'alter',\n",
              " 'alternative',\n",
              " 'alto18',\n",
              " 'alwys',\n",
              " 'amazing',\n",
              " 'ambitious',\n",
              " 'american',\n",
              " 'ami',\n",
              " 'amla',\n",
              " 'amma',\n",
              " 'ammo',\n",
              " 'amnow',\n",
              " 'amore',\n",
              " 'amp',\n",
              " 'amplikater',\n",
              " 'amrca',\n",
              " 'ams',\n",
              " 'amt',\n",
              " 'amused',\n",
              " 'amy',\n",
              " 'ana',\n",
              " 'anal',\n",
              " 'analysis',\n",
              " 'anand',\n",
              " 'anderson',\n",
              " 'andre',\n",
              " 'andres',\n",
              " 'andrews',\n",
              " 'andros',\n",
              " 'angels',\n",
              " 'angry',\n",
              " 'animal',\n",
              " 'animation',\n",
              " 'anjie',\n",
              " 'anjola',\n",
              " 'annie',\n",
              " 'announced',\n",
              " 'announcement',\n",
              " 'annoyin',\n",
              " 'annoying',\n",
              " 'anot',\n",
              " 'ans',\n",
              " 'ansr',\n",
              " 'answer',\n",
              " 'answered',\n",
              " 'answerin',\n",
              " 'answering',\n",
              " 'answers',\n",
              " 'answr',\n",
              " 'antelope',\n",
              " 'antha',\n",
              " 'anthony',\n",
              " 'anti',\n",
              " 'antibiotic',\n",
              " 'anybody',\n",
              " 'anymore',\n",
              " 'anyones',\n",
              " 'anythiing',\n",
              " 'anythingtomorrow',\n",
              " 'anytime',\n",
              " 'anyways',\n",
              " 'aom',\n",
              " 'apart',\n",
              " 'apartment',\n",
              " 'apes',\n",
              " 'apo',\n",
              " 'apologetic',\n",
              " 'apologise',\n",
              " 'apologize',\n",
              " 'apology',\n",
              " 'app',\n",
              " 'apparently',\n",
              " 'appeal',\n",
              " 'appear',\n",
              " 'applausestore',\n",
              " 'applebees',\n",
              " 'application',\n",
              " 'apply',\n",
              " 'applyed',\n",
              " 'applying',\n",
              " 'appointment',\n",
              " 'appointments',\n",
              " 'appreciate',\n",
              " 'appreciated',\n",
              " 'approaches',\n",
              " 'appropriate',\n",
              " 'approve',\n",
              " 'approved',\n",
              " 'approx',\n",
              " 'apps',\n",
              " 'appt',\n",
              " 'appy',\n",
              " 'april',\n",
              " 'aproach',\n",
              " 'apt',\n",
              " 'aptitude',\n",
              " 'ar',\n",
              " 'arab',\n",
              " 'arabian',\n",
              " 'arcade',\n",
              " 'ard',\n",
              " 'area',\n",
              " 'aren',\n",
              " 'arent',\n",
              " 'arestaurant',\n",
              " 'aretaking',\n",
              " 'areyouunique',\n",
              " 'argentina',\n",
              " 'argh',\n",
              " 'argue',\n",
              " 'arguing',\n",
              " 'argument',\n",
              " 'arise',\n",
              " 'arithmetic',\n",
              " 'arm',\n",
              " 'armand',\n",
              " 'arms',\n",
              " 'arng',\n",
              " 'arngd',\n",
              " 'arnt',\n",
              " 'aroundn',\n",
              " 'arr',\n",
              " 'arrange',\n",
              " 'arranging',\n",
              " 'arrested',\n",
              " 'arrive',\n",
              " 'arrow',\n",
              " 'arsenal',\n",
              " 'art',\n",
              " 'artists',\n",
              " 'arts',\n",
              " 'arun',\n",
              " 'asap',\n",
              " 'asda',\n",
              " 'ashley',\n",
              " 'ashwini',\n",
              " 'asia',\n",
              " 'asian',\n",
              " 'asjesus',\n",
              " 'ask',\n",
              " 'askd',\n",
              " ...]"
            ]
          },
          "metadata": {},
          "execution_count": 25
        }
      ]
    },
    {
      "cell_type": "code",
      "metadata": {
        "colab": {
          "base_uri": "https://localhost:8080/"
        },
        "id": "BeSA-M6PyclG",
        "outputId": "96d676f0-e9a0-4c23-ee2f-7be03f0745f5"
      },
      "source": [
        "X_train[\"Message\"]"
      ],
      "execution_count": 26,
      "outputs": [
        {
          "output_type": "execute_result",
          "data": {
            "text/plain": [
              "1852    Dunno da next show aft 6 is 850. Toa payoh got...\n",
              "4507                           When are you guys leaving?\n",
              "1974    I had askd u a question some hours before. Its...\n",
              "2678    Where in abj are you serving. Are you staying ...\n",
              "4126    May b approve panalam...but it should have mor...\n",
              "                              ...                        \n",
              "1574    SMS AUCTION - A BRAND NEW Nokia 7250 is up 4 a...\n",
              "3709    Free Top ringtone -sub to weekly ringtone-get ...\n",
              "3885    A link to your picture has been sent. You can ...\n",
              "527     Today's Offer! Claim ur £150 worth of discount...\n",
              "529     You will recieve your tone within the next 24h...\n",
              "Name: Message, Length: 6760, dtype: object"
            ]
          },
          "metadata": {},
          "execution_count": 26
        }
      ]
    },
    {
      "cell_type": "markdown",
      "metadata": {
        "id": "hXaeW2nUVdLK"
      },
      "source": [
        ""
      ]
    },
    {
      "cell_type": "markdown",
      "metadata": {
        "id": "AdXqetPiVgbV"
      },
      "source": [
        "##### **LogisticRegressionClassifier**"
      ]
    },
    {
      "cell_type": "code",
      "metadata": {
        "colab": {
          "base_uri": "https://localhost:8080/"
        },
        "id": "83hG8YP7VgbW",
        "outputId": "7509cc97-fe0e-4203-9f3e-7199ef15cd61"
      },
      "source": [
        "from sklearn.linear_model import LogisticRegression\n",
        "\n",
        "lor = LogisticRegression()\n",
        "\n",
        "lor.fit(X_train_features, y_train)"
      ],
      "execution_count": 27,
      "outputs": [
        {
          "output_type": "execute_result",
          "data": {
            "text/plain": [
              "LogisticRegression()"
            ]
          },
          "metadata": {},
          "execution_count": 27
        }
      ]
    },
    {
      "cell_type": "markdown",
      "metadata": {
        "id": "OYYQ6PvUVgbW"
      },
      "source": [
        "Valuation"
      ]
    },
    {
      "cell_type": "code",
      "metadata": {
        "id": "iy2gWNGsVgbW"
      },
      "source": [
        "y_pred = lor.predict(X_test_features)"
      ],
      "execution_count": 28,
      "outputs": []
    },
    {
      "cell_type": "markdown",
      "metadata": {
        "id": "NGvijA4WVgbW"
      },
      "source": [
        "Performance Metrics"
      ]
    },
    {
      "cell_type": "code",
      "metadata": {
        "colab": {
          "base_uri": "https://localhost:8080/"
        },
        "id": "5ny6vbTEVgbW",
        "outputId": "fdcba66c-e337-42be-ebbb-aff7751c4ed2"
      },
      "source": [
        "from sklearn.metrics import accuracy_score, confusion_matrix, classification_report\n",
        "\n",
        "print(\"1. Accuracy Score - \", accuracy_score(y_pred, y_test))\n",
        "print(\"2. Confusion Matrix - \", confusion_matrix(y_pred, y_test))\n",
        "print(\"3. Classification_report - \", classification_report(y_pred, y_test))"
      ],
      "execution_count": 29,
      "outputs": [
        {
          "output_type": "stream",
          "name": "stdout",
          "text": [
            "1. Accuracy Score -  0.9832535885167464\n",
            "2. Confusion Matrix -  [[1440   15]\n",
            " [  13  204]]\n",
            "3. Classification_report -                precision    recall  f1-score   support\n",
            "\n",
            "           0       0.99      0.99      0.99      1455\n",
            "           1       0.93      0.94      0.94       217\n",
            "\n",
            "    accuracy                           0.98      1672\n",
            "   macro avg       0.96      0.96      0.96      1672\n",
            "weighted avg       0.98      0.98      0.98      1672\n",
            "\n"
          ]
        }
      ]
    },
    {
      "cell_type": "code",
      "metadata": {
        "colab": {
          "base_uri": "https://localhost:8080/"
        },
        "id": "jdt_JckCVgbX",
        "outputId": "86f6292e-6951-4e85-ac4a-70f1b49f3875"
      },
      "source": [
        "lor.score(X_test_features, y_test)"
      ],
      "execution_count": 30,
      "outputs": [
        {
          "output_type": "execute_result",
          "data": {
            "text/plain": [
              "0.9832535885167464"
            ]
          },
          "metadata": {},
          "execution_count": 30
        }
      ]
    },
    {
      "cell_type": "code",
      "metadata": {
        "colab": {
          "base_uri": "https://localhost:8080/"
        },
        "id": "B4_njLmjVgbX",
        "outputId": "14218152-0066-4241-91ed-56a5fc2c07d2"
      },
      "source": [
        "accuracy_score(y_pred, y_test)"
      ],
      "execution_count": 31,
      "outputs": [
        {
          "output_type": "execute_result",
          "data": {
            "text/plain": [
              "0.9832535885167464"
            ]
          },
          "metadata": {},
          "execution_count": 31
        }
      ]
    },
    {
      "cell_type": "markdown",
      "metadata": {
        "id": "ZEkQ6olFVnei"
      },
      "source": [
        "##### **KNearestNeighbors**"
      ]
    },
    {
      "cell_type": "code",
      "metadata": {
        "colab": {
          "base_uri": "https://localhost:8080/"
        },
        "id": "FOvL0Pb0VrjR",
        "outputId": "00226416-df2b-4231-edec-9feb456db15b"
      },
      "source": [
        "from sklearn.neighbors import KNeighborsClassifier\n",
        "\n",
        "knn = KNeighborsClassifier()\n",
        "\n",
        "knn.fit(X_train_features, y_train)"
      ],
      "execution_count": 32,
      "outputs": [
        {
          "output_type": "execute_result",
          "data": {
            "text/plain": [
              "KNeighborsClassifier()"
            ]
          },
          "metadata": {},
          "execution_count": 32
        }
      ]
    },
    {
      "cell_type": "markdown",
      "metadata": {
        "id": "NtbjKbsmWNO1"
      },
      "source": [
        "Valuation"
      ]
    },
    {
      "cell_type": "code",
      "metadata": {
        "id": "-YTcAApkWImM"
      },
      "source": [
        "y_pred = knn.predict(X_test_features)"
      ],
      "execution_count": 33,
      "outputs": []
    },
    {
      "cell_type": "markdown",
      "metadata": {
        "id": "t7hPxTv5XE11"
      },
      "source": [
        "Classification metrics"
      ]
    },
    {
      "cell_type": "code",
      "metadata": {
        "colab": {
          "base_uri": "https://localhost:8080/"
        },
        "id": "t_3LOOPwWIjH",
        "outputId": "d1889731-9d85-49a1-a376-536890260402"
      },
      "source": [
        "from sklearn.metrics import accuracy_score, confusion_matrix, classification_report\n",
        "\n",
        "print(\"1. Accuracy Score - \", accuracy_score(y_pred, y_test))\n",
        "print(\"2. Confusion Matrix - \", confusion_matrix(y_pred, y_test))\n",
        "print(\"3. Classification_report - \", classification_report(y_pred, y_test))"
      ],
      "execution_count": 34,
      "outputs": [
        {
          "output_type": "stream",
          "name": "stdout",
          "text": [
            "1. Accuracy Score -  0.94377990430622\n",
            "2. Confusion Matrix -  [[1452   93]\n",
            " [   1  126]]\n",
            "3. Classification_report -                precision    recall  f1-score   support\n",
            "\n",
            "           0       1.00      0.94      0.97      1545\n",
            "           1       0.58      0.99      0.73       127\n",
            "\n",
            "    accuracy                           0.94      1672\n",
            "   macro avg       0.79      0.97      0.85      1672\n",
            "weighted avg       0.97      0.94      0.95      1672\n",
            "\n"
          ]
        }
      ]
    },
    {
      "cell_type": "code",
      "metadata": {
        "colab": {
          "base_uri": "https://localhost:8080/"
        },
        "id": "NAG8bRH_WIOe",
        "outputId": "0cff7c60-f0c7-4058-aaa9-a34e36614ef0"
      },
      "source": [
        "knn.score(X_test_features, y_test)"
      ],
      "execution_count": 35,
      "outputs": [
        {
          "output_type": "execute_result",
          "data": {
            "text/plain": [
              "0.94377990430622"
            ]
          },
          "metadata": {},
          "execution_count": 35
        }
      ]
    },
    {
      "cell_type": "code",
      "metadata": {
        "id": "_Z0ex5erWILb"
      },
      "source": [
        ""
      ],
      "execution_count": 35,
      "outputs": []
    },
    {
      "cell_type": "markdown",
      "metadata": {
        "id": "1pYi6lly_gt7"
      },
      "source": [
        "##### **DecisionTreeClassifier**"
      ]
    },
    {
      "cell_type": "code",
      "metadata": {
        "colab": {
          "base_uri": "https://localhost:8080/"
        },
        "id": "a_x6Uncz_l_9",
        "outputId": "0a307c39-ed41-4121-9d9a-1f180075e358"
      },
      "source": [
        "from sklearn.tree import DecisionTreeClassifier\n",
        "\n",
        "dtree = DecisionTreeClassifier(criterion=\"entropy\", max_depth=10)\n",
        "\n",
        "dtree.fit(X_train_features, y_train)"
      ],
      "execution_count": 36,
      "outputs": [
        {
          "output_type": "execute_result",
          "data": {
            "text/plain": [
              "DecisionTreeClassifier(criterion='entropy', max_depth=10)"
            ]
          },
          "metadata": {},
          "execution_count": 36
        }
      ]
    },
    {
      "cell_type": "markdown",
      "metadata": {
        "id": "7_hEUPrCBUKS"
      },
      "source": [
        "Valuation"
      ]
    },
    {
      "cell_type": "code",
      "metadata": {
        "id": "FU5cvJhd_mBk"
      },
      "source": [
        "y_predt = dtree.predict(X_test_features)"
      ],
      "execution_count": 37,
      "outputs": []
    },
    {
      "cell_type": "code",
      "metadata": {
        "colab": {
          "base_uri": "https://localhost:8080/"
        },
        "id": "DuDc2WsY_mEN",
        "outputId": "9646dd80-4511-41c7-9298-8a7769a763a9"
      },
      "source": [
        "y_predt"
      ],
      "execution_count": 38,
      "outputs": [
        {
          "output_type": "execute_result",
          "data": {
            "text/plain": [
              "array([0, 0, 0, ..., 0, 0, 1])"
            ]
          },
          "metadata": {},
          "execution_count": 38
        }
      ]
    },
    {
      "cell_type": "markdown",
      "metadata": {
        "id": "JwXwg-bGCAp2"
      },
      "source": [
        "Prediction Metrics"
      ]
    },
    {
      "cell_type": "code",
      "metadata": {
        "colab": {
          "base_uri": "https://localhost:8080/"
        },
        "id": "fEC8pXpU_mHO",
        "outputId": "65917f4c-89e6-4bb3-bba1-fae65fd7973a"
      },
      "source": [
        "from sklearn.metrics import accuracy_score, confusion_matrix, classification_report\n",
        "\n",
        "print(\"1. Accuracy Score - \", accuracy_score(y_predt, y_test))\n",
        "print(\"\\n\")\n",
        "print(\"2. Confusion Matrix - \\n\", confusion_matrix(y_predt, y_test))\n",
        "print(\"\\n\")\n",
        "print(\"3. Classification_report - \\n\\n\", classification_report(y_predt, y_test))"
      ],
      "execution_count": 39,
      "outputs": [
        {
          "output_type": "stream",
          "name": "stdout",
          "text": [
            "1. Accuracy Score -  0.9449760765550239\n",
            "\n",
            "\n",
            "2. Confusion Matrix - \n",
            " [[1430   69]\n",
            " [  23  150]]\n",
            "\n",
            "\n",
            "3. Classification_report - \n",
            "\n",
            "               precision    recall  f1-score   support\n",
            "\n",
            "           0       0.98      0.95      0.97      1499\n",
            "           1       0.68      0.87      0.77       173\n",
            "\n",
            "    accuracy                           0.94      1672\n",
            "   macro avg       0.83      0.91      0.87      1672\n",
            "weighted avg       0.95      0.94      0.95      1672\n",
            "\n"
          ]
        }
      ]
    },
    {
      "cell_type": "code",
      "metadata": {
        "colab": {
          "base_uri": "https://localhost:8080/"
        },
        "id": "wdU_9KfCXOGr",
        "outputId": "64ce71f5-3f39-495e-855b-570557e08e57"
      },
      "source": [
        "dtree.score(X_test_features, y_test)"
      ],
      "execution_count": 40,
      "outputs": [
        {
          "output_type": "execute_result",
          "data": {
            "text/plain": [
              "0.9449760765550239"
            ]
          },
          "metadata": {},
          "execution_count": 40
        }
      ]
    },
    {
      "cell_type": "code",
      "metadata": {
        "id": "hu_vUnElXN5P"
      },
      "source": [
        ""
      ],
      "execution_count": 40,
      "outputs": []
    },
    {
      "cell_type": "markdown",
      "metadata": {
        "id": "IzGLB1quXUUg"
      },
      "source": [
        "##### **RandomForestClassifier**"
      ]
    },
    {
      "cell_type": "code",
      "metadata": {
        "colab": {
          "base_uri": "https://localhost:8080/"
        },
        "id": "IFLJsnmjXYHm",
        "outputId": "03b0d53b-f5d1-460f-8af4-4f138b7d8b55"
      },
      "source": [
        "from sklearn.ensemble import RandomForestClassifier\n",
        "\n",
        "rfc = RandomForestClassifier()\n",
        "\n",
        "rfc.fit(X_train_features, y_train)"
      ],
      "execution_count": 41,
      "outputs": [
        {
          "output_type": "execute_result",
          "data": {
            "text/plain": [
              "RandomForestClassifier()"
            ]
          },
          "metadata": {},
          "execution_count": 41
        }
      ]
    },
    {
      "cell_type": "markdown",
      "metadata": {
        "id": "GNkIiZeuXi38"
      },
      "source": [
        "Valuation"
      ]
    },
    {
      "cell_type": "code",
      "metadata": {
        "id": "49rBhkq8XYC_"
      },
      "source": [
        "y_pred = rfc.predict(X_test_features)"
      ],
      "execution_count": 42,
      "outputs": []
    },
    {
      "cell_type": "markdown",
      "metadata": {
        "id": "HGUgWoAIXuhk"
      },
      "source": [
        "Classification Metrics"
      ]
    },
    {
      "cell_type": "code",
      "metadata": {
        "colab": {
          "base_uri": "https://localhost:8080/"
        },
        "id": "EwwaXQiOXYAV",
        "outputId": "b2574125-5a13-48c2-9f55-3dad5255521d"
      },
      "source": [
        "from sklearn.metrics import accuracy_score, confusion_matrix, classification_report\n",
        "\n",
        "print(\"1. Accuracy Score - \", accuracy_score(y_pred, y_test))\n",
        "print(\"2. Confusion Matrix - \", confusion_matrix(y_pred, y_test))\n",
        "print(\"3. Classification_report - \", classification_report(y_pred, y_test))"
      ],
      "execution_count": 43,
      "outputs": [
        {
          "output_type": "stream",
          "name": "stdout",
          "text": [
            "1. Accuracy Score -  0.9820574162679426\n",
            "2. Confusion Matrix -  [[1450   27]\n",
            " [   3  192]]\n",
            "3. Classification_report -                precision    recall  f1-score   support\n",
            "\n",
            "           0       1.00      0.98      0.99      1477\n",
            "           1       0.88      0.98      0.93       195\n",
            "\n",
            "    accuracy                           0.98      1672\n",
            "   macro avg       0.94      0.98      0.96      1672\n",
            "weighted avg       0.98      0.98      0.98      1672\n",
            "\n"
          ]
        }
      ]
    },
    {
      "cell_type": "code",
      "metadata": {
        "colab": {
          "base_uri": "https://localhost:8080/"
        },
        "id": "IxQxSaSoXzte",
        "outputId": "9bc83c32-25db-4e56-856b-ccab0330beb0"
      },
      "source": [
        "rfc.score(X_test_features, y_test)"
      ],
      "execution_count": 44,
      "outputs": [
        {
          "output_type": "execute_result",
          "data": {
            "text/plain": [
              "0.9820574162679426"
            ]
          },
          "metadata": {},
          "execution_count": 44
        }
      ]
    },
    {
      "cell_type": "code",
      "metadata": {
        "id": "_rRfdRliXX-5"
      },
      "source": [
        ""
      ],
      "execution_count": 44,
      "outputs": []
    },
    {
      "cell_type": "markdown",
      "metadata": {
        "id": "zlTAI7uqzLk2"
      },
      "source": [
        "##### **GradientBoostingClassifier**"
      ]
    },
    {
      "cell_type": "code",
      "metadata": {
        "colab": {
          "base_uri": "https://localhost:8080/"
        },
        "id": "LJVzIRlJyqEp",
        "outputId": "9c530280-2fca-405f-8e64-de51f6ba4d33"
      },
      "source": [
        "from sklearn.ensemble import GradientBoostingClassifier\n",
        "\n",
        "gradboostclass = GradientBoostingClassifier()\n",
        "\n",
        "gradboostclass.fit(X_train_features, y_train)"
      ],
      "execution_count": 45,
      "outputs": [
        {
          "output_type": "execute_result",
          "data": {
            "text/plain": [
              "GradientBoostingClassifier()"
            ]
          },
          "metadata": {},
          "execution_count": 45
        }
      ]
    },
    {
      "cell_type": "markdown",
      "metadata": {
        "id": "jl-3LafTzWZf"
      },
      "source": [
        "Valuation"
      ]
    },
    {
      "cell_type": "code",
      "metadata": {
        "id": "rGlpTgULyqHa"
      },
      "source": [
        "y_predg = gradboostclass.predict(X_test_features)"
      ],
      "execution_count": 46,
      "outputs": []
    },
    {
      "cell_type": "code",
      "metadata": {
        "colab": {
          "base_uri": "https://localhost:8080/"
        },
        "id": "a7Z7gtkuzchr",
        "outputId": "5f4f0d94-337e-4eed-86a7-1276f8634bb1"
      },
      "source": [
        "y_predg"
      ],
      "execution_count": 47,
      "outputs": [
        {
          "output_type": "execute_result",
          "data": {
            "text/plain": [
              "array([0, 0, 0, ..., 0, 0, 1])"
            ]
          },
          "metadata": {},
          "execution_count": 47
        }
      ]
    },
    {
      "cell_type": "markdown",
      "metadata": {
        "id": "VRgfgNQQzjeg"
      },
      "source": [
        "Performance Metrics"
      ]
    },
    {
      "cell_type": "code",
      "metadata": {
        "colab": {
          "base_uri": "https://localhost:8080/"
        },
        "id": "KibfqyhQyqV8",
        "outputId": "effb6b62-2586-4f94-e4d6-dd3dbed8c3ec"
      },
      "source": [
        "from sklearn.metrics import accuracy_score, confusion_matrix, classification_report\n",
        "\n",
        "print(\"1. Accuracy Score - \", accuracy_score(y_predg, y_test))\n",
        "print(\"\\n\")\n",
        "print(\"2. Confusion Matrix - \\n\", confusion_matrix(y_predg, y_test))\n",
        "print(\"\\n\")\n",
        "print(\"3. Classification_report - \\n\\n\", classification_report(y_predg, y_test))"
      ],
      "execution_count": 48,
      "outputs": [
        {
          "output_type": "stream",
          "name": "stdout",
          "text": [
            "1. Accuracy Score -  0.965311004784689\n",
            "\n",
            "\n",
            "2. Confusion Matrix - \n",
            " [[1428   33]\n",
            " [  25  186]]\n",
            "\n",
            "\n",
            "3. Classification_report - \n",
            "\n",
            "               precision    recall  f1-score   support\n",
            "\n",
            "           0       0.98      0.98      0.98      1461\n",
            "           1       0.85      0.88      0.87       211\n",
            "\n",
            "    accuracy                           0.97      1672\n",
            "   macro avg       0.92      0.93      0.92      1672\n",
            "weighted avg       0.97      0.97      0.97      1672\n",
            "\n"
          ]
        }
      ]
    },
    {
      "cell_type": "code",
      "metadata": {
        "colab": {
          "base_uri": "https://localhost:8080/"
        },
        "id": "JHTrjwd4YDkG",
        "outputId": "0a0ca0ca-4411-4ad7-c543-bb64dd3deb87"
      },
      "source": [
        "gradboostclass.score(X_test_features, y_test)"
      ],
      "execution_count": 49,
      "outputs": [
        {
          "output_type": "execute_result",
          "data": {
            "text/plain": [
              "0.965311004784689"
            ]
          },
          "metadata": {},
          "execution_count": 49
        }
      ]
    },
    {
      "cell_type": "code",
      "metadata": {
        "id": "DczfYBiXYDhR"
      },
      "source": [
        ""
      ],
      "execution_count": 49,
      "outputs": []
    },
    {
      "cell_type": "markdown",
      "metadata": {
        "id": "TuSKfTxy0Lny"
      },
      "source": [
        "##### **AdaBoostClassifier**"
      ]
    },
    {
      "cell_type": "code",
      "metadata": {
        "colab": {
          "base_uri": "https://localhost:8080/"
        },
        "id": "ClfCF87PyqXm",
        "outputId": "5567b500-ed6b-4b7f-9c45-d0f6a3894ac8"
      },
      "source": [
        "from sklearn.ensemble import AdaBoostClassifier\n",
        "\n",
        "adaboostclass = AdaBoostClassifier(\n",
        "    learning_rate=1\n",
        ")\n",
        "\n",
        "adaboostclass.fit(X_train_features, y_train)"
      ],
      "execution_count": 50,
      "outputs": [
        {
          "output_type": "execute_result",
          "data": {
            "text/plain": [
              "AdaBoostClassifier(learning_rate=1)"
            ]
          },
          "metadata": {},
          "execution_count": 50
        }
      ]
    },
    {
      "cell_type": "markdown",
      "metadata": {
        "id": "s4nn8cPQ0UnV"
      },
      "source": [
        "Valuation"
      ]
    },
    {
      "cell_type": "code",
      "metadata": {
        "id": "wWQ4zsdRyqai"
      },
      "source": [
        "y_preda = adaboostclass.predict(X_test_features)"
      ],
      "execution_count": 51,
      "outputs": []
    },
    {
      "cell_type": "code",
      "metadata": {
        "colab": {
          "base_uri": "https://localhost:8080/"
        },
        "id": "siIVsfcryqcS",
        "outputId": "226be983-2873-436d-d598-0f8712132e37"
      },
      "source": [
        "y_preda"
      ],
      "execution_count": 52,
      "outputs": [
        {
          "output_type": "execute_result",
          "data": {
            "text/plain": [
              "array([0, 0, 0, ..., 0, 0, 0])"
            ]
          },
          "metadata": {},
          "execution_count": 52
        }
      ]
    },
    {
      "cell_type": "markdown",
      "metadata": {
        "id": "34YwFkNw0aN8"
      },
      "source": [
        "Performance Matrix"
      ]
    },
    {
      "cell_type": "code",
      "metadata": {
        "colab": {
          "base_uri": "https://localhost:8080/"
        },
        "id": "N-0M-B6ayqfo",
        "outputId": "7a0638db-f08d-48d7-b590-6a7b5fb012a7"
      },
      "source": [
        "from sklearn.metrics import accuracy_score, confusion_matrix, classification_report\n",
        "\n",
        "print(\"1. Accuracy Score - \", accuracy_score(y_preda, y_test))\n",
        "print(\"\\n\")\n",
        "print(\"2. Confusion Matrix - \\n\", confusion_matrix(y_preda, y_test))\n",
        "print(\"\\n\")\n",
        "print(\"3. Classification_report - \\n\\n\", classification_report(y_preda, y_test))"
      ],
      "execution_count": 53,
      "outputs": [
        {
          "output_type": "stream",
          "name": "stdout",
          "text": [
            "1. Accuracy Score -  0.9671052631578947\n",
            "\n",
            "\n",
            "2. Confusion Matrix - \n",
            " [[1423   25]\n",
            " [  30  194]]\n",
            "\n",
            "\n",
            "3. Classification_report - \n",
            "\n",
            "               precision    recall  f1-score   support\n",
            "\n",
            "           0       0.98      0.98      0.98      1448\n",
            "           1       0.89      0.87      0.88       224\n",
            "\n",
            "    accuracy                           0.97      1672\n",
            "   macro avg       0.93      0.92      0.93      1672\n",
            "weighted avg       0.97      0.97      0.97      1672\n",
            "\n"
          ]
        }
      ]
    },
    {
      "cell_type": "code",
      "metadata": {
        "id": "hFN9U_cPyqiI"
      },
      "source": [
        ""
      ],
      "execution_count": 53,
      "outputs": []
    },
    {
      "cell_type": "markdown",
      "metadata": {
        "id": "I_0TtyoOYO0U"
      },
      "source": [
        "##### **XGBClassifier**"
      ]
    },
    {
      "cell_type": "code",
      "metadata": {
        "id": "LIiHv7jjyqkJ",
        "colab": {
          "base_uri": "https://localhost:8080/"
        },
        "outputId": "922e486e-cb6e-4166-827e-cb08694e99fc"
      },
      "source": [
        "import xgboost\n",
        "from xgboost import XGBClassifier\n",
        "\n",
        "xgb = XGBClassifier()\n",
        "\n",
        "xgb.fit(X_train_features, y_train)"
      ],
      "execution_count": 54,
      "outputs": [
        {
          "output_type": "execute_result",
          "data": {
            "text/plain": [
              "XGBClassifier()"
            ]
          },
          "metadata": {},
          "execution_count": 54
        }
      ]
    },
    {
      "cell_type": "markdown",
      "metadata": {
        "id": "MXcVWF1WYkbb"
      },
      "source": [
        "Valuation"
      ]
    },
    {
      "cell_type": "code",
      "metadata": {
        "id": "Wsoram_lycoX"
      },
      "source": [
        "y_pred = xgb.predict(X_test_features)"
      ],
      "execution_count": 55,
      "outputs": []
    },
    {
      "cell_type": "markdown",
      "metadata": {
        "id": "dxLJAaDkYq7H"
      },
      "source": [
        "Classification metrics"
      ]
    },
    {
      "cell_type": "code",
      "metadata": {
        "id": "0fcR-Am5ycwd",
        "colab": {
          "base_uri": "https://localhost:8080/"
        },
        "outputId": "b1523573-7414-462d-faae-c55b77653fcf"
      },
      "source": [
        "from sklearn.metrics import accuracy_score, confusion_matrix, classification_report\n",
        "\n",
        "print(\"1. Accuracy Score - \", accuracy_score(y_pred, y_test))\n",
        "print(\"2. Confusion Matrix - \", confusion_matrix(y_pred, y_test))\n",
        "print(\"3. Classification_report - \", classification_report(y_pred, y_test))"
      ],
      "execution_count": 56,
      "outputs": [
        {
          "output_type": "stream",
          "name": "stdout",
          "text": [
            "1. Accuracy Score -  0.9641148325358851\n",
            "2. Confusion Matrix -  [[1426   33]\n",
            " [  27  186]]\n",
            "3. Classification_report -                precision    recall  f1-score   support\n",
            "\n",
            "           0       0.98      0.98      0.98      1459\n",
            "           1       0.85      0.87      0.86       213\n",
            "\n",
            "    accuracy                           0.96      1672\n",
            "   macro avg       0.92      0.93      0.92      1672\n",
            "weighted avg       0.96      0.96      0.96      1672\n",
            "\n"
          ]
        }
      ]
    },
    {
      "cell_type": "code",
      "metadata": {
        "colab": {
          "base_uri": "https://localhost:8080/"
        },
        "id": "ggdBbDHpYtud",
        "outputId": "a850feac-1dbd-4cdf-95dd-53a292949ae9"
      },
      "source": [
        "xgb.score(X_test_features, y_test)"
      ],
      "execution_count": 57,
      "outputs": [
        {
          "output_type": "execute_result",
          "data": {
            "text/plain": [
              "0.9641148325358851"
            ]
          },
          "metadata": {},
          "execution_count": 57
        }
      ]
    },
    {
      "cell_type": "code",
      "metadata": {
        "id": "YL_MPPTiY06u"
      },
      "source": [
        ""
      ],
      "execution_count": 57,
      "outputs": []
    },
    {
      "cell_type": "markdown",
      "metadata": {
        "id": "t01f4EWmY2C3"
      },
      "source": [
        "##### **Inference**"
      ]
    },
    {
      "cell_type": "markdown",
      "metadata": {
        "id": "He-hsqN4Y8hz"
      },
      "source": [
        "**AdaBoostClassifier prevails and predicts the given text precisely with maximum accuracy**"
      ]
    },
    {
      "cell_type": "code",
      "metadata": {
        "id": "ad6fZb-MY3xv"
      },
      "source": [
        ""
      ],
      "execution_count": 57,
      "outputs": []
    },
    {
      "cell_type": "markdown",
      "metadata": {
        "id": "hD27qRrkJ4us"
      },
      "source": [
        "##### **Deployment**"
      ]
    },
    {
      "cell_type": "code",
      "metadata": {
        "id": "RVhVFmxQNL8i"
      },
      "source": [
        "# Pckle dump\n",
        "\n",
        "import pickle\n",
        "\n",
        "pickle.dump(adaboostclass, open(\"adaboostlass.pkl\", \"wb\"))"
      ],
      "execution_count": 58,
      "outputs": []
    },
    {
      "cell_type": "code",
      "metadata": {
        "id": "4733pVmQNURO",
        "colab": {
          "base_uri": "https://localhost:8080/"
        },
        "outputId": "26ae6bb7-7840-4a96-ffc9-0b8d6f6dbca8"
      },
      "source": [
        "# Pydantic\n",
        "\n",
        "!pip install pydantic\n",
        "from pydantic import BaseModel\n",
        "\n",
        "class incoming_mail(BaseModel):\n",
        "  Message : str\n",
        "\n",
        "  class Config:\n",
        "    schema_extra = {\n",
        "        \"example\" : {\n",
        "            \"Message\"  : \"Free entry in 2 a wkly comp to win FA Cup final tkts 21st May 2005. Text FA to 87121 to receive entry question(std txt rate)T&C's apply 08452810075over18's \",\n",
        "                    }\n",
        "    }"
      ],
      "execution_count": 59,
      "outputs": [
        {
          "output_type": "stream",
          "name": "stdout",
          "text": [
            "Requirement already satisfied: pydantic in /usr/local/lib/python3.7/dist-packages (1.8.2)\n",
            "Requirement already satisfied: typing-extensions>=3.7.4.3 in /usr/local/lib/python3.7/dist-packages (from pydantic) (3.10.0.2)\n"
          ]
        }
      ]
    },
    {
      "cell_type": "code",
      "metadata": {
        "colab": {
          "base_uri": "https://localhost:8080/"
        },
        "id": "cmfkkWSuSyf-",
        "outputId": "ece5e8af-6f2f-4946-e720-fdba3aa5b88e"
      },
      "source": [
        "# FastAPI\n",
        "\n",
        "!pip install fastapi\n",
        "from fastapi import FastAPI\n",
        "\n",
        "app = FastAPI()\n",
        "\n",
        "@app.on_event(\"startup\")\n",
        "def load_model():                                   # path.operation.functiuno\n",
        "  global model\n",
        "  model = pickle.load(open(\"adaboostclass.pkl\", \"rb\"))\n",
        "\n",
        "@app.get(\"/\")\n",
        "def index():\n",
        "  return {\"message\" : \"Homepage of API\"}\n",
        "\n",
        "@app.post(\"predict\")\n",
        "def get_incoming_mail(data: incoming_mail):\n",
        "  received = data.dict()\n",
        "  Message  =  received[\"Message\"]\n",
        "\n",
        "  pred_name = model.predict([Message]).tolist()[0]\n",
        "  return {\"prediction\" : pred_name}"
      ],
      "execution_count": 60,
      "outputs": [
        {
          "output_type": "stream",
          "name": "stdout",
          "text": [
            "Requirement already satisfied: fastapi in /usr/local/lib/python3.7/dist-packages (0.70.0)\n",
            "Requirement already satisfied: starlette==0.16.0 in /usr/local/lib/python3.7/dist-packages (from fastapi) (0.16.0)\n",
            "Requirement already satisfied: pydantic!=1.7,!=1.7.1,!=1.7.2,!=1.7.3,!=1.8,!=1.8.1,<2.0.0,>=1.6.2 in /usr/local/lib/python3.7/dist-packages (from fastapi) (1.8.2)\n",
            "Requirement already satisfied: typing-extensions in /usr/local/lib/python3.7/dist-packages (from starlette==0.16.0->fastapi) (3.10.0.2)\n",
            "Requirement already satisfied: anyio<4,>=3.0.0 in /usr/local/lib/python3.7/dist-packages (from starlette==0.16.0->fastapi) (3.4.0)\n",
            "Requirement already satisfied: sniffio>=1.1 in /usr/local/lib/python3.7/dist-packages (from anyio<4,>=3.0.0->starlette==0.16.0->fastapi) (1.2.0)\n",
            "Requirement already satisfied: idna>=2.8 in /usr/local/lib/python3.7/dist-packages (from anyio<4,>=3.0.0->starlette==0.16.0->fastapi) (2.10)\n"
          ]
        }
      ]
    },
    {
      "cell_type": "code",
      "metadata": {
        "colab": {
          "base_uri": "https://localhost:8080/"
        },
        "id": "wd9T0QcjJ6ui",
        "outputId": "1a81aa88-1644-4464-c575-18c9d63d29d5"
      },
      "source": [
        "# ColabCode\n",
        "\n",
        "!pip install colabcode\n",
        "\n",
        "from colabcode import ColabCode\n",
        "\n",
        "server = ColabCode(port = 15000, code=False)"
      ],
      "execution_count": 61,
      "outputs": [
        {
          "output_type": "stream",
          "name": "stdout",
          "text": [
            "Requirement already satisfied: colabcode in /usr/local/lib/python3.7/dist-packages (0.3.0)\n",
            "Requirement already satisfied: nest-asyncio==1.4.3 in /usr/local/lib/python3.7/dist-packages (from colabcode) (1.4.3)\n",
            "Requirement already satisfied: pyngrok>=5.0.0 in /usr/local/lib/python3.7/dist-packages (from colabcode) (5.1.0)\n",
            "Requirement already satisfied: jupyterlab==3.0.7 in /usr/local/lib/python3.7/dist-packages (from colabcode) (3.0.7)\n",
            "Requirement already satisfied: uvicorn==0.13.1 in /usr/local/lib/python3.7/dist-packages (from colabcode) (0.13.1)\n",
            "Requirement already satisfied: tornado>=6.1.0 in /usr/local/lib/python3.7/dist-packages (from jupyterlab==3.0.7->colabcode) (6.1)\n",
            "Requirement already satisfied: jinja2>=2.10 in /usr/local/lib/python3.7/dist-packages (from jupyterlab==3.0.7->colabcode) (2.11.3)\n",
            "Requirement already satisfied: ipython in /usr/local/lib/python3.7/dist-packages (from jupyterlab==3.0.7->colabcode) (5.5.0)\n",
            "Requirement already satisfied: jupyterlab-server~=2.0 in /usr/local/lib/python3.7/dist-packages (from jupyterlab==3.0.7->colabcode) (2.8.2)\n",
            "Requirement already satisfied: nbclassic~=0.2 in /usr/local/lib/python3.7/dist-packages (from jupyterlab==3.0.7->colabcode) (0.3.4)\n",
            "Requirement already satisfied: jupyter-server~=1.2 in /usr/local/lib/python3.7/dist-packages (from jupyterlab==3.0.7->colabcode) (1.12.1)\n",
            "Requirement already satisfied: packaging in /usr/local/lib/python3.7/dist-packages (from jupyterlab==3.0.7->colabcode) (21.3)\n",
            "Requirement already satisfied: jupyter-core in /usr/local/lib/python3.7/dist-packages (from jupyterlab==3.0.7->colabcode) (4.9.1)\n",
            "Requirement already satisfied: click==7.* in /usr/local/lib/python3.7/dist-packages (from uvicorn==0.13.1->colabcode) (7.1.2)\n",
            "Requirement already satisfied: h11>=0.8 in /usr/local/lib/python3.7/dist-packages (from uvicorn==0.13.1->colabcode) (0.12.0)\n",
            "Requirement already satisfied: typing-extensions in /usr/local/lib/python3.7/dist-packages (from uvicorn==0.13.1->colabcode) (3.10.0.2)\n",
            "Requirement already satisfied: MarkupSafe>=0.23 in /usr/local/lib/python3.7/dist-packages (from jinja2>=2.10->jupyterlab==3.0.7->colabcode) (2.0.1)\n",
            "Requirement already satisfied: prometheus-client in /usr/local/lib/python3.7/dist-packages (from jupyter-server~=1.2->jupyterlab==3.0.7->colabcode) (0.12.0)\n",
            "Requirement already satisfied: traitlets>=4.2.1 in /usr/local/lib/python3.7/dist-packages (from jupyter-server~=1.2->jupyterlab==3.0.7->colabcode) (5.1.1)\n",
            "Requirement already satisfied: jupyter-client>=6.1.1 in /usr/local/lib/python3.7/dist-packages (from jupyter-server~=1.2->jupyterlab==3.0.7->colabcode) (6.1.12)\n",
            "Requirement already satisfied: terminado>=0.8.3 in /usr/local/lib/python3.7/dist-packages (from jupyter-server~=1.2->jupyterlab==3.0.7->colabcode) (0.12.1)\n",
            "Requirement already satisfied: websocket-client in /usr/local/lib/python3.7/dist-packages (from jupyter-server~=1.2->jupyterlab==3.0.7->colabcode) (1.2.1)\n",
            "Requirement already satisfied: Send2Trash in /usr/local/lib/python3.7/dist-packages (from jupyter-server~=1.2->jupyterlab==3.0.7->colabcode) (1.8.0)\n",
            "Requirement already satisfied: nbconvert in /usr/local/lib/python3.7/dist-packages (from jupyter-server~=1.2->jupyterlab==3.0.7->colabcode) (5.6.1)\n",
            "Requirement already satisfied: anyio<4,>=3.1.0 in /usr/local/lib/python3.7/dist-packages (from jupyter-server~=1.2->jupyterlab==3.0.7->colabcode) (3.4.0)\n",
            "Requirement already satisfied: argon2-cffi in /usr/local/lib/python3.7/dist-packages (from jupyter-server~=1.2->jupyterlab==3.0.7->colabcode) (21.1.0)\n",
            "Requirement already satisfied: pyzmq>=17 in /usr/local/lib/python3.7/dist-packages (from jupyter-server~=1.2->jupyterlab==3.0.7->colabcode) (22.3.0)\n",
            "Requirement already satisfied: ipython-genutils in /usr/local/lib/python3.7/dist-packages (from jupyter-server~=1.2->jupyterlab==3.0.7->colabcode) (0.2.0)\n",
            "Requirement already satisfied: nbformat in /usr/local/lib/python3.7/dist-packages (from jupyter-server~=1.2->jupyterlab==3.0.7->colabcode) (5.1.3)\n",
            "Requirement already satisfied: sniffio>=1.1 in /usr/local/lib/python3.7/dist-packages (from anyio<4,>=3.1.0->jupyter-server~=1.2->jupyterlab==3.0.7->colabcode) (1.2.0)\n",
            "Requirement already satisfied: idna>=2.8 in /usr/local/lib/python3.7/dist-packages (from anyio<4,>=3.1.0->jupyter-server~=1.2->jupyterlab==3.0.7->colabcode) (2.10)\n",
            "Requirement already satisfied: python-dateutil>=2.1 in /usr/local/lib/python3.7/dist-packages (from jupyter-client>=6.1.1->jupyter-server~=1.2->jupyterlab==3.0.7->colabcode) (2.8.2)\n",
            "Requirement already satisfied: jsonschema>=3.0.1 in /usr/local/lib/python3.7/dist-packages (from jupyterlab-server~=2.0->jupyterlab==3.0.7->colabcode) (4.2.1)\n",
            "Requirement already satisfied: entrypoints>=0.2.2 in /usr/local/lib/python3.7/dist-packages (from jupyterlab-server~=2.0->jupyterlab==3.0.7->colabcode) (0.3)\n",
            "Requirement already satisfied: babel in /usr/local/lib/python3.7/dist-packages (from jupyterlab-server~=2.0->jupyterlab==3.0.7->colabcode) (2.9.1)\n",
            "Requirement already satisfied: requests in /usr/local/lib/python3.7/dist-packages (from jupyterlab-server~=2.0->jupyterlab==3.0.7->colabcode) (2.23.0)\n",
            "Requirement already satisfied: json5 in /usr/local/lib/python3.7/dist-packages (from jupyterlab-server~=2.0->jupyterlab==3.0.7->colabcode) (0.9.6)\n",
            "Requirement already satisfied: pyrsistent!=0.17.0,!=0.17.1,!=0.17.2,>=0.14.0 in /usr/local/lib/python3.7/dist-packages (from jsonschema>=3.0.1->jupyterlab-server~=2.0->jupyterlab==3.0.7->colabcode) (0.18.0)\n",
            "Requirement already satisfied: attrs>=17.4.0 in /usr/local/lib/python3.7/dist-packages (from jsonschema>=3.0.1->jupyterlab-server~=2.0->jupyterlab==3.0.7->colabcode) (21.2.0)\n",
            "Requirement already satisfied: importlib-metadata in /usr/local/lib/python3.7/dist-packages (from jsonschema>=3.0.1->jupyterlab-server~=2.0->jupyterlab==3.0.7->colabcode) (4.8.2)\n",
            "Requirement already satisfied: importlib-resources>=1.4.0 in /usr/local/lib/python3.7/dist-packages (from jsonschema>=3.0.1->jupyterlab-server~=2.0->jupyterlab==3.0.7->colabcode) (5.4.0)\n",
            "Requirement already satisfied: zipp>=3.1.0 in /usr/local/lib/python3.7/dist-packages (from importlib-resources>=1.4.0->jsonschema>=3.0.1->jupyterlab-server~=2.0->jupyterlab==3.0.7->colabcode) (3.6.0)\n",
            "Requirement already satisfied: notebook<7 in /usr/local/lib/python3.7/dist-packages (from nbclassic~=0.2->jupyterlab==3.0.7->colabcode) (5.3.1)\n",
            "Requirement already satisfied: ipykernel in /usr/local/lib/python3.7/dist-packages (from notebook<7->nbclassic~=0.2->jupyterlab==3.0.7->colabcode) (4.10.1)\n",
            "Requirement already satisfied: PyYAML in /usr/local/lib/python3.7/dist-packages (from pyngrok>=5.0.0->colabcode) (3.13)\n",
            "Requirement already satisfied: six>=1.5 in /usr/local/lib/python3.7/dist-packages (from python-dateutil>=2.1->jupyter-client>=6.1.1->jupyter-server~=1.2->jupyterlab==3.0.7->colabcode) (1.15.0)\n",
            "Requirement already satisfied: ptyprocess in /usr/local/lib/python3.7/dist-packages (from terminado>=0.8.3->jupyter-server~=1.2->jupyterlab==3.0.7->colabcode) (0.7.0)\n",
            "Requirement already satisfied: cffi>=1.0.0 in /usr/local/lib/python3.7/dist-packages (from argon2-cffi->jupyter-server~=1.2->jupyterlab==3.0.7->colabcode) (1.15.0)\n",
            "Requirement already satisfied: pycparser in /usr/local/lib/python3.7/dist-packages (from cffi>=1.0.0->argon2-cffi->jupyter-server~=1.2->jupyterlab==3.0.7->colabcode) (2.21)\n",
            "Requirement already satisfied: pytz>=2015.7 in /usr/local/lib/python3.7/dist-packages (from babel->jupyterlab-server~=2.0->jupyterlab==3.0.7->colabcode) (2018.9)\n",
            "Requirement already satisfied: simplegeneric>0.8 in /usr/local/lib/python3.7/dist-packages (from ipython->jupyterlab==3.0.7->colabcode) (0.8.1)\n",
            "Requirement already satisfied: pexpect in /usr/local/lib/python3.7/dist-packages (from ipython->jupyterlab==3.0.7->colabcode) (4.8.0)\n",
            "Requirement already satisfied: pickleshare in /usr/local/lib/python3.7/dist-packages (from ipython->jupyterlab==3.0.7->colabcode) (0.7.5)\n",
            "Requirement already satisfied: prompt-toolkit<2.0.0,>=1.0.4 in /usr/local/lib/python3.7/dist-packages (from ipython->jupyterlab==3.0.7->colabcode) (1.0.18)\n",
            "Requirement already satisfied: decorator in /usr/local/lib/python3.7/dist-packages (from ipython->jupyterlab==3.0.7->colabcode) (4.4.2)\n",
            "Requirement already satisfied: pygments in /usr/local/lib/python3.7/dist-packages (from ipython->jupyterlab==3.0.7->colabcode) (2.6.1)\n",
            "Requirement already satisfied: setuptools>=18.5 in /usr/local/lib/python3.7/dist-packages (from ipython->jupyterlab==3.0.7->colabcode) (57.4.0)\n",
            "Requirement already satisfied: wcwidth in /usr/local/lib/python3.7/dist-packages (from prompt-toolkit<2.0.0,>=1.0.4->ipython->jupyterlab==3.0.7->colabcode) (0.2.5)\n",
            "Requirement already satisfied: mistune<2,>=0.8.1 in /usr/local/lib/python3.7/dist-packages (from nbconvert->jupyter-server~=1.2->jupyterlab==3.0.7->colabcode) (0.8.4)\n",
            "Requirement already satisfied: pandocfilters>=1.4.1 in /usr/local/lib/python3.7/dist-packages (from nbconvert->jupyter-server~=1.2->jupyterlab==3.0.7->colabcode) (1.5.0)\n",
            "Requirement already satisfied: defusedxml in /usr/local/lib/python3.7/dist-packages (from nbconvert->jupyter-server~=1.2->jupyterlab==3.0.7->colabcode) (0.7.1)\n",
            "Requirement already satisfied: testpath in /usr/local/lib/python3.7/dist-packages (from nbconvert->jupyter-server~=1.2->jupyterlab==3.0.7->colabcode) (0.5.0)\n",
            "Requirement already satisfied: bleach in /usr/local/lib/python3.7/dist-packages (from nbconvert->jupyter-server~=1.2->jupyterlab==3.0.7->colabcode) (4.1.0)\n",
            "Requirement already satisfied: webencodings in /usr/local/lib/python3.7/dist-packages (from bleach->nbconvert->jupyter-server~=1.2->jupyterlab==3.0.7->colabcode) (0.5.1)\n",
            "Requirement already satisfied: pyparsing!=3.0.5,>=2.0.2 in /usr/local/lib/python3.7/dist-packages (from packaging->jupyterlab==3.0.7->colabcode) (3.0.6)\n",
            "Requirement already satisfied: chardet<4,>=3.0.2 in /usr/local/lib/python3.7/dist-packages (from requests->jupyterlab-server~=2.0->jupyterlab==3.0.7->colabcode) (3.0.4)\n",
            "Requirement already satisfied: certifi>=2017.4.17 in /usr/local/lib/python3.7/dist-packages (from requests->jupyterlab-server~=2.0->jupyterlab==3.0.7->colabcode) (2021.10.8)\n",
            "Requirement already satisfied: urllib3!=1.25.0,!=1.25.1,<1.26,>=1.21.1 in /usr/local/lib/python3.7/dist-packages (from requests->jupyterlab-server~=2.0->jupyterlab==3.0.7->colabcode) (1.24.3)\n"
          ]
        }
      ]
    },
    {
      "cell_type": "code",
      "metadata": {
        "id": "9gWoWWMGXFUj"
      },
      "source": [
        "server.run_app(app = app)"
      ],
      "execution_count": 62,
      "outputs": []
    },
    {
      "cell_type": "code",
      "metadata": {
        "colab": {
          "base_uri": "https://localhost:8080/"
        },
        "id": "nlfesxaOiZuM",
        "outputId": "09e4616f-bc98-4166-fc4b-8b80b89885d9"
      },
      "source": [
        ""
      ],
      "execution_count": 61,
      "outputs": [
        {
          "output_type": "stream",
          "name": "stdout",
          "text": [
            "Public URL: NgrokTunnel: \"https://ff43-35-243-217-246.ngrok.io\" -> \"http://localhost:15000\"\n"
          ]
        }
      ]
    },
    {
      "cell_type": "markdown",
      "metadata": {
        "id": "MJZgKm34FPU6"
      },
      "source": [
        "##### **END OF THE LINE**"
      ]
    }
  ]
}