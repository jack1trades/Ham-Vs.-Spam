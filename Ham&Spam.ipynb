{
  "nbformat": 4,
  "nbformat_minor": 0,
  "metadata": {
    "colab": {
      "name": "Ham&Spam.ipynb",
      "provenance": [],
      "collapsed_sections": [
        "uOrJe8tb9DAm",
        "mH3MQkc0w-t4",
        "u74Nm02SxHMA",
        "ZUy7pUwsxePd",
        "K4VOPLZ4xsLW",
        "d7hBVIMSyTP4",
        "AdXqetPiVgbV",
        "ZEkQ6olFVnei",
        "1pYi6lly_gt7",
        "IzGLB1quXUUg",
        "zlTAI7uqzLk2",
        "TuSKfTxy0Lny",
        "I_0TtyoOYO0U",
        "t01f4EWmY2C3",
        "hD27qRrkJ4us"
      ]
    },
    "kernelspec": {
      "name": "python3",
      "display_name": "Python 3"
    },
    "language_info": {
      "name": "python"
    }
  },
  "cells": [
    {
      "cell_type": "markdown",
      "metadata": {
        "id": "dJtWiIUpMe74"
      },
      "source": [
        "**SPAM VS HAM MAIL PREDICTION**"
      ]
    },
    {
      "cell_type": "markdown",
      "metadata": {
        "id": "_NJP5of57Cr_"
      },
      "source": [
        "**Spam mails form an accountable part of our cyberlives.**"
      ]
    },
    {
      "cell_type": "markdown",
      "metadata": {
        "id": "v_KPfCTn8YlB"
      },
      "source": [
        "**Perhaps, a system to categorize the mails as they reach the inbox - is a simple step that goes a long way.**"
      ]
    },
    {
      "cell_type": "markdown",
      "metadata": {
        "id": "Wmy71Vp98i5D"
      },
      "source": [
        "**In Machine Learning, a number of base and ensemble algorithms are used for effective classifiation.**"
      ]
    },
    {
      "cell_type": "markdown",
      "metadata": {
        "id": "SkWKaxCY8z14"
      },
      "source": [
        "**I have explored most of those classification algorithms here.**"
      ]
    },
    {
      "cell_type": "markdown",
      "metadata": {
        "id": "BoqIQlqt9AF9"
      },
      "source": [
        "**----------------------------------------------------------------------------**"
      ]
    },
    {
      "cell_type": "markdown",
      "metadata": {
        "id": "uOrJe8tb9DAm"
      },
      "source": [
        "##### **Import Libraries**"
      ]
    },
    {
      "cell_type": "code",
      "metadata": {
        "id": "C17cCfOpwrIe"
      },
      "source": [
        "import pandas as pd\n",
        "import numpy as np"
      ],
      "execution_count": null,
      "outputs": []
    },
    {
      "cell_type": "code",
      "metadata": {
        "id": "NARnEz5uw9EP"
      },
      "source": [
        "from sklearn.preprocessing import LabelEncoder\n",
        "from sklearn.model_selection import train_test_split\n",
        "from sklearn.linear_model import LogisticRegression"
      ],
      "execution_count": null,
      "outputs": []
    },
    {
      "cell_type": "markdown",
      "metadata": {
        "id": "mH3MQkc0w-t4"
      },
      "source": [
        "##### **Dataset**"
      ]
    },
    {
      "cell_type": "code",
      "metadata": {
        "colab": {
          "base_uri": "https://localhost:8080/"
        },
        "id": "3TpSqCTOw_dU",
        "outputId": "c03dfc2f-99b5-44da-9b8c-e4e0c2f4cf9b"
      },
      "source": [
        "maildf = pd.read_csv(\"mail_data.csv\")\n",
        "maildf.head()"
      ],
      "execution_count": null,
      "outputs": [
        {
          "output_type": "execute_result",
          "data": {
            "text/html": [
              "<div>\n",
              "<style scoped>\n",
              "    .dataframe tbody tr th:only-of-type {\n",
              "        vertical-align: middle;\n",
              "    }\n",
              "\n",
              "    .dataframe tbody tr th {\n",
              "        vertical-align: top;\n",
              "    }\n",
              "\n",
              "    .dataframe thead th {\n",
              "        text-align: right;\n",
              "    }\n",
              "</style>\n",
              "<table border=\"1\" class=\"dataframe\">\n",
              "  <thead>\n",
              "    <tr style=\"text-align: right;\">\n",
              "      <th></th>\n",
              "      <th>Category</th>\n",
              "      <th>Message</th>\n",
              "    </tr>\n",
              "  </thead>\n",
              "  <tbody>\n",
              "    <tr>\n",
              "      <th>0</th>\n",
              "      <td>ham</td>\n",
              "      <td>Go until jurong point, crazy.. Available only ...</td>\n",
              "    </tr>\n",
              "    <tr>\n",
              "      <th>1</th>\n",
              "      <td>ham</td>\n",
              "      <td>Ok lar... Joking wif u oni...</td>\n",
              "    </tr>\n",
              "    <tr>\n",
              "      <th>2</th>\n",
              "      <td>spam</td>\n",
              "      <td>Free entry in 2 a wkly comp to win FA Cup fina...</td>\n",
              "    </tr>\n",
              "    <tr>\n",
              "      <th>3</th>\n",
              "      <td>ham</td>\n",
              "      <td>U dun say so early hor... U c already then say...</td>\n",
              "    </tr>\n",
              "    <tr>\n",
              "      <th>4</th>\n",
              "      <td>ham</td>\n",
              "      <td>Nah I don't think he goes to usf, he lives aro...</td>\n",
              "    </tr>\n",
              "  </tbody>\n",
              "</table>\n",
              "</div>"
            ],
            "text/plain": [
              "  Category                                            Message\n",
              "0      ham  Go until jurong point, crazy.. Available only ...\n",
              "1      ham                      Ok lar... Joking wif u oni...\n",
              "2     spam  Free entry in 2 a wkly comp to win FA Cup fina...\n",
              "3      ham  U dun say so early hor... U c already then say...\n",
              "4      ham  Nah I don't think he goes to usf, he lives aro..."
            ]
          },
          "metadata": {},
          "execution_count": 3
        }
      ]
    },
    {
      "cell_type": "markdown",
      "metadata": {
        "id": "u74Nm02SxHMA"
      },
      "source": [
        "##### **Label Encoding**"
      ]
    },
    {
      "cell_type": "code",
      "metadata": {
        "id": "WYQFZh2PxBah"
      },
      "source": [
        "le = LabelEncoder()\n",
        "target = maildf[\"Category\"]\n",
        "maildf[\"Category\"] = le.fit_transform(maildf[\"Category\"])"
      ],
      "execution_count": null,
      "outputs": []
    },
    {
      "cell_type": "code",
      "metadata": {
        "colab": {
          "base_uri": "https://localhost:8080/"
        },
        "id": "-f9_bbDBxXIi",
        "outputId": "ede30cd8-5303-4aec-af2b-983ca9a9f85e"
      },
      "source": [
        "maildf[\"Category\"]"
      ],
      "execution_count": null,
      "outputs": [
        {
          "output_type": "execute_result",
          "data": {
            "text/plain": [
              "0       0\n",
              "1       0\n",
              "2       1\n",
              "3       0\n",
              "4       0\n",
              "       ..\n",
              "5567    1\n",
              "5568    0\n",
              "5569    0\n",
              "5570    0\n",
              "5571    0\n",
              "Name: Category, Length: 5572, dtype: int64"
            ]
          },
          "metadata": {},
          "execution_count": 5
        }
      ]
    },
    {
      "cell_type": "markdown",
      "metadata": {
        "id": "ZUy7pUwsxePd"
      },
      "source": [
        "##### **The Split**"
      ]
    },
    {
      "cell_type": "code",
      "metadata": {
        "id": "vpBtHU4PxZ_r"
      },
      "source": [
        "X = maildf.drop(columns=['Category'])\n",
        "y = maildf[\"Category\"]"
      ],
      "execution_count": null,
      "outputs": []
    },
    {
      "cell_type": "code",
      "metadata": {
        "id": "-HZE1A7hxaEm"
      },
      "source": [
        "X_train, X_test, y_train, y_test = train_test_split(X, y, test_size=0.3)"
      ],
      "execution_count": null,
      "outputs": []
    },
    {
      "cell_type": "code",
      "metadata": {
        "colab": {
          "base_uri": "https://localhost:8080/"
        },
        "id": "KcDEyrZpxjxk",
        "outputId": "cfde95af-e147-4dcc-be53-9dfb5cdd44ea"
      },
      "source": [
        "X_train.shape, X_test.shape, y_train.shape, y_test.shape"
      ],
      "execution_count": null,
      "outputs": [
        {
          "output_type": "execute_result",
          "data": {
            "text/plain": [
              "((3900, 1), (1672, 1), (3900,), (1672,))"
            ]
          },
          "metadata": {},
          "execution_count": 8
        }
      ]
    },
    {
      "cell_type": "markdown",
      "metadata": {
        "id": "K4VOPLZ4xsLW"
      },
      "source": [
        "##### **Imbalance upsampling**"
      ]
    },
    {
      "cell_type": "code",
      "metadata": {
        "colab": {
          "base_uri": "https://localhost:8080/"
        },
        "id": "EiJU-9SIxjzS",
        "outputId": "fd2a38a2-298c-4f31-df04-cad434bb0c20"
      },
      "source": [
        "from collections import Counter\n",
        "Counter(y_train)"
      ],
      "execution_count": null,
      "outputs": [
        {
          "output_type": "execute_result",
          "data": {
            "text/plain": [
              "Counter({0: 3400, 1: 500})"
            ]
          },
          "metadata": {},
          "execution_count": 9
        }
      ]
    },
    {
      "cell_type": "code",
      "metadata": {
        "colab": {
          "base_uri": "https://localhost:8080/"
        },
        "id": "yXCD1qaQxj1p",
        "outputId": "9135dcd0-e2df-4dbb-adf5-1dfc01625509"
      },
      "source": [
        "import matplotlib.pyplot as plt\n",
        "plt.figure(figsize=(10,7))\n",
        "plt.hist(y_train)"
      ],
      "execution_count": null,
      "outputs": [
        {
          "output_type": "execute_result",
          "data": {
            "text/plain": [
              "(array([3400.,    0.,    0.,    0.,    0.,    0.,    0.,    0.,    0.,\n",
              "         500.]),\n",
              " array([0. , 0.1, 0.2, 0.3, 0.4, 0.5, 0.6, 0.7, 0.8, 0.9, 1. ]),\n",
              " <a list of 10 Patch objects>)"
            ]
          },
          "metadata": {},
          "execution_count": 10
        },
        {
          "output_type": "display_data",
          "data": {
            "image/png": "[encoded data removed]",
            "text/plain": [
              "<Figure size 720x504 with 1 Axes>"
            ]
          },
          "metadata": {
            "needs_background": "light"
          }
        }
      ]
    },
    {
      "cell_type": "code",
      "metadata": {
        "id": "OpzXRrVTxj31"
      },
      "source": [
        "train = pd.concat([X_train[\"Message\"], y_train], axis=1)"
      ],
      "execution_count": null,
      "outputs": []
    },
    {
      "cell_type": "code",
      "metadata": {
        "colab": {
          "base_uri": "https://localhost:8080/"
        },
        "id": "487SCjbNxj5h",
        "outputId": "7be69f07-3a3d-4efe-b3cf-f88be8200003"
      },
      "source": [
        "train"
      ],
      "execution_count": null,
      "outputs": [
        {
          "output_type": "execute_result",
          "data": {
            "text/html": [
              "<div>\n",
              "<style scoped>\n",
              "    .dataframe tbody tr th:only-of-type {\n",
              "        vertical-align: middle;\n",
              "    }\n",
              "\n",
              "    .dataframe tbody tr th {\n",
              "        vertical-align: top;\n",
              "    }\n",
              "\n",
              "    .dataframe thead th {\n",
              "        text-align: right;\n",
              "    }\n",
              "</style>\n",
              "<table border=\"1\" class=\"dataframe\">\n",
              "  <thead>\n",
              "    <tr style=\"text-align: right;\">\n",
              "      <th></th>\n",
              "      <th>Message</th>\n",
              "      <th>Category</th>\n",
              "    </tr>\n",
              "  </thead>\n",
              "  <tbody>\n",
              "    <tr>\n",
              "      <th>2420</th>\n",
              "      <td>SMS SERVICES For your inclusive text credits p...</td>\n",
              "      <td>1</td>\n",
              "    </tr>\n",
              "    <tr>\n",
              "      <th>2725</th>\n",
              "      <td>Nope... C ü then...</td>\n",
              "      <td>0</td>\n",
              "    </tr>\n",
              "    <tr>\n",
              "      <th>3968</th>\n",
              "      <td>YOU HAVE WON! As a valued Vodafone customer ou...</td>\n",
              "      <td>1</td>\n",
              "    </tr>\n",
              "    <tr>\n",
              "      <th>3294</th>\n",
              "      <td>A little. Meds say take once every 8 hours. It...</td>\n",
              "      <td>0</td>\n",
              "    </tr>\n",
              "    <tr>\n",
              "      <th>3583</th>\n",
              "      <td>You are right. Meanwhile how's project twins c...</td>\n",
              "      <td>0</td>\n",
              "    </tr>\n",
              "    <tr>\n",
              "      <th>...</th>\n",
              "      <td>...</td>\n",
              "      <td>...</td>\n",
              "    </tr>\n",
              "    <tr>\n",
              "      <th>925</th>\n",
              "      <td>Actually i deleted my old website..now i m blo...</td>\n",
              "      <td>0</td>\n",
              "    </tr>\n",
              "    <tr>\n",
              "      <th>3650</th>\n",
              "      <td>Hmm ill have to think about it... ok you're fo...</td>\n",
              "      <td>0</td>\n",
              "    </tr>\n",
              "    <tr>\n",
              "      <th>4699</th>\n",
              "      <td>Don no da:)whats you plan?</td>\n",
              "      <td>0</td>\n",
              "    </tr>\n",
              "    <tr>\n",
              "      <th>4883</th>\n",
              "      <td>As usual u can call me ard 10 smth.</td>\n",
              "      <td>0</td>\n",
              "    </tr>\n",
              "    <tr>\n",
              "      <th>4994</th>\n",
              "      <td>HEY KATE, HOPE UR OK... WILL GIVE U A BUZ WEDL...</td>\n",
              "      <td>0</td>\n",
              "    </tr>\n",
              "  </tbody>\n",
              "</table>\n",
              "<p>3900 rows × 2 columns</p>\n",
              "</div>"
            ],
            "text/plain": [
              "                                                Message  Category\n",
              "2420  SMS SERVICES For your inclusive text credits p...         1\n",
              "2725                                Nope... C ü then...         0\n",
              "3968  YOU HAVE WON! As a valued Vodafone customer ou...         1\n",
              "3294  A little. Meds say take once every 8 hours. It...         0\n",
              "3583  You are right. Meanwhile how's project twins c...         0\n",
              "...                                                 ...       ...\n",
              "925   Actually i deleted my old website..now i m blo...         0\n",
              "3650  Hmm ill have to think about it... ok you're fo...         0\n",
              "4699                         Don no da:)whats you plan?         0\n",
              "4883                As usual u can call me ard 10 smth.         0\n",
              "4994  HEY KATE, HOPE UR OK... WILL GIVE U A BUZ WEDL...         0\n",
              "\n",
              "[3900 rows x 2 columns]"
            ]
          },
          "metadata": {},
          "execution_count": 12
        }
      ]
    },
    {
      "cell_type": "code",
      "metadata": {
        "id": "Fy6KNHlmxj8Y"
      },
      "source": [
        "# Upsampling\n",
        "\n",
        "train_minority = train[train[\"Category\"]==1]\n",
        "\n",
        "from sklearn.utils import resample\n",
        "minority_upsampled = resample(train_minority, replace=True, n_samples=2860)           # 3380-520 = 2860\n",
        "# minority_upsampled = resample(y_train_minority, replace=True, n_samples=500)\n",
        "\n",
        "train_upsampled = pd.concat([train, minority_upsampled])"
      ],
      "execution_count": null,
      "outputs": []
    },
    {
      "cell_type": "code",
      "metadata": {
        "colab": {
          "base_uri": "https://localhost:8080/"
        },
        "id": "plM4dUHux9dc",
        "outputId": "f774240c-5611-4d48-ad28-dafc290aa401"
      },
      "source": [
        "Counter(train_upsampled[\"Category\"])"
      ],
      "execution_count": null,
      "outputs": [
        {
          "output_type": "execute_result",
          "data": {
            "text/plain": [
              "Counter({0: 3400, 1: 3360})"
            ]
          },
          "metadata": {},
          "execution_count": 14
        }
      ]
    },
    {
      "cell_type": "code",
      "metadata": {
        "colab": {
          "base_uri": "https://localhost:8080/"
        },
        "id": "ytIW5o9Px9fF",
        "outputId": "66386c1c-9d8c-4d8c-c5f8-ad194847bb8b"
      },
      "source": [
        "train_upsampled"
      ],
      "execution_count": null,
      "outputs": [
        {
          "output_type": "execute_result",
          "data": {
            "text/html": [
              "<div>\n",
              "<style scoped>\n",
              "    .dataframe tbody tr th:only-of-type {\n",
              "        vertical-align: middle;\n",
              "    }\n",
              "\n",
              "    .dataframe tbody tr th {\n",
              "        vertical-align: top;\n",
              "    }\n",
              "\n",
              "    .dataframe thead th {\n",
              "        text-align: right;\n",
              "    }\n",
              "</style>\n",
              "<table border=\"1\" class=\"dataframe\">\n",
              "  <thead>\n",
              "    <tr style=\"text-align: right;\">\n",
              "      <th></th>\n",
              "      <th>Message</th>\n",
              "      <th>Category</th>\n",
              "    </tr>\n",
              "  </thead>\n",
              "  <tbody>\n",
              "    <tr>\n",
              "      <th>2420</th>\n",
              "      <td>SMS SERVICES For your inclusive text credits p...</td>\n",
              "      <td>1</td>\n",
              "    </tr>\n",
              "    <tr>\n",
              "      <th>2725</th>\n",
              "      <td>Nope... C ü then...</td>\n",
              "      <td>0</td>\n",
              "    </tr>\n",
              "    <tr>\n",
              "      <th>3968</th>\n",
              "      <td>YOU HAVE WON! As a valued Vodafone customer ou...</td>\n",
              "      <td>1</td>\n",
              "    </tr>\n",
              "    <tr>\n",
              "      <th>3294</th>\n",
              "      <td>A little. Meds say take once every 8 hours. It...</td>\n",
              "      <td>0</td>\n",
              "    </tr>\n",
              "    <tr>\n",
              "      <th>3583</th>\n",
              "      <td>You are right. Meanwhile how's project twins c...</td>\n",
              "      <td>0</td>\n",
              "    </tr>\n",
              "    <tr>\n",
              "      <th>...</th>\n",
              "      <td>...</td>\n",
              "      <td>...</td>\n",
              "    </tr>\n",
              "    <tr>\n",
              "      <th>1407</th>\n",
              "      <td>URGENT, IMPORTANT INFORMATION FOR O2 USER. TOD...</td>\n",
              "      <td>1</td>\n",
              "    </tr>\n",
              "    <tr>\n",
              "      <th>1780</th>\n",
              "      <td>Loan for any purpose £500 - £75,000. Homeowner...</td>\n",
              "      <td>1</td>\n",
              "    </tr>\n",
              "    <tr>\n",
              "      <th>2248</th>\n",
              "      <td>Back 2 work 2morro half term over! Can U C me ...</td>\n",
              "      <td>1</td>\n",
              "    </tr>\n",
              "    <tr>\n",
              "      <th>2146</th>\n",
              "      <td>Sunshine Hols. To claim ur med holiday send a ...</td>\n",
              "      <td>1</td>\n",
              "    </tr>\n",
              "    <tr>\n",
              "      <th>1073</th>\n",
              "      <td>Dear U've been invited to XCHAT. This is our f...</td>\n",
              "      <td>1</td>\n",
              "    </tr>\n",
              "  </tbody>\n",
              "</table>\n",
              "<p>6760 rows × 2 columns</p>\n",
              "</div>"
            ],
            "text/plain": [
              "                                                Message  Category\n",
              "2420  SMS SERVICES For your inclusive text credits p...         1\n",
              "2725                                Nope... C ü then...         0\n",
              "3968  YOU HAVE WON! As a valued Vodafone customer ou...         1\n",
              "3294  A little. Meds say take once every 8 hours. It...         0\n",
              "3583  You are right. Meanwhile how's project twins c...         0\n",
              "...                                                 ...       ...\n",
              "1407  URGENT, IMPORTANT INFORMATION FOR O2 USER. TOD...         1\n",
              "1780  Loan for any purpose £500 - £75,000. Homeowner...         1\n",
              "2248  Back 2 work 2morro half term over! Can U C me ...         1\n",
              "2146  Sunshine Hols. To claim ur med holiday send a ...         1\n",
              "1073  Dear U've been invited to XCHAT. This is our f...         1\n",
              "\n",
              "[6760 rows x 2 columns]"
            ]
          },
          "metadata": {},
          "execution_count": 15
        }
      ]
    },
    {
      "cell_type": "code",
      "metadata": {
        "colab": {
          "base_uri": "https://localhost:8080/"
        },
        "id": "4aFqUTamx9hi",
        "outputId": "18d1f717-849f-450e-a9c7-6d8a76fb18a5"
      },
      "source": [
        "train_upsampled.shape"
      ],
      "execution_count": null,
      "outputs": [
        {
          "output_type": "execute_result",
          "data": {
            "text/plain": [
              "(6760, 2)"
            ]
          },
          "metadata": {},
          "execution_count": 16
        }
      ]
    },
    {
      "cell_type": "code",
      "metadata": {
        "colab": {
          "base_uri": "https://localhost:8080/"
        },
        "id": "wV855iuQx9j0",
        "outputId": "28b14c55-f6e2-4bab-e010-5bd4b1cd7c65"
      },
      "source": [
        "plt.hist(train_upsampled[\"Category\"])"
      ],
      "execution_count": null,
      "outputs": [
        {
          "output_type": "execute_result",
          "data": {
            "text/plain": [
              "(array([3400.,    0.,    0.,    0.,    0.,    0.,    0.,    0.,    0.,\n",
              "        3360.]),\n",
              " array([0. , 0.1, 0.2, 0.3, 0.4, 0.5, 0.6, 0.7, 0.8, 0.9, 1. ]),\n",
              " <a list of 10 Patch objects>)"
            ]
          },
          "metadata": {},
          "execution_count": 17
        },
        {
          "output_type": "display_data",
          "data": {
            "image/png": "[encoded data removed]",
            "text/plain": [
              "<Figure size 432x288 with 1 Axes>"
            ]
          },
          "metadata": {
            "needs_background": "light"
          }
        }
      ]
    },
    {
      "cell_type": "markdown",
      "metadata": {
        "id": "jQXVkX2PyKtx"
      },
      "source": [
        "Redefining the train datasets --> X_train, y_train"
      ]
    },
    {
      "cell_type": "code",
      "metadata": {
        "id": "xH6kKNQuyJ48"
      },
      "source": [
        "X_train = train_upsampled.drop(columns=[\"Category\"])\n",
        "y_train = train_upsampled[\"Category\"]"
      ],
      "execution_count": null,
      "outputs": []
    },
    {
      "cell_type": "code",
      "metadata": {
        "colab": {
          "base_uri": "https://localhost:8080/"
        },
        "id": "FKXkr-1ZyJ6i",
        "outputId": "f2c244ae-7a11-4de7-d483-dd27a70df24a"
      },
      "source": [
        "Counter(y_test)"
      ],
      "execution_count": null,
      "outputs": [
        {
          "output_type": "execute_result",
          "data": {
            "text/plain": [
              "Counter({0: 1425, 1: 247})"
            ]
          },
          "metadata": {},
          "execution_count": 19
        }
      ]
    },
    {
      "cell_type": "markdown",
      "metadata": {
        "id": "d7hBVIMSyTP4"
      },
      "source": [
        "##### **Feature Extraction**"
      ]
    },
    {
      "cell_type": "code",
      "metadata": {
        "id": "DkcIKAbgyJ9_"
      },
      "source": [
        "from sklearn.feature_extraction.text import TfidfVectorizer\n",
        "\n",
        "feature_extraction = TfidfVectorizer(min_df =1, stop_words = 'english', lowercase='True')\n",
        "# feature_extraction = TfidfVectorizer()\n",
        "\n",
        "X_train_features = feature_extraction.fit_transform(X_train['Message'])\n",
        "X_test_features = feature_extraction.transform(X_test['Message'])"
      ],
      "execution_count": null,
      "outputs": []
    },
    {
      "cell_type": "code",
      "metadata": {
        "id": "ibXi4UnGx9op"
      },
      "source": [
        "y_train = y_train.astype('int')\n",
        "y_test  = y_test.astype('int')"
      ],
      "execution_count": null,
      "outputs": []
    },
    {
      "cell_type": "code",
      "metadata": {
        "colab": {
          "base_uri": "https://localhost:8080/"
        },
        "id": "ZfIHru3Aycfi",
        "outputId": "f319af71-4b59-436a-d5a2-7d4cb0603578"
      },
      "source": [
        "print(X_train_features)"
      ],
      "execution_count": null,
      "outputs": [
        {
          "output_type": "stream",
          "name": "stdout",
          "text": [
            "  (0, 666)\t0.23637613703633945\n",
            "  (0, 320)\t0.27005025891357054\n",
            "  (0, 67)\t0.23637613703633945\n",
            "  (0, 3106)\t0.17796685064926412\n",
            "  (0, 1562)\t0.21056727125590038\n",
            "  (0, 2495)\t0.21855213452709105\n",
            "  (0, 5971)\t0.12618504552915186\n",
            "  (0, 6588)\t0.20033162163685503\n",
            "  (0, 421)\t0.23637613703633945\n",
            "  (0, 3838)\t0.22167893018305024\n",
            "  (0, 4364)\t0.20033162163685503\n",
            "  (0, 1759)\t0.4478616859738238\n",
            "  (0, 7000)\t0.12646872626278463\n",
            "  (0, 2923)\t0.27005025891357054\n",
            "  (0, 4821)\t0.17469792633226605\n",
            "  (0, 1876)\t0.20826583035565988\n",
            "  (0, 6244)\t0.1254857728665937\n",
            "  (0, 3338)\t0.21756918113090015\n",
            "  (0, 5550)\t0.19059062354328726\n",
            "  (0, 5766)\t0.16596046223649094\n",
            "  (1, 4423)\t1.0\n",
            "  (2, 168)\t0.4044531709207104\n",
            "  (2, 3544)\t0.17080815803173277\n",
            "  (2, 2300)\t0.26786394361358196\n",
            "  (2, 1707)\t0.26076927049175697\n",
            "  :\t:\n",
            "  (6758, 6074)\t0.21146188999534002\n",
            "  (6758, 2243)\t0.2390446849342246\n",
            "  (6758, 6587)\t0.21146188999534002\n",
            "  (6758, 5521)\t0.23240117274779096\n",
            "  (6758, 5933)\t0.22316194827307215\n",
            "  (6758, 1310)\t0.15916101259393672\n",
            "  (6758, 4829)\t0.16264118768806177\n",
            "  (6758, 5447)\t0.20208495155795722\n",
            "  (6758, 1645)\t0.12498597652613398\n",
            "  (6758, 6605)\t0.11870358637500136\n",
            "  (6758, 3166)\t0.1662822734354656\n",
            "  (6758, 744)\t0.21586939284809228\n",
            "  (6758, 6534)\t0.1402046460301774\n",
            "  (6758, 5531)\t0.1317274759102485\n",
            "  (6758, 5971)\t0.12575177330466125\n",
            "  (6759, 7007)\t0.38608063089413486\n",
            "  (6759, 3408)\t0.37744408524196527\n",
            "  (6759, 621)\t0.32542068278159525\n",
            "  (6759, 2601)\t0.3385056046775579\n",
            "  (6759, 1572)\t0.29880312937967823\n",
            "  (6759, 6662)\t0.31166548169634106\n",
            "  (6759, 1790)\t0.26458974337368935\n",
            "  (6759, 1026)\t0.31025494581178203\n",
            "  (6759, 6509)\t0.20512942337324225\n",
            "  (6759, 1989)\t0.3053365637183298\n"
          ]
        }
      ]
    },
    {
      "cell_type": "code",
      "metadata": {
        "colab": {
          "base_uri": "https://localhost:8080/"
        },
        "id": "hmj6ZPX9ychR",
        "outputId": "62dcbcd0-5e3e-4db5-d4e0-d3b427d5a45e"
      },
      "source": [
        "X_train_features"
      ],
      "execution_count": null,
      "outputs": [
        {
          "output_type": "execute_result",
          "data": {
            "text/plain": [
              "<6760x7091 sparse matrix of type '<class 'numpy.float64'>'\n",
              "\twith 74143 stored elements in Compressed Sparse Row format>"
            ]
          },
          "metadata": {},
          "execution_count": 23
        }
      ]
    },
    {
      "cell_type": "code",
      "metadata": {
        "colab": {
          "base_uri": "https://localhost:8080/"
        },
        "id": "T1dFDAcbycjY",
        "outputId": "62fb5187-2a9d-4561-ef99-d7e1c34c44ef"
      },
      "source": [
        "feature_extraction.get_feature_names()"
      ],
      "execution_count": null,
      "outputs": [
        {
          "output_type": "stream",
          "name": "stderr",
          "text": [
            "/usr/local/lib/python3.7/dist-packages/sklearn/utils/deprecation.py:87: FutureWarning: Function get_feature_names is deprecated; get_feature_names is deprecated in 1.0 and will be removed in 1.2. Please use get_feature_names_out instead.\n",
            "  warnings.warn(msg, category=FutureWarning)\n"
          ]
        },
        {
          "output_type": "execute_result",
          "data": {
            "text/plain": [
              "['00',\n",
              " '000',\n",
              " '008704050406',\n",
              " '0089',\n",
              " '0125698789',\n",
              " '02',\n",
              " '0207',\n",
              " '021',\n",
              " '03',\n",
              " '04',\n",
              " '05',\n",
              " '050703',\n",
              " '0578',\n",
              " '06',\n",
              " '07',\n",
              " '07046744435',\n",
              " '07090298926',\n",
              " '07123456789',\n",
              " '0721072',\n",
              " '07734396839',\n",
              " '07742676969',\n",
              " '0776xxxxxxx',\n",
              " '07781482378',\n",
              " '077xxx',\n",
              " '078',\n",
              " '07808',\n",
              " '07808726822',\n",
              " '07815296484',\n",
              " '07821230901',\n",
              " '078498',\n",
              " '0789xxxxxxx',\n",
              " '07973788240',\n",
              " '07xxxxxxxxx',\n",
              " '08',\n",
              " '0800',\n",
              " '08000407165',\n",
              " '08000776320',\n",
              " '08000839402',\n",
              " '08000930705',\n",
              " '08000938767',\n",
              " '08001950382',\n",
              " '08002888812',\n",
              " '08002986030',\n",
              " '08002986906',\n",
              " '08006344447',\n",
              " '0808',\n",
              " '08081263000',\n",
              " '0825',\n",
              " '083',\n",
              " '0844',\n",
              " '08448714184',\n",
              " '0845',\n",
              " '08452810071',\n",
              " '08452810073',\n",
              " '0870',\n",
              " '08700435505150p',\n",
              " '08700469649',\n",
              " '08700621170150p',\n",
              " '08701213186',\n",
              " '08701237397',\n",
              " '08701417012',\n",
              " '08701417012150p',\n",
              " '0870141701216',\n",
              " '08701752560',\n",
              " '087018728737',\n",
              " '0870241182716',\n",
              " '08702490080',\n",
              " '08702840625',\n",
              " '08704439680ts',\n",
              " '08706091795',\n",
              " '0870737910216yrs',\n",
              " '08707500020',\n",
              " '08707509020',\n",
              " '08707808226',\n",
              " '08708034412',\n",
              " '08709222922',\n",
              " '0871',\n",
              " '087104711148',\n",
              " '08712101358',\n",
              " '08712103738',\n",
              " '08712300220',\n",
              " '087123002209am',\n",
              " '08712317606',\n",
              " '08712400200',\n",
              " '08712402050',\n",
              " '08712402578',\n",
              " '08712402779',\n",
              " '08712405020',\n",
              " '08712405022',\n",
              " '08712460324',\n",
              " '08712466669',\n",
              " '0871277810810',\n",
              " '0871277810910p',\n",
              " '08714342399',\n",
              " '087147123779am',\n",
              " '08714712379',\n",
              " '08714712394',\n",
              " '08714712412',\n",
              " '08714714011',\n",
              " '08715203028',\n",
              " '08715203649',\n",
              " '08715203656',\n",
              " '08715203685',\n",
              " '08715203694',\n",
              " '08715205273',\n",
              " '08715705022',\n",
              " '08717111821',\n",
              " '08717205546',\n",
              " '0871750',\n",
              " '08717507382',\n",
              " '08717509990',\n",
              " '08717890890',\n",
              " '08717898035',\n",
              " '08718711108',\n",
              " '08718720201',\n",
              " '08718723815',\n",
              " '08718725756',\n",
              " '087187262701',\n",
              " '08718726971',\n",
              " '08718726978',\n",
              " '087187272008',\n",
              " '08718727870',\n",
              " '08718730666',\n",
              " '08718738001',\n",
              " '08718738002',\n",
              " '08718738034',\n",
              " '08719180219',\n",
              " '08719180248',\n",
              " '08719181259',\n",
              " '08719181513',\n",
              " '08719839835',\n",
              " '08719899217',\n",
              " '08719899230',\n",
              " '09',\n",
              " '09041940223',\n",
              " '09050000332',\n",
              " '09050000555',\n",
              " '09050000878',\n",
              " '09050000928',\n",
              " '09050001295',\n",
              " '09050001808',\n",
              " '09050005321',\n",
              " '09050090044',\n",
              " '09050280520',\n",
              " '09053750005',\n",
              " '09056242159',\n",
              " '09058091854',\n",
              " '09058091870',\n",
              " '09058094454',\n",
              " '09058094455',\n",
              " '09058094507',\n",
              " '09058094565',\n",
              " '09058094594',\n",
              " '09058094597',\n",
              " '09058094599',\n",
              " '09058095201',\n",
              " '09058097189',\n",
              " '09058097218',\n",
              " '09058099801',\n",
              " '09061104276',\n",
              " '09061209465',\n",
              " '09061213237',\n",
              " '09061221061',\n",
              " '09061221066',\n",
              " '09061701444',\n",
              " '09061701461',\n",
              " '09061701939',\n",
              " '09061702893',\n",
              " '09061743386',\n",
              " '09061743806',\n",
              " '09061743810',\n",
              " '09061743811',\n",
              " '09061744553',\n",
              " '09061749602',\n",
              " '09061790121',\n",
              " '09061790125',\n",
              " '09061790126',\n",
              " '09063440451',\n",
              " '09063442151',\n",
              " '09063458130',\n",
              " '0906346330',\n",
              " '09064011000',\n",
              " '09064012160',\n",
              " '09064017295',\n",
              " '09064017305',\n",
              " '09064018838',\n",
              " '09064019014',\n",
              " '09064019788',\n",
              " '09065069120',\n",
              " '09065069154',\n",
              " '09065174042',\n",
              " '09065394514',\n",
              " '09065394973',\n",
              " '09065989180',\n",
              " '09066350750',\n",
              " '09066358152',\n",
              " '09066358361',\n",
              " '09066361921',\n",
              " '09066362206',\n",
              " '09066362220',\n",
              " '09066364589',\n",
              " '09066368327',\n",
              " '09066368470',\n",
              " '09066380611',\n",
              " '09066382422',\n",
              " '09066612661',\n",
              " '09066649731from',\n",
              " '09066660100',\n",
              " '09071512432',\n",
              " '09071512433',\n",
              " '09071517866',\n",
              " '09094100151',\n",
              " '09094646631',\n",
              " '09094646899',\n",
              " '09095350301',\n",
              " '09099725823',\n",
              " '09099726395',\n",
              " '09099726429',\n",
              " '09099726481',\n",
              " '09111030116',\n",
              " '09111032124',\n",
              " '09701213186',\n",
              " '10',\n",
              " '100',\n",
              " '1000',\n",
              " '1000call',\n",
              " '1000s',\n",
              " '100percent',\n",
              " '100txt',\n",
              " '1013',\n",
              " '1030',\n",
              " '10am',\n",
              " '10k',\n",
              " '10p',\n",
              " '10ppm',\n",
              " '10th',\n",
              " '11',\n",
              " '1120',\n",
              " '113',\n",
              " '1131',\n",
              " '114',\n",
              " '1146',\n",
              " '116',\n",
              " '1172',\n",
              " '11mths',\n",
              " '11pm',\n",
              " '12',\n",
              " '1205',\n",
              " '120p',\n",
              " '121',\n",
              " '1225',\n",
              " '123',\n",
              " '125',\n",
              " '1250',\n",
              " '125gift',\n",
              " '12hrs',\n",
              " '12mths',\n",
              " '13',\n",
              " '1327',\n",
              " '14',\n",
              " '140',\n",
              " '140ppm',\n",
              " '145',\n",
              " '1450',\n",
              " '14tcr',\n",
              " '14thmarch',\n",
              " '15',\n",
              " '150',\n",
              " '1500',\n",
              " '150p',\n",
              " '150p16',\n",
              " '150pm',\n",
              " '150ppermesssubscription',\n",
              " '150ppm',\n",
              " '150ppmpobox10183bhamb64xe',\n",
              " '150ppmsg',\n",
              " '153',\n",
              " '15541',\n",
              " '15pm',\n",
              " '16',\n",
              " '165',\n",
              " '169',\n",
              " '177',\n",
              " '18',\n",
              " '180',\n",
              " '18p',\n",
              " '18yrs',\n",
              " '195',\n",
              " '1956669',\n",
              " '1apple',\n",
              " '1cup',\n",
              " '1da',\n",
              " '1er',\n",
              " '1hr',\n",
              " '1im',\n",
              " '1lemon',\n",
              " '1mega',\n",
              " '1million',\n",
              " '1st',\n",
              " '1stchoice',\n",
              " '1thing',\n",
              " '1tulsi',\n",
              " '1win150ppmx3',\n",
              " '1winaweek',\n",
              " '1x150p',\n",
              " '1yf',\n",
              " '20',\n",
              " '200',\n",
              " '2000',\n",
              " '2003',\n",
              " '2004',\n",
              " '2006',\n",
              " '2007',\n",
              " '20m12aq',\n",
              " '20p',\n",
              " '21',\n",
              " '21870000',\n",
              " '21st',\n",
              " '22',\n",
              " '220',\n",
              " '220cm2',\n",
              " '2309',\n",
              " '23f',\n",
              " '23g',\n",
              " '24',\n",
              " '24hrs',\n",
              " '24m',\n",
              " '25',\n",
              " '250',\n",
              " '250k',\n",
              " '25p',\n",
              " '26',\n",
              " '26th',\n",
              " '27',\n",
              " '28',\n",
              " '28days',\n",
              " '28th',\n",
              " '29',\n",
              " '2b',\n",
              " '2bold',\n",
              " '2channel',\n",
              " '2day',\n",
              " '2docd',\n",
              " '2exit',\n",
              " '2ez',\n",
              " '2find',\n",
              " '2getha',\n",
              " '2geva',\n",
              " '2go',\n",
              " '2gthr',\n",
              " '2hook',\n",
              " '2hrs',\n",
              " '2i',\n",
              " '2kbsubject',\n",
              " '2lands',\n",
              " '2marrow',\n",
              " '2moro',\n",
              " '2morow',\n",
              " '2morro',\n",
              " '2morrow',\n",
              " '2morrowxxxx',\n",
              " '2mro',\n",
              " '2mrw',\n",
              " '2nd',\n",
              " '2nights',\n",
              " '2nite',\n",
              " '2optout',\n",
              " '2price',\n",
              " '2px',\n",
              " '2rcv',\n",
              " '2stop',\n",
              " '2stoptx',\n",
              " '2stoptxt',\n",
              " '2u',\n",
              " '2u2',\n",
              " '2watershd',\n",
              " '2waxsto',\n",
              " '2wks',\n",
              " '2wt',\n",
              " '2years',\n",
              " '2yr',\n",
              " '2yrs',\n",
              " '30',\n",
              " '300',\n",
              " '3000',\n",
              " '300603',\n",
              " '300603t',\n",
              " '300p',\n",
              " '3030',\n",
              " '30ish',\n",
              " '30pp',\n",
              " '30th',\n",
              " '31',\n",
              " '3100',\n",
              " '310303',\n",
              " '32323',\n",
              " '326',\n",
              " '33',\n",
              " '330',\n",
              " '350',\n",
              " '3510i',\n",
              " '35p',\n",
              " '3650',\n",
              " '36504',\n",
              " '3680',\n",
              " '373',\n",
              " '3750',\n",
              " '38',\n",
              " '382',\n",
              " '3aj',\n",
              " '3d',\n",
              " '3g',\n",
              " '3gbp',\n",
              " '3hrs',\n",
              " '3lions',\n",
              " '3lp',\n",
              " '3miles',\n",
              " '3mins',\n",
              " '3mobile',\n",
              " '3optical',\n",
              " '3pound',\n",
              " '3qxj9',\n",
              " '3rd',\n",
              " '3ss',\n",
              " '3uz',\n",
              " '3wks',\n",
              " '400',\n",
              " '400thousad',\n",
              " '402',\n",
              " '4041',\n",
              " '40533',\n",
              " '40gb',\n",
              " '40mph',\n",
              " '41685',\n",
              " '41782',\n",
              " '420',\n",
              " '42049',\n",
              " '430',\n",
              " '434',\n",
              " '440',\n",
              " '4403ldnw1a7rw18',\n",
              " '44345',\n",
              " '447797706009',\n",
              " '447801259231',\n",
              " '450',\n",
              " '450p',\n",
              " '450ppw',\n",
              " '450pw',\n",
              " '45239',\n",
              " '45pm',\n",
              " '47',\n",
              " '4719',\n",
              " '4742',\n",
              " '47per',\n",
              " '48',\n",
              " '4882',\n",
              " '48922',\n",
              " '49',\n",
              " '49557',\n",
              " '4a',\n",
              " '4brekkie',\n",
              " '4d',\n",
              " '4eva',\n",
              " '4few',\n",
              " '4fil',\n",
              " '4get',\n",
              " '4got',\n",
              " '4goten',\n",
              " '4info',\n",
              " '4jx',\n",
              " '4msgs',\n",
              " '4mths',\n",
              " '4my',\n",
              " '4qf2',\n",
              " '4t',\n",
              " '4th',\n",
              " '4thnov',\n",
              " '4txt',\n",
              " '4u',\n",
              " '4ward',\n",
              " '4wrd',\n",
              " '4xx26',\n",
              " '4years',\n",
              " '50',\n",
              " '500',\n",
              " '5000',\n",
              " '505060',\n",
              " '50award',\n",
              " '50ea',\n",
              " '50gbp',\n",
              " '50p',\n",
              " '50perwksub',\n",
              " '50pmmorefrommobile2bremoved',\n",
              " '50rcvd',\n",
              " '5226',\n",
              " '523',\n",
              " '5249',\n",
              " '528',\n",
              " '530',\n",
              " '54',\n",
              " '542',\n",
              " '5digital',\n",
              " '5free',\n",
              " '5k',\n",
              " '5min',\n",
              " '5mls',\n",
              " '5p',\n",
              " '5pm',\n",
              " '5th',\n",
              " '5wb',\n",
              " '5we',\n",
              " '5wkg',\n",
              " '5wq',\n",
              " '5years',\n",
              " '60',\n",
              " '600',\n",
              " '6031',\n",
              " '6089',\n",
              " '60p',\n",
              " '61',\n",
              " '61200',\n",
              " '62220cncl',\n",
              " '6230',\n",
              " '62468',\n",
              " '62735',\n",
              " '630',\n",
              " '63miles',\n",
              " '645',\n",
              " '65',\n",
              " '650',\n",
              " '66',\n",
              " '6669',\n",
              " '674',\n",
              " '67441233',\n",
              " '68866',\n",
              " '69101',\n",
              " '69200',\n",
              " '69669',\n",
              " '69696',\n",
              " '69855',\n",
              " '69866',\n",
              " '69876',\n",
              " '69888',\n",
              " '69911',\n",
              " '69969',\n",
              " '69988',\n",
              " '6days',\n",
              " '6hl',\n",
              " '6hrs',\n",
              " '6months',\n",
              " '6ph',\n",
              " '6pm',\n",
              " '6th',\n",
              " '6times',\n",
              " '6wu',\n",
              " '700',\n",
              " '71',\n",
              " '7250',\n",
              " '7250i',\n",
              " '731',\n",
              " '75',\n",
              " '750',\n",
              " '7548',\n",
              " '75max',\n",
              " '762',\n",
              " '77',\n",
              " '78',\n",
              " '786',\n",
              " '7876150ppm',\n",
              " '79',\n",
              " '7cfca1a',\n",
              " '7oz',\n",
              " '7pm',\n",
              " '7th',\n",
              " '7ws',\n",
              " '7zs',\n",
              " '80',\n",
              " '800',\n",
              " '80062',\n",
              " '8007',\n",
              " '80082',\n",
              " '80086',\n",
              " '80155',\n",
              " '80182',\n",
              " '8027',\n",
              " '80488',\n",
              " '80608',\n",
              " '8077',\n",
              " '80878',\n",
              " '81010',\n",
              " '81151',\n",
              " '81303',\n",
              " '81618',\n",
              " '82050',\n",
              " '820554ad0a1705572711',\n",
              " '82242',\n",
              " '82277',\n",
              " '82468',\n",
              " '83021',\n",
              " '83039',\n",
              " '83049',\n",
              " '83110',\n",
              " '83118',\n",
              " '83222',\n",
              " '83332',\n",
              " '83355',\n",
              " '83383',\n",
              " '83435',\n",
              " '83600',\n",
              " '83738',\n",
              " '84025',\n",
              " '84128',\n",
              " '84199',\n",
              " '85',\n",
              " '850',\n",
              " '85023',\n",
              " '85069',\n",
              " '85555',\n",
              " '86021',\n",
              " '861',\n",
              " '864233',\n",
              " '86688',\n",
              " '86888',\n",
              " '87021',\n",
              " '87066',\n",
              " '87070',\n",
              " '87077',\n",
              " '87121',\n",
              " '87131',\n",
              " '872',\n",
              " '87239',\n",
              " '87575',\n",
              " '8800',\n",
              " '88039',\n",
              " '88066',\n",
              " '88088',\n",
              " '88222',\n",
              " '88600',\n",
              " '88800',\n",
              " '88877',\n",
              " '88888',\n",
              " '89034',\n",
              " '89080',\n",
              " '89123',\n",
              " '89545',\n",
              " '89555',\n",
              " '89938',\n",
              " '8am',\n",
              " '8lb',\n",
              " '8p',\n",
              " '8pm',\n",
              " '8th',\n",
              " '8wp',\n",
              " '900',\n",
              " '910',\n",
              " '9153',\n",
              " '92h',\n",
              " '930',\n",
              " '9307622',\n",
              " '945',\n",
              " '946',\n",
              " '95',\n",
              " '9755',\n",
              " '9758',\n",
              " '99',\n",
              " '9996',\n",
              " '9ae',\n",
              " '9am',\n",
              " '9ja',\n",
              " '9pm',\n",
              " '9t',\n",
              " '9th',\n",
              " '9yt',\n",
              " '____',\n",
              " 'a21',\n",
              " 'a30',\n",
              " 'aa',\n",
              " 'aah',\n",
              " 'aaniye',\n",
              " 'aathi',\n",
              " 'ab',\n",
              " 'abbey',\n",
              " 'abdomen',\n",
              " 'abeg',\n",
              " 'abel',\n",
              " 'aberdeen',\n",
              " 'abi',\n",
              " 'ability',\n",
              " 'abiola',\n",
              " 'abj',\n",
              " 'able',\n",
              " 'abnormally',\n",
              " 'aboutas',\n",
              " 'absolutely',\n",
              " 'absolutly',\n",
              " 'abstract',\n",
              " 'abt',\n",
              " 'abta',\n",
              " 'aburo',\n",
              " 'abusers',\n",
              " 'ac',\n",
              " 'academic',\n",
              " 'acc',\n",
              " 'accent',\n",
              " 'accenture',\n",
              " 'accept',\n",
              " 'access',\n",
              " 'accidant',\n",
              " 'accident',\n",
              " 'accidentally',\n",
              " 'accommodation',\n",
              " 'accommodationvouchers',\n",
              " 'accomodate',\n",
              " 'accomodations',\n",
              " 'accordin',\n",
              " 'accordingly',\n",
              " 'account',\n",
              " 'accounting',\n",
              " 'accounts',\n",
              " 'achan',\n",
              " 'ache',\n",
              " 'achieve',\n",
              " 'acid',\n",
              " 'acl03530150pm',\n",
              " 'acnt',\n",
              " 'aco',\n",
              " 'act',\n",
              " 'acted',\n",
              " 'acting',\n",
              " 'action',\n",
              " 'activ8',\n",
              " 'activate',\n",
              " 'active',\n",
              " 'activities',\n",
              " 'actor',\n",
              " 'actually',\n",
              " 'ad',\n",
              " 'adam',\n",
              " 'add',\n",
              " 'addamsfa',\n",
              " 'added',\n",
              " 'addicted',\n",
              " 'addie',\n",
              " 'adding',\n",
              " 'address',\n",
              " 'adewale',\n",
              " 'adi',\n",
              " 'adjustable',\n",
              " 'admin',\n",
              " 'administrator',\n",
              " 'admirer',\n",
              " 'admission',\n",
              " 'admit',\n",
              " 'adore',\n",
              " 'adoring',\n",
              " 'adp',\n",
              " 'adress',\n",
              " 'adrian',\n",
              " 'adrink',\n",
              " 'ads',\n",
              " 'adsense',\n",
              " 'adult',\n",
              " 'adults',\n",
              " 'advance',\n",
              " 'adventure',\n",
              " 'adventuring',\n",
              " 'advice',\n",
              " 'advise',\n",
              " 'advisors',\n",
              " 'aeronautics',\n",
              " 'aeroplane',\n",
              " 'affair',\n",
              " 'affairs',\n",
              " 'affection',\n",
              " 'affectionate',\n",
              " 'affections',\n",
              " 'affidavit',\n",
              " 'afford',\n",
              " 'afghanistan',\n",
              " 'afraid',\n",
              " 'africa',\n",
              " 'african',\n",
              " 'aft',\n",
              " 'afternoon',\n",
              " 'afternoons',\n",
              " 'aftr',\n",
              " 'ag',\n",
              " 'agalla',\n",
              " 'age',\n",
              " 'age16',\n",
              " 'age23',\n",
              " 'agency',\n",
              " 'agent',\n",
              " 'agents',\n",
              " 'ages',\n",
              " 'agidhane',\n",
              " 'aging',\n",
              " 'ago',\n",
              " 'agree',\n",
              " 'ah',\n",
              " 'aha',\n",
              " 'ahead',\n",
              " 'ahhh',\n",
              " 'ahhhh',\n",
              " 'ahmad',\n",
              " 'ahold',\n",
              " 'aid',\n",
              " 'aids',\n",
              " 'aig',\n",
              " 'aight',\n",
              " 'ain',\n",
              " 'aint',\n",
              " 'air',\n",
              " 'air1',\n",
              " 'airport',\n",
              " 'airtel',\n",
              " 'aiya',\n",
              " 'aiyah',\n",
              " 'aiyar',\n",
              " 'aiyo',\n",
              " 'ajith',\n",
              " 'aka',\n",
              " 'akon',\n",
              " 'al',\n",
              " 'alaikkum',\n",
              " 'alaipayuthe',\n",
              " 'albi',\n",
              " 'album',\n",
              " 'alcohol',\n",
              " 'aldrine',\n",
              " 'alert',\n",
              " 'alertfrom',\n",
              " 'aletter',\n",
              " 'alex',\n",
              " 'alfie',\n",
              " 'algarve',\n",
              " 'algebra',\n",
              " 'ali',\n",
              " 'alian',\n",
              " 'alibi',\n",
              " 'alive',\n",
              " 'allah',\n",
              " 'allalo',\n",
              " 'allday',\n",
              " 'alle',\n",
              " 'allo',\n",
              " 'allowed',\n",
              " 'allows',\n",
              " 'alright',\n",
              " 'alrite',\n",
              " 'alter',\n",
              " 'alternative',\n",
              " 'alto18',\n",
              " 'aluable',\n",
              " 'alwa',\n",
              " 'alwys',\n",
              " 'amanda',\n",
              " 'amazing',\n",
              " 'ambrith',\n",
              " 'american',\n",
              " 'ami',\n",
              " 'amigos',\n",
              " 'amk',\n",
              " 'amla',\n",
              " 'amma',\n",
              " 'ammae',\n",
              " 'amnow',\n",
              " 'amore',\n",
              " 'amp',\n",
              " 'amrca',\n",
              " 'amrita',\n",
              " 'amt',\n",
              " 'amused',\n",
              " 'amy',\n",
              " 'ana',\n",
              " 'anal',\n",
              " 'anand',\n",
              " 'andre',\n",
              " 'andros',\n",
              " 'angels',\n",
              " 'angry',\n",
              " 'animal',\n",
              " 'animation',\n",
              " 'anjie',\n",
              " 'anjola',\n",
              " 'anna',\n",
              " 'annie',\n",
              " 'anniversary',\n",
              " 'annoncement',\n",
              " 'announced',\n",
              " 'announcement',\n",
              " 'annoyin',\n",
              " 'annoying',\n",
              " 'anot',\n",
              " 'ans',\n",
              " 'ansr',\n",
              " 'answer',\n",
              " 'answered',\n",
              " 'answerin',\n",
              " 'answering',\n",
              " 'answers',\n",
              " 'answr',\n",
              " 'antelope',\n",
              " 'antha',\n",
              " 'anthony',\n",
              " 'anti',\n",
              " 'antibiotic',\n",
              " 'anybody',\n",
              " 'anymore',\n",
              " 'anythin',\n",
              " 'anythingtomorrow',\n",
              " 'anytime',\n",
              " 'anyways',\n",
              " 'aom',\n",
              " 'apart',\n",
              " 'apartment',\n",
              " 'apes',\n",
              " 'apeshit',\n",
              " 'aphex',\n",
              " 'apnt',\n",
              " 'apo',\n",
              " 'apologise',\n",
              " 'apologize',\n",
              " 'apology',\n",
              " 'app',\n",
              " 'apparently',\n",
              " 'appeal',\n",
              " 'appear',\n",
              " 'appendix',\n",
              " 'applausestore',\n",
              " 'applebees',\n",
              " 'apples',\n",
              " 'application',\n",
              " 'apply',\n",
              " 'applyed',\n",
              " 'applying',\n",
              " 'appointment',\n",
              " 'appointments',\n",
              " 'appreciate',\n",
              " 'appreciated',\n",
              " 'approaches',\n",
              " 'approaching',\n",
              " 'appropriate',\n",
              " 'approve',\n",
              " 'approved',\n",
              " 'approx',\n",
              " 'apps',\n",
              " 'appt',\n",
              " 'appy',\n",
              " 'april',\n",
              " 'aproach',\n",
              " 'apt',\n",
              " 'aquarius',\n",
              " 'ar',\n",
              " 'arab',\n",
              " 'arcade',\n",
              " 'archive',\n",
              " 'ard',\n",
              " 'area',\n",
              " 'aren',\n",
              " 'arent',\n",
              " 'arestaurant',\n",
              " 'aretaking',\n",
              " 'areyouunique',\n",
              " 'argentina',\n",
              " 'argh',\n",
              " 'argue',\n",
              " 'arguing',\n",
              " 'argument',\n",
              " 'arise',\n",
              " 'arises',\n",
              " 'arm',\n",
              " 'armand',\n",
              " 'arms',\n",
              " 'arngd',\n",
              " 'arnt',\n",
              " 'aroundn',\n",
              " 'arr',\n",
              " 'arrange',\n",
              " 'arranging',\n",
              " 'arrested',\n",
              " 'arrival',\n",
              " 'arrive',\n",
              " 'arrived',\n",
              " 'arsenal',\n",
              " 'art',\n",
              " 'artists',\n",
              " 'arts',\n",
              " 'arty',\n",
              " 'arun',\n",
              " 'asap',\n",
              " 'asda',\n",
              " 'ashes',\n",
              " 'ashley',\n",
              " 'asia',\n",
              " 'asian',\n",
              " 'ask',\n",
              " 'askd',\n",
              " 'asked',\n",
              " 'askin',\n",
              " ...]"
            ]
          },
          "metadata": {},
          "execution_count": 24
        }
      ]
    },
    {
      "cell_type": "code",
      "metadata": {
        "colab": {
          "base_uri": "https://localhost:8080/"
        },
        "id": "BeSA-M6PyclG",
        "outputId": "f1a03c4f-1b8b-442a-cc83-9ce133cb8e66"
      },
      "source": [
        "X_train[\"Message\"]"
      ],
      "execution_count": null,
      "outputs": [
        {
          "output_type": "execute_result",
          "data": {
            "text/plain": [
              "2420    SMS SERVICES For your inclusive text credits p...\n",
              "2725                                  Nope... C ü then...\n",
              "3968    YOU HAVE WON! As a valued Vodafone customer ou...\n",
              "3294    A little. Meds say take once every 8 hours. It...\n",
              "3583    You are right. Meanwhile how's project twins c...\n",
              "                              ...                        \n",
              "1407    URGENT, IMPORTANT INFORMATION FOR O2 USER. TOD...\n",
              "1780    Loan for any purpose £500 - £75,000. Homeowner...\n",
              "2248    Back 2 work 2morro half term over! Can U C me ...\n",
              "2146    Sunshine Hols. To claim ur med holiday send a ...\n",
              "1073    Dear U've been invited to XCHAT. This is our f...\n",
              "Name: Message, Length: 6760, dtype: object"
            ]
          },
          "metadata": {},
          "execution_count": 25
        }
      ]
    },
    {
      "cell_type": "markdown",
      "metadata": {
        "id": "hXaeW2nUVdLK"
      },
      "source": [
        ""
      ]
    },
    {
      "cell_type": "markdown",
      "metadata": {
        "id": "AdXqetPiVgbV"
      },
      "source": [
        "##### **LogisticRegressionClassifier**"
      ]
    },
    {
      "cell_type": "code",
      "metadata": {
        "colab": {
          "base_uri": "https://localhost:8080/"
        },
        "id": "83hG8YP7VgbW",
        "outputId": "b0f459f5-3ffb-4579-c09e-5a4d9aa8a7b0"
      },
      "source": [
        "from sklearn.linear_model import LogisticRegression\n",
        "\n",
        "lor = LogisticRegression()\n",
        "\n",
        "lor.fit(X_train_features, y_train)"
      ],
      "execution_count": null,
      "outputs": [
        {
          "output_type": "execute_result",
          "data": {
            "text/plain": [
              "LogisticRegression()"
            ]
          },
          "metadata": {},
          "execution_count": 26
        }
      ]
    },
    {
      "cell_type": "markdown",
      "metadata": {
        "id": "OYYQ6PvUVgbW"
      },
      "source": [
        "Valuation"
      ]
    },
    {
      "cell_type": "code",
      "metadata": {
        "id": "iy2gWNGsVgbW"
      },
      "source": [
        "y_pred = lor.predict(X_test_features)"
      ],
      "execution_count": null,
      "outputs": []
    },
    {
      "cell_type": "markdown",
      "metadata": {
        "id": "NGvijA4WVgbW"
      },
      "source": [
        "Performance Metrics"
      ]
    },
    {
      "cell_type": "code",
      "metadata": {
        "colab": {
          "base_uri": "https://localhost:8080/"
        },
        "id": "5ny6vbTEVgbW",
        "outputId": "4679e765-aaa7-4da1-9e08-dedbc9972e29"
      },
      "source": [
        "from sklearn.metrics import accuracy_score, confusion_matrix, classification_report\n",
        "\n",
        "print(\"1. Accuracy Score - \", accuracy_score(y_pred, y_test))\n",
        "print(\"2. Confusion Matrix - \", confusion_matrix(y_pred, y_test))\n",
        "print(\"3. Classification_report - \", classification_report(y_pred, y_test))"
      ],
      "execution_count": null,
      "outputs": [
        {
          "output_type": "stream",
          "name": "stdout",
          "text": [
            "1. Accuracy Score -  0.9742822966507177\n",
            "2. Confusion Matrix -  [[1409   27]\n",
            " [  16  220]]\n",
            "3. Classification_report -                precision    recall  f1-score   support\n",
            "\n",
            "           0       0.99      0.98      0.98      1436\n",
            "           1       0.89      0.93      0.91       236\n",
            "\n",
            "    accuracy                           0.97      1672\n",
            "   macro avg       0.94      0.96      0.95      1672\n",
            "weighted avg       0.97      0.97      0.97      1672\n",
            "\n"
          ]
        }
      ]
    },
    {
      "cell_type": "code",
      "metadata": {
        "colab": {
          "base_uri": "https://localhost:8080/"
        },
        "id": "jdt_JckCVgbX",
        "outputId": "1d2fd35f-c701-4de2-919c-b39fdfe0af8b"
      },
      "source": [
        "lor.score(X_test_features, y_test)"
      ],
      "execution_count": null,
      "outputs": [
        {
          "output_type": "execute_result",
          "data": {
            "text/plain": [
              "0.9742822966507177"
            ]
          },
          "metadata": {},
          "execution_count": 29
        }
      ]
    },
    {
      "cell_type": "code",
      "metadata": {
        "colab": {
          "base_uri": "https://localhost:8080/"
        },
        "id": "B4_njLmjVgbX",
        "outputId": "da6206c6-de80-454b-8350-7d0f587c582e"
      },
      "source": [
        "accuracy_score(y_pred, y_test)"
      ],
      "execution_count": null,
      "outputs": [
        {
          "output_type": "execute_result",
          "data": {
            "text/plain": [
              "0.9742822966507177"
            ]
          },
          "metadata": {},
          "execution_count": 30
        }
      ]
    },
    {
      "cell_type": "markdown",
      "metadata": {
        "id": "ZEkQ6olFVnei"
      },
      "source": [
        "##### **KNearestNeighbors**"
      ]
    },
    {
      "cell_type": "code",
      "metadata": {
        "colab": {
          "base_uri": "https://localhost:8080/"
        },
        "id": "FOvL0Pb0VrjR",
        "outputId": "9554ed74-e598-413b-f143-d8eff9defcda"
      },
      "source": [
        "from sklearn.neighbors import KNeighborsClassifier\n",
        "\n",
        "knn = KNeighborsClassifier()\n",
        "\n",
        "knn.fit(X_train_features, y_train)"
      ],
      "execution_count": null,
      "outputs": [
        {
          "output_type": "execute_result",
          "data": {
            "text/plain": [
              "KNeighborsClassifier()"
            ]
          },
          "metadata": {},
          "execution_count": 31
        }
      ]
    },
    {
      "cell_type": "markdown",
      "metadata": {
        "id": "NtbjKbsmWNO1"
      },
      "source": [
        "Valuation"
      ]
    },
    {
      "cell_type": "code",
      "metadata": {
        "id": "-YTcAApkWImM"
      },
      "source": [
        "y_pred = knn.predict(X_test_features)"
      ],
      "execution_count": null,
      "outputs": []
    },
    {
      "cell_type": "markdown",
      "metadata": {
        "id": "t7hPxTv5XE11"
      },
      "source": [
        "Classification metrics"
      ]
    },
    {
      "cell_type": "code",
      "metadata": {
        "colab": {
          "base_uri": "https://localhost:8080/"
        },
        "id": "t_3LOOPwWIjH",
        "outputId": "adc093e7-43c8-44de-c926-0ee1599fa325"
      },
      "source": [
        "from sklearn.metrics import accuracy_score, confusion_matrix, classification_report\n",
        "\n",
        "print(\"1. Accuracy Score - \", accuracy_score(y_pred, y_test))\n",
        "print(\"2. Confusion Matrix - \", confusion_matrix(y_pred, y_test))\n",
        "print(\"3. Classification_report - \", classification_report(y_pred, y_test))"
      ],
      "execution_count": null,
      "outputs": [
        {
          "output_type": "stream",
          "name": "stdout",
          "text": [
            "1. Accuracy Score -  0.9419856459330144\n",
            "2. Confusion Matrix -  [[1424   96]\n",
            " [   1  151]]\n",
            "3. Classification_report -                precision    recall  f1-score   support\n",
            "\n",
            "           0       1.00      0.94      0.97      1520\n",
            "           1       0.61      0.99      0.76       152\n",
            "\n",
            "    accuracy                           0.94      1672\n",
            "   macro avg       0.81      0.97      0.86      1672\n",
            "weighted avg       0.96      0.94      0.95      1672\n",
            "\n"
          ]
        }
      ]
    },
    {
      "cell_type": "code",
      "metadata": {
        "colab": {
          "base_uri": "https://localhost:8080/"
        },
        "id": "NAG8bRH_WIOe",
        "outputId": "d6f3c610-f119-42b9-f7c7-bfa7efa2f11f"
      },
      "source": [
        "knn.score(X_test_features, y_test)"
      ],
      "execution_count": null,
      "outputs": [
        {
          "output_type": "execute_result",
          "data": {
            "text/plain": [
              "0.9419856459330144"
            ]
          },
          "metadata": {},
          "execution_count": 34
        }
      ]
    },
    {
      "cell_type": "code",
      "metadata": {
        "id": "_Z0ex5erWILb"
      },
      "source": [
        ""
      ],
      "execution_count": null,
      "outputs": []
    },
    {
      "cell_type": "markdown",
      "metadata": {
        "id": "1pYi6lly_gt7"
      },
      "source": [
        "##### **DecisionTreeClassifier**"
      ]
    },
    {
      "cell_type": "code",
      "metadata": {
        "colab": {
          "base_uri": "https://localhost:8080/"
        },
        "id": "a_x6Uncz_l_9",
        "outputId": "c42081a2-3cc9-4603-b5d9-76abb00e8fec"
      },
      "source": [
        "from sklearn.tree import DecisionTreeClassifier\n",
        "\n",
        "dtree = DecisionTreeClassifier(criterion=\"entropy\", max_depth=10)\n",
        "\n",
        "dtree.fit(X_train_features, y_train)"
      ],
      "execution_count": null,
      "outputs": [
        {
          "output_type": "execute_result",
          "data": {
            "text/plain": [
              "DecisionTreeClassifier(criterion='entropy', max_depth=10)"
            ]
          },
          "metadata": {},
          "execution_count": 35
        }
      ]
    },
    {
      "cell_type": "markdown",
      "metadata": {
        "id": "7_hEUPrCBUKS"
      },
      "source": [
        "Valuation"
      ]
    },
    {
      "cell_type": "code",
      "metadata": {
        "id": "FU5cvJhd_mBk"
      },
      "source": [
        "y_predt = dtree.predict(X_test_features)"
      ],
      "execution_count": null,
      "outputs": []
    },
    {
      "cell_type": "code",
      "metadata": {
        "colab": {
          "base_uri": "https://localhost:8080/"
        },
        "id": "DuDc2WsY_mEN",
        "outputId": "176bcda8-1e69-4c80-bef6-7a8330d50469"
      },
      "source": [
        "y_predt"
      ],
      "execution_count": null,
      "outputs": [
        {
          "output_type": "execute_result",
          "data": {
            "text/plain": [
              "array([0, 0, 0, ..., 0, 1, 1])"
            ]
          },
          "metadata": {},
          "execution_count": 37
        }
      ]
    },
    {
      "cell_type": "markdown",
      "metadata": {
        "id": "JwXwg-bGCAp2"
      },
      "source": [
        "Prediction Metrics"
      ]
    },
    {
      "cell_type": "code",
      "metadata": {
        "colab": {
          "base_uri": "https://localhost:8080/"
        },
        "id": "fEC8pXpU_mHO",
        "outputId": "c78a5451-7d6a-4ffa-c068-08028b885442"
      },
      "source": [
        "from sklearn.metrics import accuracy_score, confusion_matrix, classification_report\n",
        "\n",
        "print(\"1. Accuracy Score - \", accuracy_score(y_predt, y_test))\n",
        "print(\"\\n\")\n",
        "print(\"2. Confusion Matrix - \\n\", confusion_matrix(y_predt, y_test))\n",
        "print(\"\\n\")\n",
        "print(\"3. Classification_report - \\n\\n\", classification_report(y_predt, y_test))"
      ],
      "execution_count": null,
      "outputs": [
        {
          "output_type": "stream",
          "name": "stdout",
          "text": [
            "1. Accuracy Score -  0.9383971291866029\n",
            "\n",
            "\n",
            "2. Confusion Matrix - \n",
            " [[1394   72]\n",
            " [  31  175]]\n",
            "\n",
            "\n",
            "3. Classification_report - \n",
            "\n",
            "               precision    recall  f1-score   support\n",
            "\n",
            "           0       0.98      0.95      0.96      1466\n",
            "           1       0.71      0.85      0.77       206\n",
            "\n",
            "    accuracy                           0.94      1672\n",
            "   macro avg       0.84      0.90      0.87      1672\n",
            "weighted avg       0.95      0.94      0.94      1672\n",
            "\n"
          ]
        }
      ]
    },
    {
      "cell_type": "code",
      "metadata": {
        "colab": {
          "base_uri": "https://localhost:8080/"
        },
        "id": "wdU_9KfCXOGr",
        "outputId": "e6624584-e1bd-4b8e-911e-d4aeb159d279"
      },
      "source": [
        "dtree.score(X_test_features, y_test)"
      ],
      "execution_count": null,
      "outputs": [
        {
          "output_type": "execute_result",
          "data": {
            "text/plain": [
              "0.9383971291866029"
            ]
          },
          "metadata": {},
          "execution_count": 39
        }
      ]
    },
    {
      "cell_type": "code",
      "metadata": {
        "id": "hu_vUnElXN5P"
      },
      "source": [
        ""
      ],
      "execution_count": null,
      "outputs": []
    },
    {
      "cell_type": "markdown",
      "metadata": {
        "id": "IzGLB1quXUUg"
      },
      "source": [
        "##### **RandomForestClassifier**"
      ]
    },
    {
      "cell_type": "code",
      "metadata": {
        "colab": {
          "base_uri": "https://localhost:8080/"
        },
        "id": "IFLJsnmjXYHm",
        "outputId": "0fd5f9ae-0ac8-49b4-9f05-466cf210fa9e"
      },
      "source": [
        "from sklearn.ensemble import RandomForestClassifier\n",
        "\n",
        "rfc = RandomForestClassifier()\n",
        "\n",
        "rfc.fit(X_train_features, y_train)"
      ],
      "execution_count": null,
      "outputs": [
        {
          "output_type": "execute_result",
          "data": {
            "text/plain": [
              "RandomForestClassifier()"
            ]
          },
          "metadata": {},
          "execution_count": 40
        }
      ]
    },
    {
      "cell_type": "markdown",
      "metadata": {
        "id": "GNkIiZeuXi38"
      },
      "source": [
        "Valuation"
      ]
    },
    {
      "cell_type": "code",
      "metadata": {
        "id": "49rBhkq8XYC_"
      },
      "source": [
        "y_pred = rfc.predict(X_test_features)"
      ],
      "execution_count": null,
      "outputs": []
    },
    {
      "cell_type": "markdown",
      "metadata": {
        "id": "HGUgWoAIXuhk"
      },
      "source": [
        "Classification Metrics"
      ]
    },
    {
      "cell_type": "code",
      "metadata": {
        "colab": {
          "base_uri": "https://localhost:8080/"
        },
        "id": "EwwaXQiOXYAV",
        "outputId": "4b816319-14bc-4ed6-989e-abb7c7937c92"
      },
      "source": [
        "from sklearn.metrics import accuracy_score, confusion_matrix, classification_report\n",
        "\n",
        "print(\"1. Accuracy Score - \", accuracy_score(y_pred, y_test))\n",
        "print(\"2. Confusion Matrix - \", confusion_matrix(y_pred, y_test))\n",
        "print(\"3. Classification_report - \", classification_report(y_pred, y_test))"
      ],
      "execution_count": null,
      "outputs": [
        {
          "output_type": "stream",
          "name": "stdout",
          "text": [
            "1. Accuracy Score -  0.9766746411483254\n",
            "2. Confusion Matrix -  [[1425   39]\n",
            " [   0  208]]\n",
            "3. Classification_report -                precision    recall  f1-score   support\n",
            "\n",
            "           0       1.00      0.97      0.99      1464\n",
            "           1       0.84      1.00      0.91       208\n",
            "\n",
            "    accuracy                           0.98      1672\n",
            "   macro avg       0.92      0.99      0.95      1672\n",
            "weighted avg       0.98      0.98      0.98      1672\n",
            "\n"
          ]
        }
      ]
    },
    {
      "cell_type": "code",
      "metadata": {
        "colab": {
          "base_uri": "https://localhost:8080/"
        },
        "id": "IxQxSaSoXzte",
        "outputId": "800bffbb-62a0-493f-9a43-b9ee2989db76"
      },
      "source": [
        "rfc.score(X_test_features, y_test)"
      ],
      "execution_count": null,
      "outputs": [
        {
          "output_type": "execute_result",
          "data": {
            "text/plain": [
              "0.9766746411483254"
            ]
          },
          "metadata": {},
          "execution_count": 43
        }
      ]
    },
    {
      "cell_type": "code",
      "metadata": {
        "id": "_rRfdRliXX-5"
      },
      "source": [
        ""
      ],
      "execution_count": null,
      "outputs": []
    },
    {
      "cell_type": "markdown",
      "metadata": {
        "id": "zlTAI7uqzLk2"
      },
      "source": [
        "##### **GradientBoostingClassifier**"
      ]
    },
    {
      "cell_type": "code",
      "metadata": {
        "colab": {
          "base_uri": "https://localhost:8080/"
        },
        "id": "LJVzIRlJyqEp",
        "outputId": "31a1d78e-888a-4c26-f93c-e20869a6114c"
      },
      "source": [
        "from sklearn.ensemble import GradientBoostingClassifier\n",
        "\n",
        "gradboostclass = GradientBoostingClassifier()\n",
        "\n",
        "gradboostclass.fit(X_train_features, y_train)"
      ],
      "execution_count": null,
      "outputs": [
        {
          "output_type": "execute_result",
          "data": {
            "text/plain": [
              "GradientBoostingClassifier()"
            ]
          },
          "metadata": {},
          "execution_count": 44
        }
      ]
    },
    {
      "cell_type": "markdown",
      "metadata": {
        "id": "jl-3LafTzWZf"
      },
      "source": [
        "Valuation"
      ]
    },
    {
      "cell_type": "code",
      "metadata": {
        "id": "rGlpTgULyqHa"
      },
      "source": [
        "y_predg = gradboostclass.predict(X_test_features)"
      ],
      "execution_count": null,
      "outputs": []
    },
    {
      "cell_type": "code",
      "metadata": {
        "colab": {
          "base_uri": "https://localhost:8080/"
        },
        "id": "a7Z7gtkuzchr",
        "outputId": "3a94fad6-76c4-4c3b-95e8-ffa0bd48c377"
      },
      "source": [
        "y_predg"
      ],
      "execution_count": null,
      "outputs": [
        {
          "output_type": "execute_result",
          "data": {
            "text/plain": [
              "array([0, 0, 0, ..., 0, 1, 1])"
            ]
          },
          "metadata": {},
          "execution_count": 46
        }
      ]
    },
    {
      "cell_type": "markdown",
      "metadata": {
        "id": "VRgfgNQQzjeg"
      },
      "source": [
        "Performance Metrics"
      ]
    },
    {
      "cell_type": "code",
      "metadata": {
        "colab": {
          "base_uri": "https://localhost:8080/"
        },
        "id": "KibfqyhQyqV8",
        "outputId": "b7173abe-6be2-4cb1-94c6-67643123d51c"
      },
      "source": [
        "from sklearn.metrics import accuracy_score, confusion_matrix, classification_report\n",
        "\n",
        "print(\"1. Accuracy Score - \", accuracy_score(y_predg, y_test))\n",
        "print(\"\\n\")\n",
        "print(\"2. Confusion Matrix - \\n\", confusion_matrix(y_predg, y_test))\n",
        "print(\"\\n\")\n",
        "print(\"3. Classification_report - \\n\\n\", classification_report(y_predg, y_test))"
      ],
      "execution_count": null,
      "outputs": [
        {
          "output_type": "stream",
          "name": "stdout",
          "text": [
            "1. Accuracy Score -  0.9611244019138756\n",
            "\n",
            "\n",
            "2. Confusion Matrix - \n",
            " [[1404   44]\n",
            " [  21  203]]\n",
            "\n",
            "\n",
            "3. Classification_report - \n",
            "\n",
            "               precision    recall  f1-score   support\n",
            "\n",
            "           0       0.99      0.97      0.98      1448\n",
            "           1       0.82      0.91      0.86       224\n",
            "\n",
            "    accuracy                           0.96      1672\n",
            "   macro avg       0.90      0.94      0.92      1672\n",
            "weighted avg       0.96      0.96      0.96      1672\n",
            "\n"
          ]
        }
      ]
    },
    {
      "cell_type": "code",
      "metadata": {
        "colab": {
          "base_uri": "https://localhost:8080/"
        },
        "id": "JHTrjwd4YDkG",
        "outputId": "e6725b5e-a3d5-40ca-f4ef-c1689fdee559"
      },
      "source": [
        "gradboostclass.score(X_test_features, y_test)"
      ],
      "execution_count": null,
      "outputs": [
        {
          "output_type": "execute_result",
          "data": {
            "text/plain": [
              "0.9611244019138756"
            ]
          },
          "metadata": {},
          "execution_count": 48
        }
      ]
    },
    {
      "cell_type": "code",
      "metadata": {
        "id": "DczfYBiXYDhR"
      },
      "source": [
        ""
      ],
      "execution_count": null,
      "outputs": []
    },
    {
      "cell_type": "markdown",
      "metadata": {
        "id": "TuSKfTxy0Lny"
      },
      "source": [
        "##### **AdaBoostClassifier**"
      ]
    },
    {
      "cell_type": "code",
      "metadata": {
        "colab": {
          "base_uri": "https://localhost:8080/"
        },
        "id": "ClfCF87PyqXm",
        "outputId": "8fc544b7-335e-4e2e-b6dc-8c289d69f2e1"
      },
      "source": [
        "from sklearn.ensemble import AdaBoostClassifier\n",
        "\n",
        "adaboostclass = AdaBoostClassifier(\n",
        "    learning_rate=1\n",
        ")\n",
        "\n",
        "adaboostclass.fit(X_train_features, y_train)"
      ],
      "execution_count": null,
      "outputs": [
        {
          "output_type": "execute_result",
          "data": {
            "text/plain": [
              "AdaBoostClassifier(learning_rate=1)"
            ]
          },
          "metadata": {},
          "execution_count": 49
        }
      ]
    },
    {
      "cell_type": "markdown",
      "metadata": {
        "id": "s4nn8cPQ0UnV"
      },
      "source": [
        "Valuation"
      ]
    },
    {
      "cell_type": "code",
      "metadata": {
        "id": "wWQ4zsdRyqai"
      },
      "source": [
        "y_preda = adaboostclass.predict(X_test_features)"
      ],
      "execution_count": null,
      "outputs": []
    },
    {
      "cell_type": "code",
      "metadata": {
        "colab": {
          "base_uri": "https://localhost:8080/"
        },
        "id": "siIVsfcryqcS",
        "outputId": "1e506702-42fe-4b16-b818-56f405e490c5"
      },
      "source": [
        "y_preda"
      ],
      "execution_count": null,
      "outputs": [
        {
          "output_type": "execute_result",
          "data": {
            "text/plain": [
              "array([0, 0, 0, ..., 0, 1, 1])"
            ]
          },
          "metadata": {},
          "execution_count": 51
        }
      ]
    },
    {
      "cell_type": "markdown",
      "metadata": {
        "id": "34YwFkNw0aN8"
      },
      "source": [
        "Performance Matrix"
      ]
    },
    {
      "cell_type": "code",
      "metadata": {
        "colab": {
          "base_uri": "https://localhost:8080/"
        },
        "id": "N-0M-B6ayqfo",
        "outputId": "fead6ea5-67c0-40a6-8af0-308f29dd8b24"
      },
      "source": [
        "from sklearn.metrics import accuracy_score, confusion_matrix, classification_report\n",
        "\n",
        "print(\"1. Accuracy Score - \", accuracy_score(y_preda, y_test))\n",
        "print(\"\\n\")\n",
        "print(\"2. Confusion Matrix - \\n\", confusion_matrix(y_preda, y_test))\n",
        "print(\"\\n\")\n",
        "print(\"3. Classification_report - \\n\\n\", classification_report(y_preda, y_test))"
      ],
      "execution_count": null,
      "outputs": [
        {
          "output_type": "stream",
          "name": "stdout",
          "text": [
            "1. Accuracy Score -  0.9635167464114832\n",
            "\n",
            "\n",
            "2. Confusion Matrix - \n",
            " [[1402   38]\n",
            " [  23  209]]\n",
            "\n",
            "\n",
            "3. Classification_report - \n",
            "\n",
            "               precision    recall  f1-score   support\n",
            "\n",
            "           0       0.98      0.97      0.98      1440\n",
            "           1       0.85      0.90      0.87       232\n",
            "\n",
            "    accuracy                           0.96      1672\n",
            "   macro avg       0.92      0.94      0.93      1672\n",
            "weighted avg       0.96      0.96      0.96      1672\n",
            "\n"
          ]
        }
      ]
    },
    {
      "cell_type": "code",
      "metadata": {
        "id": "hFN9U_cPyqiI"
      },
      "source": [
        ""
      ],
      "execution_count": null,
      "outputs": []
    },
    {
      "cell_type": "markdown",
      "metadata": {
        "id": "I_0TtyoOYO0U"
      },
      "source": [
        "##### **XGBClassifier**"
      ]
    },
    {
      "cell_type": "code",
      "metadata": {
        "id": "LIiHv7jjyqkJ",
        "colab": {
          "base_uri": "https://localhost:8080/"
        },
        "outputId": "ccf8948c-0e8e-467b-f2fc-b84f6015d480"
      },
      "source": [
        "import xgboost\n",
        "from xgboost import XGBClassifier\n",
        "\n",
        "xgb = XGBClassifier()\n",
        "\n",
        "xgb.fit(X_train_features, y_train)"
      ],
      "execution_count": null,
      "outputs": [
        {
          "output_type": "execute_result",
          "data": {
            "text/plain": [
              "XGBClassifier()"
            ]
          },
          "metadata": {},
          "execution_count": 53
        }
      ]
    },
    {
      "cell_type": "markdown",
      "metadata": {
        "id": "MXcVWF1WYkbb"
      },
      "source": [
        "Valuation"
      ]
    },
    {
      "cell_type": "code",
      "metadata": {
        "id": "Wsoram_lycoX"
      },
      "source": [
        "y_pred = xgb.predict(X_test_features)"
      ],
      "execution_count": null,
      "outputs": []
    },
    {
      "cell_type": "markdown",
      "metadata": {
        "id": "dxLJAaDkYq7H"
      },
      "source": [
        "Classification metrics"
      ]
    },
    {
      "cell_type": "code",
      "metadata": {
        "id": "0fcR-Am5ycwd",
        "colab": {
          "base_uri": "https://localhost:8080/"
        },
        "outputId": "d0e9c1f1-bed1-432a-b430-9034a8a9c52f"
      },
      "source": [
        "from sklearn.metrics import accuracy_score, confusion_matrix, classification_report\n",
        "\n",
        "print(\"1. Accuracy Score - \", accuracy_score(y_pred, y_test))\n",
        "print(\"2. Confusion Matrix - \", confusion_matrix(y_pred, y_test))\n",
        "print(\"3. Classification_report - \", classification_report(y_pred, y_test))"
      ],
      "execution_count": null,
      "outputs": [
        {
          "output_type": "stream",
          "name": "stdout",
          "text": [
            "1. Accuracy Score -  0.9569377990430622\n",
            "2. Confusion Matrix -  [[1396   43]\n",
            " [  29  204]]\n",
            "3. Classification_report -                precision    recall  f1-score   support\n",
            "\n",
            "           0       0.98      0.97      0.97      1439\n",
            "           1       0.83      0.88      0.85       233\n",
            "\n",
            "    accuracy                           0.96      1672\n",
            "   macro avg       0.90      0.92      0.91      1672\n",
            "weighted avg       0.96      0.96      0.96      1672\n",
            "\n"
          ]
        }
      ]
    },
    {
      "cell_type": "code",
      "metadata": {
        "colab": {
          "base_uri": "https://localhost:8080/"
        },
        "id": "ggdBbDHpYtud",
        "outputId": "475bcd80-edfe-44a9-9a0b-ccfe53f0da6f"
      },
      "source": [
        "xgb.score(X_test_features, y_test)"
      ],
      "execution_count": null,
      "outputs": [
        {
          "output_type": "execute_result",
          "data": {
            "text/plain": [
              "0.9569377990430622"
            ]
          },
          "metadata": {},
          "execution_count": 56
        }
      ]
    },
    {
      "cell_type": "code",
      "metadata": {
        "id": "YL_MPPTiY06u"
      },
      "source": [
        ""
      ],
      "execution_count": null,
      "outputs": []
    },
    {
      "cell_type": "markdown",
      "metadata": {
        "id": "t01f4EWmY2C3"
      },
      "source": [
        "##### **Inference**"
      ]
    },
    {
      "cell_type": "markdown",
      "metadata": {
        "id": "He-hsqN4Y8hz"
      },
      "source": [
        "**AdaBoostClassifier prevails and predicts the given text precisely with maximum accuracy**"
      ]
    },
    {
      "cell_type": "code",
      "metadata": {
        "id": "ad6fZb-MY3xv"
      },
      "source": [
        ""
      ],
      "execution_count": null,
      "outputs": []
    },
    {
      "cell_type": "markdown",
      "metadata": {
        "id": "hD27qRrkJ4us"
      },
      "source": [
        "##### **Deployment**"
      ]
    },
    {
      "cell_type": "code",
      "metadata": {
        "id": "RVhVFmxQNL8i"
      },
      "source": [
        "# Pckle dump\n",
        "\n",
        "import pickle\n",
        "\n",
        "pickle.dump(rfc, open(\"adaboostlass.pkl\", \"wb\"))"
      ],
      "execution_count": null,
      "outputs": []
    },
    {
      "cell_type": "code",
      "metadata": {
        "id": "4733pVmQNURO",
        "colab": {
          "base_uri": "https://localhost:8080/"
        },
        "outputId": "7ec16df4-e608-4d1a-f7ec-7c8dfe8d02a2"
      },
      "source": [
        "# Pydantic\n",
        "\n",
        "!pip install pydantic\n",
        "from pydantic import BaseModel\n",
        "\n",
        "class incoming_mail(BaseModel):\n",
        "  Message : str\n",
        "\n",
        "  class Config:\n",
        "    schema_extra = {\n",
        "        \"example\" : {\n",
        "            \"Message\"           : \"qwertyuioplkjhgfdsazxcvbnm \",\n",
        "                    }\n",
        "    }"
      ],
      "execution_count": null,
      "outputs": [
        {
          "output_type": "stream",
          "name": "stdout",
          "text": [
            "Requirement already satisfied: pydantic in /usr/local/lib/python3.7/dist-packages (1.8.2)\n",
            "Requirement already satisfied: typing-extensions>=3.7.4.3 in /usr/local/lib/python3.7/dist-packages (from pydantic) (3.10.0.2)\n"
          ]
        }
      ]
    },
    {
      "cell_type": "code",
      "metadata": {
        "colab": {
          "base_uri": "https://localhost:8080/"
        },
        "id": "cmfkkWSuSyf-",
        "outputId": "5a2da1b1-c6d8-49c2-a57d-df7631503454"
      },
      "source": [
        "# FastAPI\n",
        "\n",
        "!pip install fastapi\n",
        "from fastapi import FastAPI\n",
        "\n",
        "app = FastAPI()\n",
        "\n",
        "@app.on_event(\"startup\")\n",
        "def load_model():                                   # path.operation.functiuno\n",
        "  global model\n",
        "  model = pickle.load(open(\"adaboostclass.pkl\", \"rb\"))\n",
        "\n",
        "@app.get(\"/\")\n",
        "def index():\n",
        "  return {\"message\" : \"Homepage of API\"}\n",
        "\n",
        "@app.post(\"predict\")\n",
        "def get_incoming_mail(data: incoming_mail):\n",
        "  received = data.dict()\n",
        "  Message  =  received[\"Message\"]\n",
        "\n",
        "  pred_name = model.predict([Message]).tolist()[0]\n",
        "  return {\"prediction\" : pred_name}"
      ],
      "execution_count": null,
      "outputs": [
        {
          "output_type": "stream",
          "name": "stdout",
          "text": [
            "Requirement already satisfied: fastapi in /usr/local/lib/python3.7/dist-packages (0.70.0)\n",
            "Requirement already satisfied: pydantic!=1.7,!=1.7.1,!=1.7.2,!=1.7.3,!=1.8,!=1.8.1,<2.0.0,>=1.6.2 in /usr/local/lib/python3.7/dist-packages (from fastapi) (1.8.2)\n",
            "Requirement already satisfied: starlette==0.16.0 in /usr/local/lib/python3.7/dist-packages (from fastapi) (0.16.0)\n",
            "Requirement already satisfied: typing-extensions in /usr/local/lib/python3.7/dist-packages (from starlette==0.16.0->fastapi) (3.10.0.2)\n",
            "Requirement already satisfied: anyio<4,>=3.0.0 in /usr/local/lib/python3.7/dist-packages (from starlette==0.16.0->fastapi) (3.4.0)\n",
            "Requirement already satisfied: sniffio>=1.1 in /usr/local/lib/python3.7/dist-packages (from anyio<4,>=3.0.0->starlette==0.16.0->fastapi) (1.2.0)\n",
            "Requirement already satisfied: idna>=2.8 in /usr/local/lib/python3.7/dist-packages (from anyio<4,>=3.0.0->starlette==0.16.0->fastapi) (2.10)\n"
          ]
        }
      ]
    },
    {
      "cell_type": "code",
      "metadata": {
        "colab": {
          "base_uri": "https://localhost:8080/"
        },
        "id": "wd9T0QcjJ6ui",
        "outputId": "d1bf5135-7a6c-46d8-e75c-4ef4a1a14386"
      },
      "source": [
        "# ColabCode\n",
        "\n",
        "!pip install colabcode\n",
        "\n",
        "from colabcode import ColabCode\n",
        "\n",
        "server = ColabCode(port = 15000, code=False)"
      ],
      "execution_count": null,
      "outputs": [
        {
          "output_type": "stream",
          "name": "stdout",
          "text": [
            "Requirement already satisfied: colabcode in /usr/local/lib/python3.7/dist-packages (0.3.0)\n",
            "Requirement already satisfied: uvicorn==0.13.1 in /usr/local/lib/python3.7/dist-packages (from colabcode) (0.13.1)\n",
            "Requirement already satisfied: jupyterlab==3.0.7 in /usr/local/lib/python3.7/dist-packages (from colabcode) (3.0.7)\n",
            "Requirement already satisfied: nest-asyncio==1.4.3 in /usr/local/lib/python3.7/dist-packages (from colabcode) (1.4.3)\n",
            "Requirement already satisfied: pyngrok>=5.0.0 in /usr/local/lib/python3.7/dist-packages (from colabcode) (5.1.0)\n",
            "Requirement already satisfied: nbclassic~=0.2 in /usr/local/lib/python3.7/dist-packages (from jupyterlab==3.0.7->colabcode) (0.3.4)\n",
            "Requirement already satisfied: jupyterlab-server~=2.0 in /usr/local/lib/python3.7/dist-packages (from jupyterlab==3.0.7->colabcode) (2.8.2)\n",
            "Requirement already satisfied: jupyter-core in /usr/local/lib/python3.7/dist-packages (from jupyterlab==3.0.7->colabcode) (4.9.1)\n",
            "Requirement already satisfied: packaging in /usr/local/lib/python3.7/dist-packages (from jupyterlab==3.0.7->colabcode) (21.3)\n",
            "Requirement already satisfied: tornado>=6.1.0 in /usr/local/lib/python3.7/dist-packages (from jupyterlab==3.0.7->colabcode) (6.1)\n",
            "Requirement already satisfied: jupyter-server~=1.2 in /usr/local/lib/python3.7/dist-packages (from jupyterlab==3.0.7->colabcode) (1.12.1)\n",
            "Requirement already satisfied: jinja2>=2.10 in /usr/local/lib/python3.7/dist-packages (from jupyterlab==3.0.7->colabcode) (2.11.3)\n",
            "Requirement already satisfied: ipython in /usr/local/lib/python3.7/dist-packages (from jupyterlab==3.0.7->colabcode) (5.5.0)\n",
            "Requirement already satisfied: click==7.* in /usr/local/lib/python3.7/dist-packages (from uvicorn==0.13.1->colabcode) (7.1.2)\n",
            "Requirement already satisfied: h11>=0.8 in /usr/local/lib/python3.7/dist-packages (from uvicorn==0.13.1->colabcode) (0.12.0)\n",
            "Requirement already satisfied: typing-extensions in /usr/local/lib/python3.7/dist-packages (from uvicorn==0.13.1->colabcode) (3.10.0.2)\n",
            "Requirement already satisfied: MarkupSafe>=0.23 in /usr/local/lib/python3.7/dist-packages (from jinja2>=2.10->jupyterlab==3.0.7->colabcode) (2.0.1)\n",
            "Requirement already satisfied: argon2-cffi in /usr/local/lib/python3.7/dist-packages (from jupyter-server~=1.2->jupyterlab==3.0.7->colabcode) (21.1.0)\n",
            "Requirement already satisfied: ipython-genutils in /usr/local/lib/python3.7/dist-packages (from jupyter-server~=1.2->jupyterlab==3.0.7->colabcode) (0.2.0)\n",
            "Requirement already satisfied: nbformat in /usr/local/lib/python3.7/dist-packages (from jupyter-server~=1.2->jupyterlab==3.0.7->colabcode) (5.1.3)\n",
            "Requirement already satisfied: nbconvert in /usr/local/lib/python3.7/dist-packages (from jupyter-server~=1.2->jupyterlab==3.0.7->colabcode) (5.6.1)\n",
            "Requirement already satisfied: traitlets>=4.2.1 in /usr/local/lib/python3.7/dist-packages (from jupyter-server~=1.2->jupyterlab==3.0.7->colabcode) (5.1.1)\n",
            "Requirement already satisfied: terminado>=0.8.3 in /usr/local/lib/python3.7/dist-packages (from jupyter-server~=1.2->jupyterlab==3.0.7->colabcode) (0.12.1)\n",
            "Requirement already satisfied: Send2Trash in /usr/local/lib/python3.7/dist-packages (from jupyter-server~=1.2->jupyterlab==3.0.7->colabcode) (1.8.0)\n",
            "Requirement already satisfied: jupyter-client>=6.1.1 in /usr/local/lib/python3.7/dist-packages (from jupyter-server~=1.2->jupyterlab==3.0.7->colabcode) (6.1.12)\n",
            "Requirement already satisfied: anyio<4,>=3.1.0 in /usr/local/lib/python3.7/dist-packages (from jupyter-server~=1.2->jupyterlab==3.0.7->colabcode) (3.4.0)\n",
            "Requirement already satisfied: websocket-client in /usr/local/lib/python3.7/dist-packages (from jupyter-server~=1.2->jupyterlab==3.0.7->colabcode) (1.2.1)\n",
            "Requirement already satisfied: prometheus-client in /usr/local/lib/python3.7/dist-packages (from jupyter-server~=1.2->jupyterlab==3.0.7->colabcode) (0.12.0)\n",
            "Requirement already satisfied: pyzmq>=17 in /usr/local/lib/python3.7/dist-packages (from jupyter-server~=1.2->jupyterlab==3.0.7->colabcode) (22.3.0)\n",
            "Requirement already satisfied: sniffio>=1.1 in /usr/local/lib/python3.7/dist-packages (from anyio<4,>=3.1.0->jupyter-server~=1.2->jupyterlab==3.0.7->colabcode) (1.2.0)\n",
            "Requirement already satisfied: idna>=2.8 in /usr/local/lib/python3.7/dist-packages (from anyio<4,>=3.1.0->jupyter-server~=1.2->jupyterlab==3.0.7->colabcode) (2.10)\n",
            "Requirement already satisfied: python-dateutil>=2.1 in /usr/local/lib/python3.7/dist-packages (from jupyter-client>=6.1.1->jupyter-server~=1.2->jupyterlab==3.0.7->colabcode) (2.8.2)\n",
            "Requirement already satisfied: requests in /usr/local/lib/python3.7/dist-packages (from jupyterlab-server~=2.0->jupyterlab==3.0.7->colabcode) (2.23.0)\n",
            "Requirement already satisfied: entrypoints>=0.2.2 in /usr/local/lib/python3.7/dist-packages (from jupyterlab-server~=2.0->jupyterlab==3.0.7->colabcode) (0.3)\n",
            "Requirement already satisfied: json5 in /usr/local/lib/python3.7/dist-packages (from jupyterlab-server~=2.0->jupyterlab==3.0.7->colabcode) (0.9.6)\n",
            "Requirement already satisfied: jsonschema>=3.0.1 in /usr/local/lib/python3.7/dist-packages (from jupyterlab-server~=2.0->jupyterlab==3.0.7->colabcode) (4.2.1)\n",
            "Requirement already satisfied: babel in /usr/local/lib/python3.7/dist-packages (from jupyterlab-server~=2.0->jupyterlab==3.0.7->colabcode) (2.9.1)\n",
            "Requirement already satisfied: attrs>=17.4.0 in /usr/local/lib/python3.7/dist-packages (from jsonschema>=3.0.1->jupyterlab-server~=2.0->jupyterlab==3.0.7->colabcode) (21.2.0)\n",
            "Requirement already satisfied: pyrsistent!=0.17.0,!=0.17.1,!=0.17.2,>=0.14.0 in /usr/local/lib/python3.7/dist-packages (from jsonschema>=3.0.1->jupyterlab-server~=2.0->jupyterlab==3.0.7->colabcode) (0.18.0)\n",
            "Requirement already satisfied: importlib-metadata in /usr/local/lib/python3.7/dist-packages (from jsonschema>=3.0.1->jupyterlab-server~=2.0->jupyterlab==3.0.7->colabcode) (4.8.2)\n",
            "Requirement already satisfied: importlib-resources>=1.4.0 in /usr/local/lib/python3.7/dist-packages (from jsonschema>=3.0.1->jupyterlab-server~=2.0->jupyterlab==3.0.7->colabcode) (5.4.0)\n",
            "Requirement already satisfied: zipp>=3.1.0 in /usr/local/lib/python3.7/dist-packages (from importlib-resources>=1.4.0->jsonschema>=3.0.1->jupyterlab-server~=2.0->jupyterlab==3.0.7->colabcode) (3.6.0)\n",
            "Requirement already satisfied: notebook<7 in /usr/local/lib/python3.7/dist-packages (from nbclassic~=0.2->jupyterlab==3.0.7->colabcode) (5.3.1)\n",
            "Requirement already satisfied: ipykernel in /usr/local/lib/python3.7/dist-packages (from notebook<7->nbclassic~=0.2->jupyterlab==3.0.7->colabcode) (4.10.1)\n",
            "Requirement already satisfied: PyYAML in /usr/local/lib/python3.7/dist-packages (from pyngrok>=5.0.0->colabcode) (3.13)\n",
            "Requirement already satisfied: six>=1.5 in /usr/local/lib/python3.7/dist-packages (from python-dateutil>=2.1->jupyter-client>=6.1.1->jupyter-server~=1.2->jupyterlab==3.0.7->colabcode) (1.15.0)\n",
            "Requirement already satisfied: ptyprocess in /usr/local/lib/python3.7/dist-packages (from terminado>=0.8.3->jupyter-server~=1.2->jupyterlab==3.0.7->colabcode) (0.7.0)\n",
            "Requirement already satisfied: cffi>=1.0.0 in /usr/local/lib/python3.7/dist-packages (from argon2-cffi->jupyter-server~=1.2->jupyterlab==3.0.7->colabcode) (1.15.0)\n",
            "Requirement already satisfied: pycparser in /usr/local/lib/python3.7/dist-packages (from cffi>=1.0.0->argon2-cffi->jupyter-server~=1.2->jupyterlab==3.0.7->colabcode) (2.21)\n",
            "Requirement already satisfied: pytz>=2015.7 in /usr/local/lib/python3.7/dist-packages (from babel->jupyterlab-server~=2.0->jupyterlab==3.0.7->colabcode) (2018.9)\n",
            "Requirement already satisfied: pygments in /usr/local/lib/python3.7/dist-packages (from ipython->jupyterlab==3.0.7->colabcode) (2.6.1)\n",
            "Requirement already satisfied: simplegeneric>0.8 in /usr/local/lib/python3.7/dist-packages (from ipython->jupyterlab==3.0.7->colabcode) (0.8.1)\n",
            "Requirement already satisfied: decorator in /usr/local/lib/python3.7/dist-packages (from ipython->jupyterlab==3.0.7->colabcode) (4.4.2)\n",
            "Requirement already satisfied: pickleshare in /usr/local/lib/python3.7/dist-packages (from ipython->jupyterlab==3.0.7->colabcode) (0.7.5)\n",
            "Requirement already satisfied: setuptools>=18.5 in /usr/local/lib/python3.7/dist-packages (from ipython->jupyterlab==3.0.7->colabcode) (57.4.0)\n",
            "Requirement already satisfied: prompt-toolkit<2.0.0,>=1.0.4 in /usr/local/lib/python3.7/dist-packages (from ipython->jupyterlab==3.0.7->colabcode) (1.0.18)\n",
            "Requirement already satisfied: pexpect in /usr/local/lib/python3.7/dist-packages (from ipython->jupyterlab==3.0.7->colabcode) (4.8.0)\n",
            "Requirement already satisfied: wcwidth in /usr/local/lib/python3.7/dist-packages (from prompt-toolkit<2.0.0,>=1.0.4->ipython->jupyterlab==3.0.7->colabcode) (0.2.5)\n",
            "Requirement already satisfied: testpath in /usr/local/lib/python3.7/dist-packages (from nbconvert->jupyter-server~=1.2->jupyterlab==3.0.7->colabcode) (0.5.0)\n",
            "Requirement already satisfied: defusedxml in /usr/local/lib/python3.7/dist-packages (from nbconvert->jupyter-server~=1.2->jupyterlab==3.0.7->colabcode) (0.7.1)\n",
            "Requirement already satisfied: bleach in /usr/local/lib/python3.7/dist-packages (from nbconvert->jupyter-server~=1.2->jupyterlab==3.0.7->colabcode) (4.1.0)\n",
            "Requirement already satisfied: pandocfilters>=1.4.1 in /usr/local/lib/python3.7/dist-packages (from nbconvert->jupyter-server~=1.2->jupyterlab==3.0.7->colabcode) (1.5.0)\n",
            "Requirement already satisfied: mistune<2,>=0.8.1 in /usr/local/lib/python3.7/dist-packages (from nbconvert->jupyter-server~=1.2->jupyterlab==3.0.7->colabcode) (0.8.4)\n",
            "Requirement already satisfied: webencodings in /usr/local/lib/python3.7/dist-packages (from bleach->nbconvert->jupyter-server~=1.2->jupyterlab==3.0.7->colabcode) (0.5.1)\n",
            "Requirement already satisfied: pyparsing!=3.0.5,>=2.0.2 in /usr/local/lib/python3.7/dist-packages (from packaging->jupyterlab==3.0.7->colabcode) (3.0.6)\n",
            "Requirement already satisfied: chardet<4,>=3.0.2 in /usr/local/lib/python3.7/dist-packages (from requests->jupyterlab-server~=2.0->jupyterlab==3.0.7->colabcode) (3.0.4)\n",
            "Requirement already satisfied: certifi>=2017.4.17 in /usr/local/lib/python3.7/dist-packages (from requests->jupyterlab-server~=2.0->jupyterlab==3.0.7->colabcode) (2021.10.8)\n",
            "Requirement already satisfied: urllib3!=1.25.0,!=1.25.1,<1.26,>=1.21.1 in /usr/local/lib/python3.7/dist-packages (from requests->jupyterlab-server~=2.0->jupyterlab==3.0.7->colabcode) (1.24.3)\n"
          ]
        }
      ]
    },
    {
      "cell_type": "code",
      "metadata": {
        "id": "9gWoWWMGXFUj"
      },
      "source": [
        "server.run_app(app = app)"
      ],
      "execution_count": null,
      "outputs": []
    },
    {
      "cell_type": "code",
      "metadata": {
        "colab": {
          "base_uri": "https://localhost:8080/"
        },
        "id": "nlfesxaOiZuM",
        "outputId": "7238423e-8967-486b-d376-bb9ddd668ec6"
      },
      "source": [
        ""
      ],
      "execution_count": null,
      "outputs": [
        {
          "output_type": "stream",
          "name": "stdout",
          "text": [
            "Public URL: NgrokTunnel: \"https://2e63-34-74-185-217.ngrok.io\" -> \"http://localhost:15000\"\n"
          ]
        }
      ]
    }
  ]
}